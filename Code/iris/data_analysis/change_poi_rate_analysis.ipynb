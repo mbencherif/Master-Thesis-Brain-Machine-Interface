{
 "cells": [
  {
   "cell_type": "code",
   "execution_count": 1,
   "metadata": {
    "collapsed": true
   },
   "outputs": [],
   "source": [
    "import numpy as np\n",
    "import matplotlib.pyplot as plt"
   ]
  },
  {
   "cell_type": "markdown",
   "metadata": {},
   "source": [
    "# Tests\n",
    "10 cycles (train and test snn) with different:\n",
    "- noise_poi_rate\n",
    "- prob_noise_poi_conn"
   ]
  },
  {
   "cell_type": "markdown",
   "metadata": {},
   "source": [
    "### Test 1: \n",
    "- noise_poi_rate = 10.\n",
    "- prob_noise_poi_conn = 0.02"
   ]
  },
  {
   "cell_type": "code",
   "execution_count": 31,
   "metadata": {
    "collapsed": true
   },
   "outputs": [],
   "source": [
    "clf_rates_1 = np.array([0.6, 0.5, 0.8, 0.5 , 0.6 , 0.7 , 0.8 , 0.5 , 0.7 , 0.8 ])"
   ]
  },
  {
   "cell_type": "code",
   "execution_count": 32,
   "metadata": {
    "collapsed": false
   },
   "outputs": [
    {
     "name": "stdout",
     "output_type": "stream",
     "text": [
      "Mean = 0.65, Std. Dev. = 0.12\n"
     ]
    }
   ],
   "source": [
    "mean_1 = np.mean(clf_rates_1)\n",
    "std_dev_1 = np.std(clf_rates_1)\n",
    "print(\"Mean = {:1.2}, Std. Dev. = {:1.3}\".format(mean_1, std_dev_1))"
   ]
  },
  {
   "cell_type": "markdown",
   "metadata": {},
   "source": [
    "## Test 2: \n",
    "- noise_poi_rate = 5.\n",
    "- prob_noise_poi_conn = 0.02"
   ]
  },
  {
   "cell_type": "code",
   "execution_count": 33,
   "metadata": {
    "collapsed": true
   },
   "outputs": [],
   "source": [
    "clf_rates_2 = np.array([0.4, 0.6, 0.7, 0.6 , 0.5 , 0.7 , 0.6 , 0.7 , 0.7 , 0.3 ])"
   ]
  },
  {
   "cell_type": "code",
   "execution_count": 34,
   "metadata": {
    "collapsed": false
   },
   "outputs": [
    {
     "name": "stdout",
     "output_type": "stream",
     "text": [
      "Mean = 0.58, Std. Dev. = 0.133\n"
     ]
    }
   ],
   "source": [
    "mean_2 = np.mean(clf_rates_2)\n",
    "std_dev_2 = np.std(clf_rates_2)\n",
    "print(\"Mean = {:1.2}, Std. Dev. = {:1.3}\".format(mean_2, std_dev_2))"
   ]
  },
  {
   "cell_type": "markdown",
   "metadata": {},
   "source": [
    "### Test 3: \n",
    "- noise_poi_rate = 5.\n",
    "- prob_noise_poi_conn = 0."
   ]
  },
  {
   "cell_type": "code",
   "execution_count": 35,
   "metadata": {
    "collapsed": true
   },
   "outputs": [],
   "source": [
    "clf_rates_3 = np.array([0.5, 0.7, 0.6, 0.5 , 0.7 , 0.5 , 0.6 , 0.6 , 0.4 , 0.6 ])"
   ]
  },
  {
   "cell_type": "code",
   "execution_count": 36,
   "metadata": {
    "collapsed": false
   },
   "outputs": [
    {
     "name": "stdout",
     "output_type": "stream",
     "text": [
      "Mean = 0.57, Std. Dev. = 0.09\n"
     ]
    }
   ],
   "source": [
    "mean_3 = np.mean(clf_rates_3)\n",
    "std_dev_3 = np.std(clf_rates_3)\n",
    "print(\"Mean = {:1.2}, Std. Dev. = {:1.3}\".format(mean_3, std_dev_3))"
   ]
  },
  {
   "cell_type": "code",
   "execution_count": null,
   "metadata": {
    "collapsed": true
   },
   "outputs": [],
   "source": []
  }
 ],
 "metadata": {
  "anaconda-cloud": {},
  "kernelspec": {
   "display_name": "Python 3",
   "language": "python",
   "name": "python3"
  },
  "language_info": {
   "codemirror_mode": {
    "name": "ipython",
    "version": 3
   },
   "file_extension": ".py",
   "mimetype": "text/x-python",
   "name": "python",
   "nbconvert_exporter": "python",
   "pygments_lexer": "ipython3",
   "version": "3.5.2"
  }
 },
 "nbformat": 4,
 "nbformat_minor": 1
}
