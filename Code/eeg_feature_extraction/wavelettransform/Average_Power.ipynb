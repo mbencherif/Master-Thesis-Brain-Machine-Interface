{
 "cells": [
  {
   "cell_type": "code",
   "execution_count": 2,
   "metadata": {
    "collapsed": false
   },
   "outputs": [
    {
     "name": "stdout",
     "output_type": "stream",
     "text": [
      "Once deleted, variables cannot be recovered. Proceed (y/[n])? y\n"
     ]
    }
   ],
   "source": [
    "%reset\n",
    "%matplotlib inline\n",
    "\n",
    "import numpy as np\n",
    "import scipy.io\n",
    "import pywt\n",
    "import matplotlib.pylab as plt\n",
    "from scipy import signal\n",
    "from sklearn.preprocessing import StandardScaler, normalize\n",
    "import mne\n",
    "import pandas as pd\n",
    "from scipy.signal import lfilter, butter"
   ]
  },
  {
   "cell_type": "markdown",
   "metadata": {},
   "source": [
    "# Load Data"
   ]
  },
  {
   "cell_type": "code",
   "execution_count": 5,
   "metadata": {
    "collapsed": false,
    "scrolled": true
   },
   "outputs": [
    {
     "name": "stdout",
     "output_type": "stream",
     "text": [
      "Shapes (with NaN labels): data=(557040, 3), labels=(144,), trials=(144,)\n",
      "Non NaN-labels:  144\n"
     ]
    }
   ],
   "source": [
    "#### BCI Competition 2008 – Graz data set B\n",
    "if 0:\n",
    "    # - already filterd between 0.5 and 30 Hz\n",
    "    # - 's':              two channel data (C3,C4)\n",
    "    # - 'HDR.TRIG':       beginning of each trial\n",
    "    # - 'HDR.Classlabel': can contain: 1,2,NaN     => 1 and 2: class labels, NaN: test set\n",
    "    #\n",
    "    # - - - - - - - - - - - - - - - - - - - - - - - - - - - - - - - - - - - - - - - - - - - -\n",
    "\n",
    "    # Parameter\n",
    "    freq_s = 125    # Hz\n",
    "    trial_t = 8    # sec\n",
    "    #\n",
    "    # - - - - - - - - - - - - - - - - - - - - - - - - - - - - - - - - - - - - - - - - - - - -\n",
    "\n",
    "    # Data path\n",
    "    data_path = \"/Users/leonardrychly/Dropbox/[TUM]/4. WiSe 1617/Masterarbeit/Data/eeg/Gratz_data_III/3_b/O3VR.mat\"\n",
    "    #data_path = \"/Users/leonardrychly/Dropbox/[TUM]/4. WiSe 1617/Masterarbeit/Data/eeg/Gratz_data_III/3_b/S4b.mat\"\n",
    "    #data_path = \"/Users/leonardrychly/Dropbox/[TUM]/4. WiSe 1617/Masterarbeit/Data/eeg/Gratz_data_III/3_b/X11b.mat\"\n",
    "\n",
    "    mat = scipy.io.loadmat(data_path)    # dict_keys(['__header__', 's', '__globals__', '__version__', 'HDR'])\n",
    "    raw_data = mat['s']\n",
    "    labels = mat['HDR'][0][0][33].flatten()    # HDR.Classlabel\n",
    "    trials = mat['HDR'][0][0][34].flatten()    # HDR.TRIG\n",
    "    \n",
    "    # Remove NaN labels and trials\n",
    "    if 1:\n",
    "        idxs_1 = np.where(labels == 1)[0]\n",
    "        idxs_2 = np.where(labels == 2)[0]\n",
    "        correct_idxs = np.concatenate((idxs_1, idxs_2))\n",
    "        correct_idxs = np.sort(correct_idxs)\n",
    "        labels = labels[correct_idxs]\n",
    "        trials = trials[correct_idxs]\n",
    "        \n",
    "    # Interpolate NaN values\n",
    "    if 1:\n",
    "        raw_data = pd.DataFrame(raw_data).interpolate().values\n",
    "\n",
    "    print('Shapes (with NaN labels): data={}, labels={}, trials={}'.format(raw_data.shape, labels.shape, trials.shape))\n",
    "    print('Non NaN-labels: ', len(np.where(labels == 1)[0]) + len(np.where(labels == 2)[0]))\n",
    "\n",
    "    \n",
    "    \n",
    "### Graz data (BCI Competition II, Data set III)  \n",
    "if 0:\n",
    "    # Parameter\n",
    "    freq_s = 128    # Hz\n",
    "    trial_t = 8    # sec\n",
    "    \n",
    "    # Data path\n",
    "    data_path = \"/Users/leonardrychly/Dropbox/[TUM]/4. WiSe 1617/Masterarbeit/Data/eeg/Graz_BCI Competition_II_data_III/dataset_BCIcomp1.mat\"\n",
    "    \n",
    "    # dict_keys(['Copyright', '__version__', 'x_test', '__header__', '__globals__', 'x_train', 'y_train'])\n",
    "    mat = scipy.io.loadmat(data_path)\n",
    "    raw_data = mat['x_train']\n",
    "    labels = mat['y_train'].flatten()\n",
    "    \n",
    "    raw_data = raw_data.reshape(-1,3)\n",
    "    raw_data = np.hstack((raw_data.T[0].reshape((-1,1)), raw_data.T[2].reshape(-1,1)))\n",
    "\n",
    "    trials = np.arange(0,140*1152,1152)\n",
    "    \n",
    "    print(\"raw_data =\\t{}\\nlabels =\\t{}\\ntrials =\\t{}\\nfreq_s =\\t{} Hz\".format(raw_data.shape, labels.shape, \n",
    "                                                                       trials.shape, freq_s))\n",
    "    \n",
    "    \n",
    "### NST Data\n",
    "if 1:\n",
    "    # Parameter\n",
    "    trial_t = 6    # sec\n",
    "    \n",
    "    path = \"/Users/leonardrychly/Dropbox/[TUM]/4. WiSe 1617/Masterarbeit/Data/eeg\"\n",
    "    \n",
    "    if 0: # Emec \n",
    "\n",
    "        data_dir1 = \"/NST-datasets/Emec-data/s1.mat\"\n",
    "        data_dir2 = \"/NST-datasets/Emec-data/s2.mat\"\n",
    "        data_dir3 = \"/NST-datasets/Emec-data/s3.mat\"\n",
    "\n",
    "\n",
    "    if 1: # Christoph \n",
    "\n",
    "        data_dir1 = \"/NST-datasets/Christoph-data/s1.mat\"\n",
    "        data_dir2 = \"/NST-datasets/Christoph-data/s2.mat\"\n",
    "        data_dir3 = \"/NST-datasets/Christoph-data/s3.mat\"\n",
    "\n",
    "\n",
    "    if 0: # Lukas\n",
    "\n",
    "        data_dir1 = \"/NST-datasets/Lukas-data/s1.mat\"\n",
    "        data_dir2 = \"/NST-datasets/Lukas-data/s2.mat\"\n",
    "        data_dir3 = \"/NST-datasets/Lukas-data/s3.mat\"\n",
    "\n",
    "\n",
    "    if 0: # Alona\n",
    "\n",
    "        data_dir1 = \"/NST-datasets/Alona-data/s1.mat\"\n",
    "        data_dir2 = \"/NST-datasets/Alona-data/s2.mat\"\n",
    "        data_dir3 = \"/NST-datasets/Alona-data/s3.mat\"\n",
    "\n",
    "\n",
    "    if 0: # Leonard\n",
    "\n",
    "        data_dir1 = \"/NST-datasets/Leonard-data/s1.mat\"\n",
    "        data_dir2 = \"/NST-datasets/Leonard-data/s2.mat\"\n",
    "        data_dir3 = \"/NST-datasets/Leonard-data/s3.mat\"\n",
    "\n",
    "    mat1 = scipy.io.loadmat(path + data_dir1)    # dict_keys(['__header__', 'X', '__globals__', '__version__', 'Y'])\n",
    "    mat2 = scipy.io.loadmat(path + data_dir2)  \n",
    "    mat3 = scipy.io.loadmat(path + data_dir3)  \n",
    "    \n",
    "    # read matlab data \n",
    "    raw_data1 = mat1['X'][:,1:3]\n",
    "    labels1= mat1['Y'][0]\n",
    "    trials1= mat1['trial'][0]\n",
    "    raw_data2 = mat2['X'][:,1:3]\n",
    "    labels2= mat2['Y'][0]\n",
    "    trials2= mat2['trial'][0]\n",
    "    raw_data3 = mat3['X'][:,1:3]\n",
    "    labels3= mat3['Y'][0]\n",
    "    trials3= mat3['trial'][0]\n",
    "\n",
    "\n",
    "    trials2 += raw_data1.T.shape[1]\n",
    "    trials3 += raw_data1.T.shape[1] + raw_data2.T.shape[1]\n",
    "\n",
    "\n",
    "    #combine matrices together \n",
    "    raw_data = np.concatenate((raw_data1, raw_data2, raw_data3))\n",
    "    labels = np.concatenate((labels1,labels2,labels3))\n",
    "    trials = np.concatenate((trials1, trials2, trials3))\n",
    "\n",
    "    # Remove class 3\n",
    "    c3_idxs = np.where(labels==3)[0]\n",
    "    labels = np.delete(labels, c3_idxs)\n",
    "    trials = np.delete(trials, c3_idxs)\n",
    "    \n",
    "    \n",
    "    freq_s = mat1['Fs'].flatten()[0]\n",
    "\n",
    "    \n",
    "    print('Shapes (with NaN labels): data={}, labels={}, trials={}'.format(raw_data.shape, labels.shape, trials.shape))\n",
    "    print('Non NaN-labels: ', len(np.where(labels == 1)[0]) + len(np.where(labels == 2)[0]))"
   ]
  },
  {
   "cell_type": "code",
   "execution_count": 6,
   "metadata": {
    "collapsed": false
   },
   "outputs": [
    {
     "data": {
      "text/plain": [
       "(0, 0, 0)"
      ]
     },
     "execution_count": 6,
     "metadata": {},
     "output_type": "execute_result"
    }
   ],
   "source": [
    "np.isnan(raw_data).sum(), np.isnan(labels).sum(), np.isnan(trials).sum()"
   ]
  },
  {
   "cell_type": "code",
   "execution_count": null,
   "metadata": {
    "collapsed": true
   },
   "outputs": [],
   "source": []
  },
  {
   "cell_type": "code",
   "execution_count": null,
   "metadata": {
    "collapsed": true
   },
   "outputs": [],
   "source": []
  },
  {
   "cell_type": "code",
   "execution_count": null,
   "metadata": {
    "collapsed": true
   },
   "outputs": [],
   "source": []
  },
  {
   "cell_type": "code",
   "execution_count": 7,
   "metadata": {
    "collapsed": true
   },
   "outputs": [],
   "source": [
    "# - Create MNE Object from data- - - - - - - - - - - - - - - - - - - - - - - - - - - - - - -\n",
    "if 0:\n",
    "    info = mne.create_info(ch_names = ['eeg_c3', 'eeg_c4'],\n",
    "                           ch_types = ['eeg','eeg'],\n",
    "                           sfreq = freq_s)\n",
    "    mne_raw = mne.io.RawArray(data = raw_data.T,\n",
    "                              info = info)\n",
    "    "
   ]
  },
  {
   "cell_type": "markdown",
   "metadata": {},
   "source": [
    "### Band pass filter"
   ]
  },
  {
   "cell_type": "code",
   "execution_count": null,
   "metadata": {
    "collapsed": true
   },
   "outputs": [],
   "source": []
  },
  {
   "cell_type": "code",
   "execution_count": 8,
   "metadata": {
    "collapsed": true
   },
   "outputs": [],
   "source": [
    "# - - - SciPy Band Pass Filter - - - - - - - - - - - - - - - - - - - - - - - - - - - - - -\n",
    "\n",
    "if 0:\n",
    "    from scipy.signal import butter, lfilter, freqz\n",
    "\n",
    "    def butter_bandpass_filter(data, lowcut, highcut, fs, order=5):\n",
    "        nyq = 0.5 * fs\n",
    "        low = lowcut / nyq\n",
    "        high = highcut / nyq\n",
    "        b, a = butter(order, [low, high], btype='band')\n",
    "        \n",
    "        y = lfilter(b, a, data)\n",
    "        return y\n",
    "\n",
    "\n",
    "    ### Paramerter\n",
    "    lowcut = 10    # Hz\n",
    "    highcut = 12    # Hz\n",
    "\n",
    "    # Plot before filter\n",
    "    plt.figure()\n",
    "    plt.clf()\n",
    "    plt.plot(raw_data[trials[0]+2*freq_s : trials[0]+8*freq_s], alpha=0.7)\n",
    "    plt.title(\"Unfiltered Data\")\n",
    "    \n",
    "    # Filter\n",
    "    #filtered_ch1 = butter_bandpass_filter(raw_data[:,0], lowcut, highcut, freq_s, order=5)\n",
    "    #filtered_ch2 = butter_bandpass_filter(raw_data[:,1], lowcut, highcut, freq_s, order=5)         \n",
    "    #raw_data = np.hstack((filtered_ch1.reshape((-1,1)), filtered_ch2.reshape(-1,1)))\n",
    "    \n",
    "    # Filter\n",
    "    raw_filt = np.zeros(raw_data.shape)\n",
    "    for i in range(raw_data.shape[1]):    # iterate over number of channels\n",
    "        raw_filt.T[i] = butter_bandpass_filter(raw_data[:,i], lowcut, highcut, freq_s, order=5)\n",
    "        \n",
    "    raw_data = raw_filt\n",
    "\n",
    "    # Plot after filter\n",
    "    plt.figure()\n",
    "    plt.clf()\n",
    "    plt.plot(raw_data[trials[0]+2*freq_s :trials[0]+8*freq_s], alpha=0.7)\n",
    "    plt.title(\"Filtered Data (8-30Hz)\")\n",
    "    \n",
    "    print('raw shape: ', raw_data.shape)\n",
    "    \n",
    "    "
   ]
  },
  {
   "cell_type": "code",
   "execution_count": 11,
   "metadata": {
    "collapsed": false
   },
   "outputs": [
    {
     "ename": "NameError",
     "evalue": "name 'lowcut' is not defined",
     "output_type": "error",
     "traceback": [
      "\u001b[0;31m---------------------------------------------------------------------------\u001b[0m",
      "\u001b[0;31mNameError\u001b[0m                                 Traceback (most recent call last)",
      "\u001b[0;32m<ipython-input-11-2ecad017af3d>\u001b[0m in \u001b[0;36m<module>\u001b[0;34m()\u001b[0m\n\u001b[1;32m     15\u001b[0m     \u001b[0mfiltered_ch1\u001b[0m \u001b[0;34m=\u001b[0m \u001b[0mbutter_bandstop_filter\u001b[0m\u001b[0;34m(\u001b[0m\u001b[0mraw_data\u001b[0m\u001b[0;34m[\u001b[0m\u001b[0;34m:\u001b[0m\u001b[0;34m,\u001b[0m\u001b[0;36m0\u001b[0m\u001b[0;34m]\u001b[0m\u001b[0;34m,\u001b[0m\u001b[0mw0\u001b[0m\u001b[0;34m,\u001b[0m\u001b[0mQ\u001b[0m\u001b[0;34m)\u001b[0m\u001b[0;34m\u001b[0m\u001b[0m\n\u001b[1;32m     16\u001b[0m \u001b[0;34m\u001b[0m\u001b[0m\n\u001b[0;32m---> 17\u001b[0;31m     \u001b[0mfiltered_ch2\u001b[0m \u001b[0;34m=\u001b[0m \u001b[0mbutter_bandstop_filter\u001b[0m\u001b[0;34m(\u001b[0m\u001b[0mraw_data\u001b[0m\u001b[0;34m[\u001b[0m\u001b[0;34m:\u001b[0m\u001b[0;34m,\u001b[0m\u001b[0;36m1\u001b[0m\u001b[0;34m]\u001b[0m\u001b[0;34m,\u001b[0m \u001b[0mlowcut\u001b[0m\u001b[0;34m,\u001b[0m \u001b[0mhighcut\u001b[0m\u001b[0;34m,\u001b[0m \u001b[0mfreq_s\u001b[0m\u001b[0;34m,\u001b[0m \u001b[0morder\u001b[0m\u001b[0;34m=\u001b[0m\u001b[0;36m6\u001b[0m\u001b[0;34m)\u001b[0m\u001b[0;34m\u001b[0m\u001b[0m\n\u001b[0m\u001b[1;32m     18\u001b[0m     \u001b[0mraw_data1\u001b[0m \u001b[0;34m=\u001b[0m \u001b[0mnp\u001b[0m\u001b[0;34m.\u001b[0m\u001b[0mhstack\u001b[0m\u001b[0;34m(\u001b[0m\u001b[0;34m(\u001b[0m\u001b[0mfiltered_ch1\u001b[0m\u001b[0;34m.\u001b[0m\u001b[0mreshape\u001b[0m\u001b[0;34m(\u001b[0m\u001b[0;34m(\u001b[0m\u001b[0;34m-\u001b[0m\u001b[0;36m1\u001b[0m\u001b[0;34m,\u001b[0m\u001b[0;36m1\u001b[0m\u001b[0;34m)\u001b[0m\u001b[0;34m)\u001b[0m\u001b[0;34m,\u001b[0m \u001b[0mfiltered_ch2\u001b[0m\u001b[0;34m.\u001b[0m\u001b[0mreshape\u001b[0m\u001b[0;34m(\u001b[0m\u001b[0;34m-\u001b[0m\u001b[0;36m1\u001b[0m\u001b[0;34m,\u001b[0m\u001b[0;36m1\u001b[0m\u001b[0;34m)\u001b[0m\u001b[0;34m)\u001b[0m\u001b[0;34m)\u001b[0m\u001b[0;34m\u001b[0m\u001b[0m\n\u001b[1;32m     19\u001b[0m \u001b[0;34m\u001b[0m\u001b[0m\n",
      "\u001b[0;31mNameError\u001b[0m: name 'lowcut' is not defined"
     ]
    }
   ],
   "source": [
    "if 1:\n",
    "    def notch_filter(w0, Q):\n",
    "        b, a = signal.iirnotch(w0, Q)\n",
    "        return b, a\n",
    "    def butter_bandstop_filter(data,w0, Q):\n",
    "        b, a = notch_filter(w0,Q)\n",
    "        y = lfilter(b, a, data)\n",
    "        return y\n",
    "\n",
    "\n",
    "    f0 = 50.0  # Frequency to be removed from signal (Hz)\n",
    "    Q = 30.0  # Quality factor\n",
    "    w0 = f0/(freq_s/2)\n",
    "    \n",
    "    filtered_ch1 = butter_bandstop_filter(raw_data[:,0],w0,Q)\n",
    "    \n",
    "    filtered_ch2 = butter_bandstop_filter(raw_data[:,1], lowcut, highcut, freq_s, order=6)         \n",
    "    raw_data1 = np.hstack((filtered_ch1.reshape((-1,1)), filtered_ch2.reshape(-1,1)))\n",
    "\n",
    "\n",
    "     # Plot after filter\n",
    "    plt.figure()\n",
    "    plt.clf()\n",
    "    plt.plot(raw_data1[trials[0]:trials[0]+1224, :], alpha=0.7)\n",
    "    plt.title(\"Notch Filtered Data (SciPy)\")\n",
    "\n",
    "    print('raw shape: ', raw_data1.shape, 'trial shape:', trials.shape, 'labels shape:', labels.shape)"
   ]
  },
  {
   "cell_type": "code",
   "execution_count": null,
   "metadata": {
    "collapsed": true
   },
   "outputs": [],
   "source": []
  },
  {
   "cell_type": "code",
   "execution_count": null,
   "metadata": {
    "collapsed": true
   },
   "outputs": [],
   "source": []
  },
  {
   "cell_type": "code",
   "execution_count": null,
   "metadata": {
    "collapsed": true
   },
   "outputs": [],
   "source": [
    "# - - - MNE Band Pass Filter and PSD - - - - - - - - - - - - - - - - - - - - - - - - - - - - - -\n",
    "if 0:\n",
    "    # Custom filter length\n",
    "    raw_temp = mne_raw.copy()\n",
    "    raw_mne_filtered = raw_temp.filter(l_freq=8, h_freq=12, \n",
    "                                      filter_length='auto', l_trans_bandwidth='auto',\n",
    "                                      h_trans_bandwidth='auto', n_jobs=1, method='fir', \n",
    "                                      iir_params=None, phase='zero', fir_window='hamming')\n",
    "    raw_filtered = np.hstack((raw_mne_filtered[0][0].reshape(-1,1), raw_mne_filtered[1][0].reshape(-1,1)))\n",
    "\n",
    "    # Plot filteres signal\n",
    "    plt.figure()\n",
    "    plt.clf()\n",
    "    plt.plot(raw_filtered[trials[0]: trials[0]+1000, :], alpha=0.7)\n",
    "    plt.title(\"Alpha-Filtered Data (MNE)\")\n",
    "    \n",
    "        \n",
    "    # Plot PSD\n",
    "    if 1:\n",
    "        #fig, axes = plt.subplots(nrows=1, ncols=2)\n",
    "\n",
    "        mne_raw.plot_psd(tmin = trials[0]/freq_s, tmax = trials[0]/freq_s + 8, \n",
    "                         fmin = 8, fmax = 12, picks=0,  color = 'red')\n",
    "        mne_raw.plot_psd(tmin = trials[10]/freq_s, tmax = trials[10]/freq_s + 8, \n",
    "                         fmin = 8, fmax = 12, picks=0, color = 'blue')\n",
    "        \n",
    "        mne_raw.plot_psd(tmin = trials[0]/freq_s, tmax = trials[0]/freq_s + 8, \n",
    "                         fmin = 8, fmax = 12)# average = False"
   ]
  },
  {
   "cell_type": "markdown",
   "metadata": {},
   "source": [
    "### Normalize  Raw EEG Data"
   ]
  },
  {
   "cell_type": "code",
   "execution_count": null,
   "metadata": {
    "collapsed": true
   },
   "outputs": [],
   "source": [
    "if 1:\n",
    "    mean = np.nanmean(raw_data, axis=0)    # = array([ 0.07365857,  0.07829843])\n",
    "    std_dev = np.nanstd(raw_data, axis=0)  # = array([ 5.06285483,  4.82875916])\n",
    "\n",
    "    raw_data_norm = (raw_data - mean) / std_dev\n",
    "    #raw_data_norm = (raw_data - mean) / np.nanmax(abs(raw_data))\n",
    "    \n",
    "    print(\"Mean =\\t{:.3f}\\nMin =\\t{:.3f}\\nMax =\\t{:.3f}\\nStd.Dev = {:.3f}\".format(np.nanmean(raw_data_norm),\n",
    "                                                                                  np.nanmin(raw_data_norm),\n",
    "                                                                                  np.nanmax(raw_data_norm),\n",
    "                                                                                  np.nanstd(raw_data_norm)))\n",
    "    raw_data = raw_data_norm"
   ]
  },
  {
   "cell_type": "code",
   "execution_count": null,
   "metadata": {
    "collapsed": true
   },
   "outputs": [],
   "source": [
    "if 0:    # if TRUE:  take MNE filtered data\n",
    "         # if FALSE: take SciPy filtered data\n",
    "    raw_data = raw_filtered"
   ]
  },
  {
   "cell_type": "markdown",
   "metadata": {},
   "source": [
    "# Extract Classes"
   ]
  },
  {
   "cell_type": "code",
   "execution_count": null,
   "metadata": {
    "collapsed": true
   },
   "outputs": [],
   "source": [
    "c1_idxs = np.where(labels == 1)[0]\n",
    "c2_idxs = np.where(labels == 2)[0]\n",
    "c1_trials = trials[c1_idxs]\n",
    "c2_trials = trials[c2_idxs]\n",
    "\n",
    "# Init arrays (#trials, length_trial)\n",
    "raw_ch0_c1 = np.zeros((len(c1_idxs), freq_s*trial_t))    # (... ,3072)\n",
    "raw_ch1_c1 = np.zeros((len(c1_idxs), freq_s*trial_t))\n",
    "raw_ch0_c2 = np.zeros((len(c2_idxs), freq_s*trial_t))\n",
    "raw_ch1_c2 = np.zeros((len(c2_idxs), freq_s*trial_t))\n",
    "\n",
    "# Add eeg trial data to array\n",
    "for i,(idx_c1, idx_c2) in enumerate(zip(c1_trials, c2_trials)):\n",
    "    # class 1\n",
    "    raw_ch0_c1[i,:] = raw_data.T[0][idx_c1: idx_c1 + freq_s*trial_t]\n",
    "    raw_ch1_c1[i,:] = raw_data.T[1][idx_c1: idx_c1 + freq_s*trial_t]\n",
    "    # class 2\n",
    "    raw_ch0_c2[i,:] = raw_data.T[0][idx_c2: idx_c2 + freq_s*trial_t]\n",
    "    raw_ch1_c2[i,:] = raw_data.T[1][idx_c2: idx_c2 + freq_s*trial_t]\n",
    "print('Shape: ', raw_ch0_c1.shape, raw_ch1_c1.shape, raw_ch0_c2.shape, raw_ch1_c2.shape)"
   ]
  },
  {
   "cell_type": "code",
   "execution_count": null,
   "metadata": {
    "collapsed": true
   },
   "outputs": [],
   "source": []
  },
  {
   "cell_type": "code",
   "execution_count": null,
   "metadata": {
    "collapsed": true
   },
   "outputs": [],
   "source": []
  },
  {
   "cell_type": "markdown",
   "metadata": {},
   "source": [
    "# Average Power"
   ]
  },
  {
   "cell_type": "markdown",
   "metadata": {},
   "source": [
    "### Calc Power"
   ]
  },
  {
   "cell_type": "code",
   "execution_count": null,
   "metadata": {
    "collapsed": true
   },
   "outputs": [],
   "source": [
    "### Power (elementwise power)\n",
    "# class 1\n",
    "power_ch0_c1 = np.power(raw_ch0_c1, 2)\n",
    "power_ch1_c1 = np.power(raw_ch1_c1, 2)\n",
    "# class 2\n",
    "power_ch0_c2 = np.power(raw_ch0_c2, 2) \n",
    "power_ch1_c2 = np.power(raw_ch1_c2, 2) \n",
    "\n",
    "print('Shape: ',power_ch0_c1.shape, power_ch1_c1.shape, power_ch0_c2.shape, power_ch1_c2.shape)"
   ]
  },
  {
   "cell_type": "markdown",
   "metadata": {},
   "source": [
    "### Calc Mean over trials"
   ]
  },
  {
   "cell_type": "code",
   "execution_count": null,
   "metadata": {
    "collapsed": true
   },
   "outputs": [],
   "source": [
    "### Mean Trail: mean power of all trials of one class \n",
    "# class 1\n",
    "meantrial_power_ch0_c1 = np.nanmean(power_ch0_c1, axis=0) \n",
    "meantrial_power_ch1_c1 = np.nanmean(power_ch1_c1, axis=0)\n",
    "# class 2\n",
    "meantrial_power_ch0_c2 = np.nanmean(power_ch0_c2, axis=0) #power_ch0.mean(0)\n",
    "meantrial_power_ch1_c2 = np.nanmean(power_ch1_c2, axis=0) #power_ch1.mean(0)\n",
    "\n",
    "print('Shape: ', meantrial_power_ch0_c1.shape, meantrial_power_ch1_c1.shape, \n",
    "                 meantrial_power_ch0_c2.shape, meantrial_power_ch1_c2.shape)"
   ]
  },
  {
   "cell_type": "markdown",
   "metadata": {},
   "source": [
    "### Plot"
   ]
  },
  {
   "cell_type": "code",
   "execution_count": null,
   "metadata": {
    "collapsed": true
   },
   "outputs": [],
   "source": [
    "if 1:\n",
    "    ### Average Power over classes\n",
    "    fig1, axes1 = plt.subplots(nrows=2, ncols=1)\n",
    "    fig1.tight_layout()\n",
    "    # class 1\n",
    "    axes1[0].set_title('Average Power of Class 1 (left hand)')\n",
    "    axes1[0].plot(meantrial_power_ch0_c1, label='Channel 0 (C3)', alpha=0.7, c='red')\n",
    "    axes1[0].plot(meantrial_power_ch1_c1, label='Channel 1 (C4)', alpha=0.7, c='blue')\n",
    "    axes1[0].legend(loc='upper right', shadow=True)\n",
    "    # class 2\n",
    "    axes1[1].set_title('Average Power of Class 2 (right hand)')\n",
    "    axes1[1].plot(meantrial_power_ch0_c2, label='Channel 0 (C3)', alpha=0.7, c='red')\n",
    "    axes1[1].plot(meantrial_power_ch1_c2, label='Channel 1 (C4)', alpha=0.7, c='blue')\n",
    "    axes1[1].legend(loc='upper right', shadow=True)\n",
    "\n",
    "\n",
    "    #### Average Power over channels\n",
    "    #fig2, axes2 = plt.subplots(nrows=2, ncols=1)\n",
    "    #fig2.tight_layout()\n",
    "    ## class 1\n",
    "    #axes2[0].set_title('Average Power of Channel 1 (C3)')\n",
    "    #axes2[0].plot(meantrial_power_ch0_c1, label='Class 1 (left)', alpha=0.6, c='red')\n",
    "    #axes2[0].plot(meantrial_power_ch0_c2, label='Class 2 (right)', alpha=0.6, c='blue')\n",
    "    #axes2[0].legend(loc='upper right', shadow=True)\n",
    "    ## class 2\n",
    "    #axes2[1].set_title('Average Power of Channel 2 (C4)')\n",
    "    #axes2[1].plot(meantrial_power_ch1_c1, label='Class 1 (left)', alpha=0.6, c='red')\n",
    "    #axes2[1].plot(meantrial_power_ch1_c2, label='Class 2 (right)', alpha=0.6, c='blue')\n",
    "    #axes2[1].legend(loc='upper right', shadow=True)"
   ]
  },
  {
   "cell_type": "markdown",
   "metadata": {},
   "source": [
    "# Discrete Wavlet Transform"
   ]
  },
  {
   "cell_type": "code",
   "execution_count": null,
   "metadata": {
    "collapsed": true
   },
   "outputs": [],
   "source": [
    "trial_t"
   ]
  },
  {
   "cell_type": "code",
   "execution_count": null,
   "metadata": {
    "collapsed": true
   },
   "outputs": [],
   "source": [
    "# DWT Level\n",
    "L = 6"
   ]
  },
  {
   "cell_type": "markdown",
   "metadata": {},
   "source": [
    "### DWT (mean coeffs)"
   ]
  },
  {
   "cell_type": "code",
   "execution_count": null,
   "metadata": {
    "collapsed": true
   },
   "outputs": [],
   "source": [
    "### Mean DWT Coefficients\n",
    "def dwt(raw_eeg_data, L):    \n",
    "    wt_coeffs = pywt.wavedec(data = raw_eeg_data, \n",
    "                             wavelet = 'db6',\n",
    "                             level = L)                        # For Fs = 128 Hz:\n",
    "    cAL_mean = np.nanmean(wt_coeffs[0], axis=0)                # A6:  0 Hz - 1 Hz\n",
    "    cDL_mean = np.nanmean(wt_coeffs[1], axis=0)                # D6:  1 Hz - 2 Hz\n",
    "    cDLm1_mean = np.nanmean(wt_coeffs[2], axis=0)              # D5:  2 Hz - 4 Hz\n",
    "    cDLm2_mean = np.nanmean(wt_coeffs[3], axis=0)              # D4:  4 Hz - 8 Hz\n",
    "    cDLm3_mean = np.nanmean(wt_coeffs[4], axis=0)              # D3:  8 Hz - 16 Hz\n",
    "    cDLm4_mean = np.nanmean(wt_coeffs[5], axis=0)              # D2:  16 Hz - 32 Hz\n",
    "    cDLm5_mean = np.nanmean(wt_coeffs[6], axis=0)              # D1:  32 Hz - 64 Hz\n",
    "    return [cAL_mean, cDL_mean, cDLm1_mean, cDLm2_mean, cDLm3_mean, cDLm4_mean]\n",
    "\n",
    "# Mean coeffs over all trials\n",
    "mean_coeff_ch0_c1 = dwt(raw_ch0_c1, L)\n",
    "mean_coeff_ch1_c1 = dwt(raw_ch1_c1, L)\n",
    "mean_coeff_ch0_c2 = dwt(raw_ch0_c2, L)\n",
    "mean_coeff_ch1_c2 = dwt(raw_ch1_c2, L)\n",
    "\n"
   ]
  },
  {
   "cell_type": "markdown",
   "metadata": {},
   "source": [
    "### DWT (data means)"
   ]
  },
  {
   "cell_type": "code",
   "execution_count": null,
   "metadata": {
    "collapsed": true
   },
   "outputs": [],
   "source": [
    "### DWT\n",
    "# Range of a trial to use for DWT in seconds\n",
    "start_t = 0     # 0\n",
    "end_t = 6     # trial_t\n",
    "\n",
    "wt_coeffs_ch0_c1 = pywt.wavedec(data = raw_ch0_c1[:, start_t*freq_s:end_t*freq_s].mean(axis=0), wavelet='db6',level=L)  #raw_ch0_c1.mean(axis=0)\n",
    "wt_coeffs_ch1_c1 = pywt.wavedec(data = raw_ch1_c1[:, start_t*freq_s:end_t*freq_s].mean(axis=0), wavelet='db6',level=L)\n",
    "wt_coeffs_ch0_c2 = pywt.wavedec(data = raw_ch0_c2[:, start_t*freq_s:end_t*freq_s].mean(axis=0), wavelet='db6',level=L)\n",
    "wt_coeffs_ch1_c2 = pywt.wavedec(data = raw_ch1_c2[:, start_t*freq_s:end_t*freq_s].mean(axis=0), wavelet='db6',level=L)\n",
    "wt_coeffs_ch1_c2[0].shape"
   ]
  },
  {
   "cell_type": "code",
   "execution_count": null,
   "metadata": {
    "collapsed": true
   },
   "outputs": [],
   "source": [
    "AL_ch0_c1 = wt_coeffs_ch0_c1[0]\n",
    "AL_ch0_c2 = wt_coeffs_ch0_c2[0]\n",
    "AL_ch1_c1 = wt_coeffs_ch1_c1[0]\n",
    "AL_ch1_c2 = wt_coeffs_ch1_c2[0]\n",
    "\n",
    "DL_ch0_c1 = wt_coeffs_ch0_c1[1]\n",
    "DL_ch0_c2 = wt_coeffs_ch0_c2[1]\n",
    "DL_ch1_c1 = wt_coeffs_ch1_c1[1]\n",
    "DL_ch1_c2 = wt_coeffs_ch1_c2[1]\n",
    "\n",
    "DLm1_ch0_c1 = wt_coeffs_ch0_c1[2]\n",
    "DLm1_ch0_c2 = wt_coeffs_ch0_c2[2]\n",
    "DLm1_ch1_c1 = wt_coeffs_ch1_c1[2]\n",
    "DLm1_ch1_c2 = wt_coeffs_ch1_c2[2]\n",
    "\n",
    "DLm2_ch0_c1 = wt_coeffs_ch0_c1[3]\n",
    "DLm2_ch0_c2 = wt_coeffs_ch0_c2[3]\n",
    "DLm2_ch1_c1 = wt_coeffs_ch1_c1[3]\n",
    "DLm2_ch1_c2 = wt_coeffs_ch1_c2[3]\n",
    "\n",
    "DLm3_ch0_c1 = wt_coeffs_ch0_c1[4]\n",
    "DLm3_ch0_c2 = wt_coeffs_ch0_c2[4]\n",
    "DLm3_ch1_c1 = wt_coeffs_ch1_c1[4]\n",
    "DLm3_ch1_c2 = wt_coeffs_ch1_c2[4]\n",
    "\n",
    "DLm4_ch0_c1 = wt_coeffs_ch0_c1[5]\n",
    "DLm4_ch0_c2 = wt_coeffs_ch0_c2[5]\n",
    "DLm4_ch1_c1 = wt_coeffs_ch1_c1[5]\n",
    "DLm4_ch1_c2 = wt_coeffs_ch1_c2[5]\n",
    "\n",
    "#D1_ch0_c1 = wt_coeffs_ch0_c1[6]\n",
    "#D1_ch0_c2 = wt_coeffs_ch0_c2[6]\n",
    "#D1_ch1_c1 = wt_coeffs_ch1_c1[6]\n",
    "#D1_ch1_c2 = wt_coeffs_ch1_c2[6]\n",
    "#\n",
    "#D3_ch0_c1.shape"
   ]
  },
  {
   "cell_type": "markdown",
   "metadata": {},
   "source": [
    "#### Plot DWT Coffs"
   ]
  },
  {
   "cell_type": "code",
   "execution_count": null,
   "metadata": {
    "collapsed": true
   },
   "outputs": [],
   "source": [
    "### AL\n",
    "# class 1\n",
    "fig_1, axis_1 = plt.subplots(2,1, sharex=True)\n",
    "fig_1.tight_layout()\n",
    "axis_1[0].plot(AL_ch0_c1, label='C3, c1')\n",
    "axis_1[0].plot(AL_ch1_c1, label='C4, c1')\n",
    "axis_1[0].legend()\n",
    "#axis_1[0].set_yscale('log')\n",
    "axis_1[0].set_title('DWT AL Coeffs (L={}, Fs={}Hz), Mean Coeffs (Class: Left)'.format(L, freq_s))\n",
    "axis_1[0].set_ylabel('AL')\n",
    "axis_1[0].xaxis.grid()\n",
    "axis_1[1].plot(AL_ch0_c2, label='C3, c2')\n",
    "axis_1[1].plot(AL_ch1_c2, label='C4, c2')\n",
    "axis_1[1].legend()\n",
    "#axis_1[1].set_yscale('log')\n",
    "axis_1[1].set_title('DWT AL Coeffs (L={}, Fs={}Hz), Mean Coeffs (Class: Right)'.format(L, freq_s))\n",
    "axis_1[1].set_ylabel('AL')\n",
    "axis_1[1].xaxis.grid()\n",
    "\n",
    "### DL\n",
    "# class 1\n",
    "fig_1, axis_1 = plt.subplots(2,1, sharex=True)\n",
    "fig_1.tight_layout()\n",
    "axis_1[0].plot(DL_ch0_c1, label='C3, c1',)\n",
    "axis_1[0].plot(DL_ch1_c1, label='C4, c1')\n",
    "axis_1[0].legend()\n",
    "#axis_1[0].set_yscale('log')\n",
    "axis_1[0].set_title('DWT DL Coeffs (L={}, Fs={}Hz), Mean Coeffs (Class: Left)'.format(L, freq_s))\n",
    "axis_1[0].set_ylabel('DL')\n",
    "axis_1[0].xaxis.grid()\n",
    "axis_1[1].plot(DL_ch0_c2, label='C3, c2')\n",
    "axis_1[1].plot(DL_ch1_c2, label='C4, c2')\n",
    "axis_1[1].legend()\n",
    "#axis_1[1].set_yscale('log')\n",
    "axis_1[1].set_title('DWT DL Coeffs (L={}, Fs={}Hz), Mean Coeffs (Class: Right)'.format(L, freq_s))\n",
    "axis_1[1].set_ylabel('DL')\n",
    "axis_1[1].xaxis.grid()\n",
    "\n",
    "### DL-1\n",
    "# class 1\n",
    "fig_1, axis_1 = plt.subplots(2,1, sharex=True)\n",
    "fig_1.tight_layout()\n",
    "axis_1[0].plot(DLm1_ch0_c1, label='C3, c1')\n",
    "axis_1[0].plot(DLm1_ch1_c1, label='C4, c1')\n",
    "axis_1[0].legend()\n",
    "#axis_1[0].set_yscale('log')\n",
    "axis_1[0].set_title('DWT DL-1 Coeffs (L={}, Fs={}Hz), Mean Coeffs (Class: Left)'.format(L, freq_s))\n",
    "axis_1[0].set_ylabel('DL-1')\n",
    "axis_1[0].xaxis.grid()\n",
    "axis_1[1].plot(DLm1_ch0_c2, label='C3, c2')\n",
    "axis_1[1].plot(DLm1_ch1_c2, label='C4, c2')\n",
    "axis_1[1].legend()\n",
    "#axis_1[1].set_yscale('log')\n",
    "axis_1[1].set_title('DWT DL-1 Coeffs (L={}, Fs={}Hz), Mean Coeffs (Class: Right)'.format(L, freq_s))\n",
    "axis_1[1].set_ylabel('DL-1')\n",
    "axis_1[1].xaxis.grid()\n",
    "\n",
    "### DL-2\n",
    "# class 1\n",
    "fig_1, axis_1 = plt.subplots(2,1, sharex=True)\n",
    "fig_1.tight_layout()\n",
    "axis_1[0].plot(DLm2_ch0_c1, label='C3, c1')\n",
    "axis_1[0].plot(DLm2_ch1_c1, label='C4, c1')\n",
    "axis_1[0].legend()\n",
    "#axis_1[0].set_yscale('log')\n",
    "axis_1[0].set_title('DWT DL-2 Coeffs (L={}, Fs={}Hz), Mean Coeffs (Class: Left)'.format(L, freq_s))\n",
    "axis_1[0].set_ylabel('DL-2')\n",
    "axis_1[0].xaxis.grid()\n",
    "axis_1[1].plot(DLm2_ch0_c2, label='C3, c2')\n",
    "axis_1[1].plot(DLm2_ch1_c2, label='C4, c2')\n",
    "axis_1[1].legend()\n",
    "#axis_1[1].set_yscale('log')\n",
    "axis_1[1].set_title('DWT DL-2 Coeffs (L={}, Fs={}Hz), Mean Coeffs (Class: Right)'.format(L, freq_s))\n",
    "axis_1[1].set_ylabel('DL-2')\n",
    "axis_1[1].xaxis.grid()\n",
    "\n",
    "### DL-3\n",
    "# class 1\n",
    "fig_1, axis_1 = plt.subplots(2,1, sharex=True)\n",
    "fig_1.tight_layout()\n",
    "axis_1[0].plot(DLm3_ch0_c1, label='C3, c1')\n",
    "axis_1[0].plot(DLm3_ch1_c1, label='C4, c1')\n",
    "axis_1[0].legend()\n",
    "#axis_1[0].set_yscale('log')\n",
    "axis_1[0].set_title('DWT DL-3 Coeffs (L={}, Fs={}Hz), Mean Coeffs (Class: Left)'.format(L, freq_s))\n",
    "axis_1[0].set_ylabel('DL-3')\n",
    "axis_1[0].xaxis.grid()\n",
    "axis_1[1].plot(DLm3_ch0_c2, label='C3, c2')\n",
    "axis_1[1].plot(DLm3_ch1_c2, label='C4, c2')\n",
    "axis_1[1].legend()\n",
    "#axis_1[1].set_yscale('log')\n",
    "axis_1[1].set_title('DWT DL-3 Coeffs (L={}, Fs={}Hz), Mean Coeffs (Class: Right)'.format(L, freq_s))\n",
    "axis_1[1].set_ylabel('DL-3')\n",
    "axis_1[1].xaxis.grid()"
   ]
  },
  {
   "cell_type": "code",
   "execution_count": null,
   "metadata": {
    "collapsed": true
   },
   "outputs": [],
   "source": []
  },
  {
   "cell_type": "markdown",
   "metadata": {},
   "source": [
    "#### PSD using matplotlib.pylab.psd()"
   ]
  },
  {
   "cell_type": "code",
   "execution_count": null,
   "metadata": {
    "collapsed": true
   },
   "outputs": [],
   "source": [
    "#power_ch0_c1, freqs_ch0_c1 = plt.psd(x=D3_ch0_c1, Fs=freq_s, label='ch0 (C3), C1 (left)')\n",
    "#power_ch0_c2, freqs_ch0_c2 = plt.psd(x=D3_ch1_c1, Fs=freq_s, label='ch1 (C4), C1 (left)')\n",
    "#plt.legend(loc=4)\n",
    "#plt.title('Mean data DWT-D3 (Left)')"
   ]
  },
  {
   "cell_type": "code",
   "execution_count": null,
   "metadata": {
    "collapsed": true
   },
   "outputs": [],
   "source": [
    "#power_ch1_c1, freqs_ch1_c1 = plt.psd(x=D3_ch0_c2, Fs=freq_s, label='ch0 (C3), C2 (right)')\n",
    "#power_ch1_c2, freqs_ch1_c2 = plt.psd(x=D3_ch1_c2, Fs=freq_s, label='ch1 (C4), C2 (right)')\n",
    "#plt.legend(loc=4)\n",
    "#plt.title('Mean data DWT-D3 (Right)')"
   ]
  },
  {
   "cell_type": "markdown",
   "metadata": {},
   "source": [
    "#### PSD using welch"
   ]
  },
  {
   "cell_type": "code",
   "execution_count": null,
   "metadata": {
    "collapsed": true
   },
   "outputs": [],
   "source": [
    "### PSD using mean DWT-coeffs\n",
    "# AL\n",
    "AL_f_ch0_c1, AL_psd_ch0_c1 = signal.welch(AL_ch0_c1, fs=freq_s/(2**L), nperseg=AL_ch0_c1.shape[0])\n",
    "AL_f_ch0_c2, AL_psd_ch0_c2 = signal.welch(AL_ch0_c2, fs=freq_s/(2**L), nperseg=AL_ch0_c2.shape[0])\n",
    "AL_f_ch1_c1, AL_psd_ch1_c1 = signal.welch(AL_ch1_c1, fs=freq_s/(2**L), nperseg=AL_ch1_c1.shape[0])\n",
    "AL_f_ch1_c2, AL_psd_ch1_c2 = signal.welch(AL_ch1_c2, fs=freq_s/(2**L), nperseg=AL_ch1_c2.shape[0])\n",
    "# DL\n",
    "DL_f_ch0_c1, DL_psd_ch0_c1 = signal.welch(DL_ch0_c1, fs=freq_s/(2**L), nperseg=DL_ch0_c1.shape[0])\n",
    "DL_f_ch0_c2, DL_psd_ch0_c2 = signal.welch(DL_ch0_c2, fs=freq_s/(2**L), nperseg=DL_ch0_c2.shape[0])\n",
    "DL_f_ch1_c1, DL_psd_ch1_c1 = signal.welch(DL_ch1_c1, fs=freq_s/(2**L), nperseg=DL_ch1_c1.shape[0])\n",
    "DL_f_ch1_c2, DL_psd_ch1_c2 = signal.welch(DL_ch1_c2, fs=freq_s/(2**L), nperseg=DL_ch1_c2.shape[0])\n",
    "# DL-1\n",
    "DLm1_f_ch0_c1, DLm1_psd_ch0_c1 = signal.welch(DLm1_ch0_c1, fs=freq_s/(2**(L-1)), nperseg=DLm1_ch0_c1.shape[0])\n",
    "DLm1_f_ch0_c2, DLm1_psd_ch0_c2 = signal.welch(DLm1_ch0_c2, fs=freq_s/(2**(L-1)), nperseg=DLm1_ch0_c2.shape[0])\n",
    "DLm1_f_ch1_c1, DLm1_psd_ch1_c1 = signal.welch(DLm1_ch1_c1, fs=freq_s/(2**(L-1)), nperseg=DLm1_ch1_c1.shape[0])\n",
    "DLm1_f_ch1_c2, DLm1_psd_ch1_c2 = signal.welch(DLm1_ch1_c2, fs=freq_s/(2**(L-1)), nperseg=DLm1_ch1_c2.shape[0])\n",
    "# DL-2\n",
    "DLm2_f_ch0_c1, DLm2_psd_ch0_c1 = signal.welch(DLm2_ch0_c1, fs=freq_s/(2**(L-2)), nperseg=DLm2_ch0_c1.shape[0])\n",
    "DLm2_f_ch0_c2, DLm2_psd_ch0_c2 = signal.welch(DLm2_ch0_c2, fs=freq_s/(2**(L-2)), nperseg=DLm2_ch0_c2.shape[0])\n",
    "DLm2_f_ch1_c1, DLm2_psd_ch1_c1 = signal.welch(DLm2_ch1_c1, fs=freq_s/(2**(L-2)), nperseg=DLm2_ch1_c1.shape[0])\n",
    "DLm2_f_ch1_c2, DLm2_psd_ch1_c2 = signal.welch(DLm2_ch1_c2, fs=freq_s/(2**(L-2)), nperseg=DLm2_ch1_c2.shape[0])\n",
    "# DL-3\n",
    "DLm3_f_ch0_c1, DLm3_psd_ch0_c1 = signal.welch(DLm3_ch0_c1, fs=freq_s/(2**(L-3)), nperseg=DLm3_ch0_c1.shape[0])\n",
    "DLm3_f_ch0_c2, DLm3_psd_ch0_c2 = signal.welch(DLm3_ch0_c2, fs=freq_s/(2**(L-3)), nperseg=DLm3_ch0_c2.shape[0])\n",
    "DLm3_f_ch1_c1, DLm3_psd_ch1_c1 = signal.welch(DLm3_ch1_c1, fs=freq_s/(2**(L-3)), nperseg=DLm3_ch1_c1.shape[0])\n",
    "DLm3_f_ch1_c2, DLm3_psd_ch1_c2 = signal.welch(DLm3_ch1_c2, fs=freq_s/(2**(L-3)), nperseg=DLm3_ch1_c2.shape[0])\n",
    "# DL-4\n",
    "DLm4_f_ch0_c1, DLm4_psd_ch0_c1 = signal.welch(DLm4_ch0_c1, fs=freq_s/(2**(L-4)), nperseg=DLm4_ch0_c1.shape[0])\n",
    "DLm4_f_ch0_c2, DLm4_psd_ch0_c2 = signal.welch(DLm4_ch0_c2, fs=freq_s/(2**(L-4)), nperseg=DLm4_ch0_c2.shape[0])\n",
    "DLm4_f_ch1_c1, DLm4_psd_ch1_c1 = signal.welch(DLm4_ch1_c1, fs=freq_s/(2**(L-4)), nperseg=DLm4_ch1_c1.shape[0])\n",
    "DLm4_f_ch1_c2, DLm4_psd_ch1_c2 = signal.welch(DLm4_ch1_c2, fs=freq_s/(2**(L-4)), nperseg=DLm4_ch1_c2.shape[0])\n",
    "## DL-5\n",
    "#DLm5_f_ch0_c1, DLm5_psd_ch0_c1 = signal.welch(DLm5_ch0_c1, fs=freq_s, nperseg=DLm5_ch0_c1.shape[0])\n",
    "#DLm5_f_ch0_c2, DLm5_psd_ch0_c2 = signal.welch(DLm5_ch0_c2, fs=freq_s, nperseg=DLm5_ch0_c2.shape[0])\n",
    "#DLm5_f_ch1_c1, DLm5_psd_ch1_c1 = signal.welch(DLm5_ch1_c1, fs=freq_s, nperseg=DLm5_ch1_c1.shape[0])\n",
    "#DLm5_f_ch1_c2, DLm5_psd_ch1_c2 = signal.welch(DLm5_ch1_c2, fs=freq_s, nperseg=DLm5_ch1_c2.shape[0])\n",
    "\n",
    "### AL\n",
    "# class 1\n",
    "fig_1, axis_1 = plt.subplots(2,1, sharex=True)\n",
    "fig_1.tight_layout()\n",
    "axis_1[0].plot(AL_f_ch0_c1, AL_psd_ch0_c1, label='C3, c1')\n",
    "axis_1[0].plot(AL_f_ch1_c1, AL_psd_ch1_c1, label='C4, c1')\n",
    "axis_1[0].legend()\n",
    "axis_1[0].set_yscale('log')\n",
    "axis_1[0].set_title('PSD of DWT AL Coeffs (L={}, Fs={}Hz), Mean Coeffs (Class: Left)'.format(L, freq_s))\n",
    "axis_1[0].set_ylabel('PSD [dB]')\n",
    "axis_1[0].xaxis.grid()\n",
    "# class 2\n",
    "axis_1[1].plot(AL_f_ch0_c2, AL_psd_ch0_c2, label='C3, c2')\n",
    "axis_1[1].plot(AL_f_ch1_c2, AL_psd_ch1_c2, label='C4, c2')\n",
    "axis_1[1].legend()\n",
    "axis_1[1].set_yscale('log')\n",
    "axis_1[1].set_title('PSD of DWT AL Coeffs (L={}, Fs={}Hz), Mean Coeffs (Class: Right)'.format(L, freq_s))\n",
    "axis_1[1].set_ylabel('PSD [dB]')\n",
    "#axis_1[1].set_xticks(np.arange(0,140,5))\n",
    "axis_1[1].xaxis.grid()\n",
    "\n",
    "### DL\n",
    "# class 1\n",
    "fig_2, axis_2 = plt.subplots(2,1, sharex=True)\n",
    "fig_2.tight_layout()\n",
    "axis_2[0].plot(DL_f_ch0_c1, DL_psd_ch0_c1, label='C3, c1')\n",
    "axis_2[0].plot(DL_f_ch1_c1, DL_psd_ch1_c1, label='C4, c1')\n",
    "axis_2[0].legend()\n",
    "axis_2[0].set_yscale('log')\n",
    "axis_2[0].set_title('PSD of DWT DL Coeffs (L={}, Fs={}Hz), Mean Coeffs (Class: Left)'.format(L, freq_s))\n",
    "axis_2[0].set_ylabel('PSD [dB]')\n",
    "axis_2[0].xaxis.grid()\n",
    "# class 2\n",
    "axis_2[1].plot(DL_f_ch0_c2, DL_psd_ch0_c2, label='C3, c2')\n",
    "axis_2[1].plot(DL_f_ch1_c2, DL_psd_ch1_c2, label='C4, c2')\n",
    "axis_2[1].legend()\n",
    "axis_2[1].set_yscale('log')\n",
    "axis_2[1].set_title('PSD of DWT DL Coeffs (L={}, Fs={}Hz), Mean Coeffs (Class: Right)'.format(L, freq_s))\n",
    "axis_2[1].set_xlabel('Frequency [Hz]')\n",
    "axis_2[1].set_ylabel('PSD [dB]')\n",
    "#axis_2[1].set_xticks(np.arange(0,140,5))\n",
    "axis_2[1].xaxis.grid()\n",
    "\n",
    "### DL-1\n",
    "# class 1\n",
    "fig_3, axis_3 = plt.subplots(2,1, sharex=True)\n",
    "fig_3.tight_layout()\n",
    "axis_3[0].plot(DLm1_f_ch0_c1, DLm1_psd_ch0_c1, label='C3, c1')\n",
    "axis_3[0].plot(DLm1_f_ch1_c1, DLm1_psd_ch1_c1, label='C4, c1')\n",
    "axis_3[0].legend()\n",
    "axis_3[0].set_yscale('log')\n",
    "axis_3[0].set_title('PSD of DWT DL-1 Coeffs (L={}, Fs={}Hz), Mean Coeffs (Class: Left)'.format(L, freq_s))\n",
    "axis_3[0].set_ylabel('PSD [dB]')\n",
    "axis_3[0].xaxis.grid()\n",
    "# class 2\n",
    "axis_3[1].plot(DLm1_f_ch0_c2, DLm1_psd_ch0_c2, label='C3, c2')\n",
    "axis_3[1].plot(DLm1_f_ch1_c2, DLm1_psd_ch1_c2, label='C4, c2')\n",
    "axis_3[1].legend()\n",
    "axis_3[1].set_yscale('log')\n",
    "axis_3[1].set_title('PSD of DWT DL-1 Coeffs (L={}, Fs={}Hz), Mean Coeffs (Class: Right)'.format(L, freq_s))\n",
    "axis_3[1].set_xlabel('Frequency [Hz]')\n",
    "axis_3[1].set_ylabel('PSD [dB]')\n",
    "#axis_3[1].set_xticks(np.arange(0,140,5))\n",
    "axis_3[1].xaxis.grid()\n",
    "\n",
    "### DL-2\n",
    "# class 1\n",
    "fig_4, axis_4 = plt.subplots(2,1, sharex=True)\n",
    "fig_4.tight_layout()\n",
    "axis_4[0].plot(DLm2_f_ch0_c1, DLm2_psd_ch0_c1, label='C3, c1')\n",
    "axis_4[0].plot(DLm2_f_ch1_c1, DLm2_psd_ch1_c1, label='C4, c1')\n",
    "axis_4[0].legend()\n",
    "axis_4[0].set_yscale('log')\n",
    "axis_4[0].set_title('PSD of DWT DL-2 Coeffs (L={}, Fs={}Hz), Mean Coeffs (Class: Left)'.format(L, freq_s))\n",
    "axis_4[0].set_ylabel('PSD [dB]')\n",
    "axis_4[0].xaxis.grid()\n",
    "# class 2\n",
    "axis_4[1].plot(DLm2_f_ch0_c2, DLm2_psd_ch0_c2, label='C3, c2')\n",
    "axis_4[1].plot(DLm2_f_ch1_c2, DLm2_psd_ch1_c2, label='C4, c2')\n",
    "axis_4[1].legend()\n",
    "axis_4[1].set_yscale('log')\n",
    "axis_4[1].set_title('PSD of DWT DL-2 Coeffs (L={}, Fs={}Hz), Mean Coeffs (Class: Right)'.format(L, freq_s))\n",
    "axis_4[1].set_xlabel('Frequency [Hz]')\n",
    "axis_4[1].set_ylabel('PSD [dB]')\n",
    "#axis_4[1].set_xticks(np.arange(0,140,5))\n",
    "axis_4[1].xaxis.grid()"
   ]
  },
  {
   "cell_type": "code",
   "execution_count": null,
   "metadata": {
    "collapsed": true
   },
   "outputs": [],
   "source": [
    "### DL-3\n",
    "# class 1\n",
    "fig_5, axis_5 = plt.subplots(2,1, sharex=True)\n",
    "fig_5.tight_layout()\n",
    "axis_5[0].plot(DLm3_f_ch0_c1, DLm3_psd_ch0_c1, label='C3, c1')\n",
    "axis_5[0].plot(DLm3_f_ch1_c1, DLm3_psd_ch1_c1, label='C4, c1')\n",
    "axis_5[0].legend()\n",
    "axis_5[0].set_yscale('log')\n",
    "axis_5[0].set_title('PSD of DWT DL-3 Coeffs (L={}, Fs={}Hz), Mean Coeffs (Class: Left)'.format(L, freq_s))\n",
    "#axis_5[0].set_xlabel('Frequency [Hz]')\n",
    "axis_5[0].set_ylabel('PSD [dB]')\n",
    "axis_5[0].xaxis.grid()\n",
    "# class 2\n",
    "axis_5[1].plot(DLm3_f_ch0_c2, DLm3_psd_ch0_c2, label='C3, c2')\n",
    "axis_5[1].plot(DLm3_f_ch1_c2, DLm3_psd_ch1_c2, label='C4, c2')\n",
    "axis_5[1].legend()\n",
    "axis_5[1].set_yscale('log')\n",
    "axis_5[1].set_title('PSD of DWT DL-3 Coeffs (L={}, Fs={}Hz), Mean Coeffs (Class: Right)'.format(L, freq_s))\n",
    "axis_5[1].set_xlabel('Frequency [Hz]')\n",
    "axis_5[1].set_ylabel('PSD [dB]')\n",
    "#axis_5[1].set_xticks(np.arange(0,140,5))\n",
    "axis_5[1].xaxis.grid()\n",
    "\n",
    "### DL-4\n",
    "# class 1\n",
    "fig_6, axis_6 = plt.subplots(2,1, sharex=True)\n",
    "fig_6.tight_layout()\n",
    "axis_6[0].plot(DLm4_f_ch0_c1, DLm4_psd_ch0_c1, label='C3, c1')\n",
    "axis_6[0].plot(DLm4_f_ch1_c1, DLm4_psd_ch1_c1, label='C4, c1')\n",
    "axis_6[0].legend()\n",
    "axis_6[0].set_yscale('log')\n",
    "axis_6[0].set_title('PSD of DWT DL-4 Coeffs (L={}, Fs={}Hz), Mean Coeffs (Class: Left)'.format(L, freq_s))\n",
    "#axis_6[0].set_xlabel('Frequency [Hz]')\n",
    "axis_6[0].set_ylabel('PSD [dB]')\n",
    "axis_6[0].xaxis.grid()\n",
    "# class 2\n",
    "axis_6[1].plot(DLm4_f_ch0_c2, DLm4_psd_ch0_c2, label='C3, c2')\n",
    "axis_6[1].plot(DLm4_f_ch1_c2, DLm4_psd_ch1_c2, label='C4, c2')\n",
    "axis_6[1].legend()\n",
    "axis_6[1].set_yscale('log')\n",
    "axis_6[1].set_title('PSD of DWT DL-4 Coeffs (L={}, Fs={}Hz), Mean Coeffs (Class: Right)'.format(L, freq_s))\n",
    "axis_6[1].set_xlabel('Frequency [Hz]')\n",
    "axis_6[1].set_ylabel('PSD [dB]')\n",
    "#axis_6[1].set_xticks(np.arange(0,140,5))\n",
    "axis_6[1].xaxis.grid()\n",
    "\n",
    "#### DL-5\n",
    "## class 1\n",
    "#fig_7, axis_7 = plt.subplots(2,1, sharex=True)\n",
    "#fig_7.tight_layout()\n",
    "#axis_7[0].plot(D1_f_ch0_c1, D1_psd_ch0_c1, label='C3, c1')\n",
    "#axis_7[0].plot(D1_f_ch1_c1, D1_psd_ch1_c1, label='C4, c1')\n",
    "#axis_7[0].legend()\n",
    "#axis_7[0].set_yscale('log')\n",
    "#axis_7[0].set_title('PSD of DWT-D1-Coeffs, Mean Coeffs (Class: Left)')\n",
    "#axis_7[0].set_ylabel('PSD [dB]')\n",
    "#axis_7[0].xaxis.grid()\n",
    "## class 2\n",
    "#axis_7[1].plot(D1_f_ch0_c2, D1_psd_ch0_c2, label='C3, c2')\n",
    "#axis_7[1].plot(D1_f_ch1_c2, D1_psd_ch1_c2, label='C4, c2')\n",
    "#axis_7[1].legend()\n",
    "#axis_7[1].set_yscale('log')\n",
    "#axis_7[1].set_title('PSD of DWT-D1-Coeffs, Mean Coeffs (Class: Right)')\n",
    "#axis_7[1].set_xlabel('Frequency [Hz]')\n",
    "#axis_7[1].set_ylabel('PSD [dB]')\n",
    "##axis_7[1].set_xticks(np.arange(0,140,5))\n",
    "#axis_7[1].xaxis.grid()"
   ]
  },
  {
   "cell_type": "code",
   "execution_count": null,
   "metadata": {
    "collapsed": true
   },
   "outputs": [],
   "source": []
  },
  {
   "cell_type": "code",
   "execution_count": null,
   "metadata": {
    "collapsed": true
   },
   "outputs": [],
   "source": [
    "L"
   ]
  },
  {
   "cell_type": "code",
   "execution_count": null,
   "metadata": {
    "collapsed": true
   },
   "outputs": [],
   "source": [
    "A6_ch0_c1, D6_ch0_c1, D5_ch0_c1, D4_ch0_c1, D3_ch0_c1, D2_ch0_c1 = mean_coeff_ch0_c1\n",
    "A6_ch1_c1, D6_ch1_c1, D5_ch1_c1, D4_ch1_c1, D3_ch1_c1, D2_ch1_c1 = mean_coeff_ch1_c1\n",
    "A6_ch0_c2, D6_ch0_c2, D5_ch0_c2, D4_ch0_c2, D3_ch0_c2, D2_ch0_c2 = mean_coeff_ch0_c2\n",
    "A6_ch1_c2, D6_ch1_c2, D5_ch1_c2, D4_ch1_c2, D3_ch1_c2, D2_ch1_c2 = mean_coeff_ch1_c2\n",
    "\n",
    "\n",
    "### PSD\n",
    "# A6\n",
    "psd_A6_ch0_c1 = 20*np.log10(np.abs(np.fft.rfft(A6_ch0_c1)))\n",
    "psd_A6_ch1_c1 = 20*np.log10(np.abs(np.fft.rfft(A6_ch1_c1)))\n",
    "psd_A6_ch0_c2 = 20*np.log10(np.abs(np.fft.rfft(A6_ch0_c2)))\n",
    "psd_A6_ch1_c2 = 20*np.log10(np.abs(np.fft.rfft(A6_ch1_c2)))\n",
    "f_A6 = np.linspace(0, freq_s/(2**(6)), len(psd_A6_ch0_c1))\n",
    "\n",
    "# D4: alpha\n",
    "psd_D4_ch0_c1 = 20*np.log10(np.abs(np.fft.rfft(D4_ch0_c1)))\n",
    "psd_D4_ch1_c1 = 20*np.log10(np.abs(np.fft.rfft(D4_ch1_c1)))\n",
    "psd_D4_ch0_c2 = 20*np.log10(np.abs(np.fft.rfft(D4_ch0_c2)))\n",
    "psd_D4_ch1_c2 = 20*np.log10(np.abs(np.fft.rfft(D4_ch1_c2)))\n",
    "f_D4 = np.linspace(0, freq_s/(2**(4)), len(psd_D4_ch0_c1))\n",
    "\n",
    "# D3: beta\n",
    "psd_D3_ch0_c1 = 20*np.log10(np.abs(np.fft.rfft(D3_ch0_c1)))\n",
    "psd_D3_ch1_c1 = 20*np.log10(np.abs(np.fft.rfft(D3_ch1_c1)))\n",
    "psd_D3_ch0_c2 = 20*np.log10(np.abs(np.fft.rfft(D3_ch0_c2)))\n",
    "psd_D3_ch1_c2 = 20*np.log10(np.abs(np.fft.rfft(D3_ch1_c2)))\n",
    "f_D3 = np.linspace(0, freq_s/(2**(3)), len(psd_D3_ch0_c1))\n",
    "\n",
    "\n",
    "### Plot\n",
    "\n",
    "# class 1\n",
    "fig, axis = plt.subplots(2,1, sharex=True)\n",
    "fig.tight_layout()\n",
    "axis[0].plot(f_A6, psd_A6_ch0_c1, label='C3, c1')\n",
    "axis[0].plot(f_A6, psd_A6_ch1_c1, label='C4, c1')\n",
    "axis[0].legend()\n",
    "axis[0].set_title('PSD of DWT A6, Mean Data (Class: Left)'.format(L, freq_s))\n",
    "axis[0].set_ylabel('PSD [dB]')\n",
    "axis[0].xaxis.grid()\n",
    "# class 2\n",
    "axis[1].plot(f_A6, psd_A6_ch0_c2, label='C3, c2')\n",
    "axis[1].plot(f_A6, psd_A6_ch1_c2, label='C4, c2')\n",
    "axis[1].legend()\n",
    "axis[1].set_title('PSD of DWT A6, Mean Data (Class: Right)'.format(L, freq_s))\n",
    "axis[1].set_xlabel('Frequency [Hz]')\n",
    "axis[1].set_ylabel('PSD [dB]')\n",
    "axis[1].xaxis.grid()\n",
    "\n",
    "# class 1\n",
    "fig, axis = plt.subplots(2,1, sharex=True)\n",
    "fig.tight_layout()\n",
    "axis[0].plot(f_D4, psd_D4_ch0_c1, label='C3, c1')\n",
    "axis[0].plot(f_D4, psd_D4_ch1_c1, label='C4, c1')\n",
    "axis[0].legend()\n",
    "axis[0].set_title('PSD of DWT D4, Mean Data (Class: Left)'.format(L, freq_s))\n",
    "axis[0].set_ylabel('PSD [dB]')\n",
    "axis[0].xaxis.grid()\n",
    "# class 2\n",
    "axis[1].plot(f_D4, psd_D4_ch0_c2, label='C3, c2')\n",
    "axis[1].plot(f_D4, psd_D4_ch1_c2, label='C4, c2')\n",
    "axis[1].legend()\n",
    "axis[1].set_title('PSD of DWT D4, Mean Data (Class: Right)'.format(L, freq_s))\n",
    "axis[1].set_xlabel('Frequency [Hz]')\n",
    "axis[1].set_ylabel('PSD [dB]')\n",
    "axis[1].xaxis.grid()\n",
    "\n",
    "# class 1\n",
    "fig, axis = plt.subplots(2,1, sharex=True)\n",
    "fig.tight_layout()\n",
    "axis[0].plot(f_D3, psd_D3_ch0_c1, label='C3, c1')\n",
    "axis[0].plot(f_D3, psd_D3_ch1_c1, label='C4, c1')\n",
    "axis[0].legend()\n",
    "axis[0].set_title('PSD of DWT D3, Mean Data (Class: Left)'.format(L, freq_s))\n",
    "axis[0].set_ylabel('PSD [dB]')\n",
    "axis[0].xaxis.grid()\n",
    "# class 2\n",
    "axis[1].plot(f_D3, psd_D3_ch0_c2, label='C3, c2')\n",
    "axis[1].plot(f_D3, psd_D3_ch1_c2, label='C4, c2')\n",
    "axis[1].legend()\n",
    "axis[1].set_title('PSD of DWT D3, Mean Data (Class: Right)'.format(L, freq_s))\n",
    "axis[1].set_xlabel('Frequency [Hz]')\n",
    "axis[1].set_ylabel('PSD [dB]')\n",
    "axis[1].xaxis.grid()"
   ]
  },
  {
   "cell_type": "code",
   "execution_count": null,
   "metadata": {
    "collapsed": true
   },
   "outputs": [],
   "source": []
  },
  {
   "cell_type": "code",
   "execution_count": null,
   "metadata": {
    "collapsed": true
   },
   "outputs": [],
   "source": []
  },
  {
   "cell_type": "code",
   "execution_count": null,
   "metadata": {
    "collapsed": true
   },
   "outputs": [],
   "source": []
  },
  {
   "cell_type": "code",
   "execution_count": null,
   "metadata": {
    "collapsed": true
   },
   "outputs": [],
   "source": []
  },
  {
   "cell_type": "code",
   "execution_count": null,
   "metadata": {
    "collapsed": true
   },
   "outputs": [],
   "source": []
  },
  {
   "cell_type": "code",
   "execution_count": null,
   "metadata": {
    "collapsed": true
   },
   "outputs": [],
   "source": []
  },
  {
   "cell_type": "code",
   "execution_count": null,
   "metadata": {
    "collapsed": true
   },
   "outputs": [],
   "source": []
  }
 ],
 "metadata": {
  "anaconda-cloud": {},
  "kernelspec": {
   "display_name": "Python 3",
   "language": "python",
   "name": "python3"
  },
  "language_info": {
   "codemirror_mode": {
    "name": "ipython",
    "version": 3
   },
   "file_extension": ".py",
   "mimetype": "text/x-python",
   "name": "python",
   "nbconvert_exporter": "python",
   "pygments_lexer": "ipython3",
   "version": "3.5.2"
  }
 },
 "nbformat": 4,
 "nbformat_minor": 2
}
