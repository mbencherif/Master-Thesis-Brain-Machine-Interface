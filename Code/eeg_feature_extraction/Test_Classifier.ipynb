{
 "cells": [
  {
   "cell_type": "code",
   "execution_count": 53,
   "metadata": {
    "collapsed": true
   },
   "outputs": [],
   "source": [
    "import numpy as np\n",
    "import time\n",
    "from sklearn.decomposition import PCA\n",
    "from sklearn.preprocessing import normalize"
   ]
  },
  {
   "cell_type": "markdown",
   "metadata": {},
   "source": [
    "# Load Data"
   ]
  },
  {
   "cell_type": "code",
   "execution_count": 54,
   "metadata": {
    "collapsed": false
   },
   "outputs": [],
   "source": [
    "X = np.load(\"X_feat_mat_erp.npy\")\n",
    "y = np.load(\"y_label_vect_erp.npy\")"
   ]
  },
  {
   "cell_type": "code",
   "execution_count": 55,
   "metadata": {
    "collapsed": false
   },
   "outputs": [
    {
     "name": "stdout",
     "output_type": "stream",
     "text": [
      "X.shape=(102, 6), y.shape=(102,)\n"
     ]
    }
   ],
   "source": [
    "print('X.shape={}, y.shape={}'.format(X.shape, y.shape))"
   ]
  },
  {
   "cell_type": "markdown",
   "metadata": {},
   "source": [
    "### Normalize Data"
   ]
  },
  {
   "cell_type": "code",
   "execution_count": 56,
   "metadata": {
    "collapsed": false
   },
   "outputs": [
    {
     "data": {
      "text/plain": [
       "array([ 0.,  1.,  0.,  1.,  1.,  1.,  1.,  0.,  1.,  1.,  0.,  1.,  1.,\n",
       "        0.,  0.,  0.,  0.,  0.,  0.,  0.,  1.,  0.,  0.,  0.,  1.,  0.,\n",
       "        0.,  1.,  1.,  1.,  0.,  1.,  1.,  0.,  1.,  0.,  0.,  0.,  0.,\n",
       "        1.,  1.,  1.,  1.,  0.,  0.,  1.,  1.,  0.,  1.,  1.,  0.,  0.,\n",
       "        1.,  1.,  1.,  0.,  1.,  1.,  0.,  0.,  1.,  1.,  1.,  1.,  0.,\n",
       "        0.,  0.,  0.,  0.,  0.,  1.,  0.,  1.,  0.,  0.,  1.,  1.,  1.,\n",
       "        1.,  0.,  0.,  0.,  1.,  0.,  1.,  1.,  1.,  0.,  0.,  1.,  0.,\n",
       "        0.,  1.,  0.,  1.,  0.,  1.,  0.,  1.,  0.,  1.,  1.])"
      ]
     },
     "execution_count": 56,
     "metadata": {},
     "output_type": "execute_result"
    }
   ],
   "source": [
    "# Shift to zero mean and normalize y\n",
    "y = y-1\n",
    "y"
   ]
  },
  {
   "cell_type": "code",
   "execution_count": 57,
   "metadata": {
    "collapsed": false
   },
   "outputs": [
    {
     "data": {
      "text/plain": [
       "(102, 6)"
      ]
     },
     "execution_count": 57,
     "metadata": {},
     "output_type": "execute_result"
    }
   ],
   "source": [
    "# Normalize X\n",
    "X = normalize(X)\n",
    "X.shape"
   ]
  },
  {
   "cell_type": "markdown",
   "metadata": {},
   "source": [
    "### Dimensionality Reduction"
   ]
  },
  {
   "cell_type": "code",
   "execution_count": 58,
   "metadata": {
    "collapsed": false
   },
   "outputs": [
    {
     "name": "stdout",
     "output_type": "stream",
     "text": [
      "pca.explained_variance_ratio_:\n",
      " [ 0.51117888  0.33326508  0.08226043  0.03397359  0.02606136]\n",
      "Reached Variance: 0.974\n",
      "X_pca.shape:  (102, 4)\n"
     ]
    }
   ],
   "source": [
    "# Parameter\n",
    "var_desired = 0.95\n",
    "\n",
    "# PCA\n",
    "pca = PCA(n_components=X.shape[1]-1)\n",
    "pca.fit(X)\n",
    " \n",
    "print('pca.explained_variance_ratio_:\\n',pca.explained_variance_ratio_)    \n",
    "\n",
    "var_sum = pca.explained_variance_ratio_.sum()\n",
    "var = 0\n",
    "for n, v in enumerate(pca.explained_variance_ratio_):\n",
    "    var += v\n",
    "    if var / var_sum >= var_desired:\n",
    "        pca_trans = PCA(n_components=n+1)\n",
    "        X_pca = pca_trans.fit_transform(X)\n",
    "        print(\"Reached Variance: {:1.3f}\".format(var/var_sum))\n",
    "        break\n",
    "        \n",
    "print(\"X_pca.shape: \",X_pca.shape)"
   ]
  },
  {
   "cell_type": "markdown",
   "metadata": {},
   "source": [
    "### Split Data"
   ]
  },
  {
   "cell_type": "code",
   "execution_count": 59,
   "metadata": {
    "collapsed": false
   },
   "outputs": [],
   "source": [
    "split_n = 90\n",
    "X_train, X_test = X_pca[:split_n], X_pca[split_n:]\n",
    "y_train, y_test = y[:split_n], y[split_n:]"
   ]
  },
  {
   "cell_type": "markdown",
   "metadata": {},
   "source": [
    "### Plot data"
   ]
  },
  {
   "cell_type": "code",
   "execution_count": 60,
   "metadata": {
    "collapsed": true
   },
   "outputs": [],
   "source": [
    "import matplotlib.pyplot as plt\n",
    "import matplotlib as mpl\n",
    "from mpl_toolkits.mplot3d import Axes3D\n",
    "%matplotlib inline"
   ]
  },
  {
   "cell_type": "code",
   "execution_count": 61,
   "metadata": {
    "collapsed": false
   },
   "outputs": [
    {
     "name": "stdout",
     "output_type": "stream",
     "text": [
      "Preserved Varaince: 0.844\n"
     ]
    },
    {
     "data": {
      "image/png": "[encoded data removed]",
      "text/plain": [
       "<matplotlib.figure.Figure at 0x11333b5c0>"
      ]
     },
     "metadata": {},
     "output_type": "display_data"
    }
   ],
   "source": [
    "# 2D Plot\n",
    "if X_train.shape[1] != 2:\n",
    "    # PCA \n",
    "    pca_2comp = PCA(n_components=2)\n",
    "    X_2comp = pca_2comp.fit_transform(X)\n",
    "    \n",
    "# Plot\n",
    "colors_data = ['red','cyan']\n",
    "fig = plt.figure()\n",
    "fig.suptitle('2D - Data')\n",
    "ax = fig.add_subplot(1,1,1)\n",
    "ax.scatter(X_train.T[0], X_train.T[1], alpha=0.5,\n",
    "           c=y_train, cmap=mpl.colors.ListedColormap(colors_data))\n",
    "ax.set_xlabel('x1')\n",
    "ax.set_ylabel('x2')\n",
    "\n",
    "print(\"Preserved Varaince: {:1.3f}\".format(pca_2comp.explained_variance_ratio_.sum()))"
   ]
  },
  {
   "cell_type": "code",
   "execution_count": 62,
   "metadata": {
    "collapsed": false
   },
   "outputs": [
    {
     "name": "stdout",
     "output_type": "stream",
     "text": [
      "Preserved Varaince: 0.927\n"
     ]
    },
    {
     "data": {
      "image/png": "[encoded data removed]",
      "text/plain": [
       "<matplotlib.figure.Figure at 0x11b3c5470>"
      ]
     },
     "metadata": {},
     "output_type": "display_data"
    }
   ],
   "source": [
    "# 3D Plot\n",
    "if X_train.shape[1] != 3:\n",
    "    # PCA \n",
    "    pca_3comp = PCA(n_components=3)\n",
    "    X_3comp = pca_3comp.fit_transform(X)\n",
    "    \n",
    "# Plot\n",
    "colors_data = ['red','cyan']\n",
    "fig = plt.figure()\n",
    "fig.suptitle('3D - Data')\n",
    "ax = fig.add_subplot(1,1,1, projection='3d')\n",
    "ax.scatter(X_train.T[0], X_train.T[1], X_train.T[2], alpha=0.5,\n",
    "           c=y_train, cmap=mpl.colors.ListedColormap(colors_data))\n",
    "ax.set_xlabel('x1')\n",
    "ax.set_ylabel('x2')\n",
    "ax.set_zlabel('x3')\n",
    "\n",
    "print(\"Preserved Varaince: {:1.3f}\".format(pca_3comp.explained_variance_ratio_.sum()))"
   ]
  },
  {
   "cell_type": "markdown",
   "metadata": {},
   "source": [
    "# Classifiers"
   ]
  },
  {
   "cell_type": "code",
   "execution_count": 63,
   "metadata": {
    "collapsed": true
   },
   "outputs": [],
   "source": [
    "# Print results of classifier\n",
    "def results(y, y_):\n",
    "    # Results\n",
    "    n_mclf = len(np.nonzero(y-y_)[0])\n",
    "    rate_mclf = n_mclf / len(y)\n",
    "    print('Misclassifications = {} from {} total samples. MCLF Rate = {}'.format(\n",
    "        n_mclf, len(y), rate_mclf))"
   ]
  },
  {
   "cell_type": "markdown",
   "metadata": {},
   "source": [
    "# SciKit Random Forest"
   ]
  },
  {
   "cell_type": "code",
   "execution_count": 64,
   "metadata": {
    "collapsed": false
   },
   "outputs": [],
   "source": [
    "from sklearn.ensemble import RandomForestClassifier"
   ]
  },
  {
   "cell_type": "code",
   "execution_count": 65,
   "metadata": {
    "collapsed": false
   },
   "outputs": [
    {
     "name": "stdout",
     "output_type": "stream",
     "text": [
      "Misclassifications = 1 from 12 total samples. MCLF Rate = 0.08333333333333333\n"
     ]
    }
   ],
   "source": [
    "clf_rf = RandomForestClassifier(n_estimators=100)\n",
    "clf_rf.fit(X_train, y_train)\n",
    "\n",
    "# Prediction\n",
    "y_rf = clf_rf.predict(X_test)\n",
    "results(y_test, y_rf)"
   ]
  },
  {
   "cell_type": "code",
   "execution_count": null,
   "metadata": {
    "collapsed": false
   },
   "outputs": [],
   "source": []
  },
  {
   "cell_type": "markdown",
   "metadata": {},
   "source": [
    "# SciKit Logistic Regression"
   ]
  },
  {
   "cell_type": "code",
   "execution_count": 66,
   "metadata": {
    "collapsed": false
   },
   "outputs": [],
   "source": [
    "from sklearn.linear_model import LogisticRegression"
   ]
  },
  {
   "cell_type": "code",
   "execution_count": 67,
   "metadata": {
    "collapsed": false
   },
   "outputs": [
    {
     "name": "stdout",
     "output_type": "stream",
     "text": [
      "Misclassifications = 3 from 12 total samples. MCLF Rate = 0.25\n"
     ]
    }
   ],
   "source": [
    "# Train\n",
    "clf_lr = LogisticRegression(C=100)\n",
    "clf_lr.fit(X_train, y_train)\n",
    "# Predict\n",
    "y_lr = clf_lr.predict(X_test)\n",
    "results(y_test, y_lr)"
   ]
  },
  {
   "cell_type": "code",
   "execution_count": null,
   "metadata": {
    "collapsed": false
   },
   "outputs": [],
   "source": []
  },
  {
   "cell_type": "markdown",
   "metadata": {
    "collapsed": false
   },
   "source": [
    "# MLP Tensorflow"
   ]
  },
  {
   "cell_type": "code",
   "execution_count": 68,
   "metadata": {
    "collapsed": true
   },
   "outputs": [],
   "source": [
    "import tensorflow as tf"
   ]
  },
  {
   "cell_type": "code",
   "execution_count": 99,
   "metadata": {
    "collapsed": false
   },
   "outputs": [
    {
     "name": "stdout",
     "output_type": "stream",
     "text": [
      "Epoch 0, training accuracy 1, improvement 1.00000 (0 sec)\n",
      "Test accuracy 1\n"
     ]
    }
   ],
   "source": [
    "Y_train = y_train.reshape(-1,1)\n",
    "Y_test = y_test.reshape(-1,1)\n",
    "\n",
    "# Computing Parameter\n",
    "NUM_THREADS = 10\n",
    "# Visualization Parameter\n",
    "display_step = 100\n",
    "# Learning Parameters\n",
    "learning_rate = 0.1\n",
    "training_epochs = 100\n",
    "dropout_rate = 0.5\n",
    "converg_thresh = 0.001     # threshold of improvement between accuracy of last 2 epochs\n",
    "total_len = X_train.shape[0]\n",
    "\n",
    "# Network Parameters\n",
    "n_input = X_train.shape[1]\n",
    "n_hidden_1 = 5    # 1st layer number of features\n",
    "n_hidden_2 = 1    # 2nd layer number of features\n",
    "n_output = Y_train.shape[1]\n",
    "\n",
    "\n",
    "# Create nodes for the input data and target output classes\n",
    "x = tf.placeholder(tf.float32, shape=[None, X_train.shape[1]]) # first dimension not fixed (depends on batch size)\n",
    "y = tf.placeholder(tf.float32, shape=[None, Y_train.shape[1]])    \n",
    "# Dropout\n",
    "keep_prob = tf.placeholder(tf.float32)\n",
    "\n",
    "# Create model\n",
    "def mlp_model(x, weights, biases):\n",
    "    # 1. Hidden layer\n",
    "    layer_1 = tf.add(tf.matmul(x, weights['w1']), biases['b1'])\n",
    "    layer_1 = tf.tanh(layer_1) \n",
    "    # 2. Hidden layer\n",
    "    layer_2 = tf.add(tf.matmul(layer_1, weights['w2']), biases['b2'])\n",
    "    layer_2 = tf.tanh(layer_2)\n",
    "    # Output layer with linear activation\n",
    "    layer_out = tf.add(tf.matmul(layer_2, weights['w_out']), biases['b_out'])\n",
    "    layer_out = tf.sigmoid(layer_out)\n",
    "    return layer_out\n",
    "\n",
    "# Store layers weight & bias\n",
    "weights = { \n",
    "    'w1': tf.Variable(tf.random_normal([n_input, n_hidden_1], 0, 0.1)),\n",
    "    'w2': tf.Variable(tf.random_normal([n_hidden_1, n_hidden_2], 0, 0.1)),\n",
    "    'w_out': tf.Variable(tf.random_normal([n_hidden_2, n_output], 0, 0.1))\n",
    "}\n",
    "biases = {\n",
    "        'b1': tf.Variable(tf.random_normal([n_hidden_1], 0, 0.1)),\n",
    "        'b2': tf.Variable(tf.random_normal([n_hidden_2], 0, 0.1)),\n",
    "        'b_out': tf.Variable(tf.random_normal([n_output], 0, 0.1))\n",
    "}\n",
    "\n",
    "# Construct model\n",
    "y_pred = mlp_model(x, weights, biases)\n",
    "\n",
    "# Define loss and optimizer\n",
    "#cost = tf.reduce_mean(tf.square(tf.transpose(y_pred)-y))\n",
    "cost = tf.reduce_mean(tf.square(y_pred-y))\n",
    "optimizer = tf.train.AdamOptimizer(learning_rate=learning_rate).minimize(cost)\n",
    "\n",
    "#\n",
    "# Train and Evaluate the Model\n",
    "#\n",
    "\n",
    "# Start interactive session\n",
    "sess = tf.InteractiveSession(config=tf.ConfigProto(intra_op_parallelism_threads=NUM_THREADS))\n",
    "\n",
    "# loss function\n",
    "correct_prediction = tf.equal(tf.argmax(y_pred,1), tf.argmax(y,1))\n",
    "# result\n",
    "accuracy = tf.reduce_mean(tf.cast(correct_prediction, tf.float32))\n",
    "\n",
    "# start sesseion\n",
    "sess.run(tf.global_variables_initializer())\n",
    "# training\n",
    "train_accuracy_list = [0]\n",
    "t0 = time.time()\n",
    "\n",
    "for epoch in range(training_epochs):\n",
    "    # Train\n",
    "    optimizer.run(feed_dict={x:X_train, y:Y_train, keep_prob:dropout_rate})\n",
    "    # Show update \n",
    "    if epoch % display_step == 0:\n",
    "        train_accuracy_list.append(accuracy.eval(feed_dict={x:X_train, y:Y_train, keep_prob:1.0}))\n",
    "        improvement = abs(train_accuracy_list[-2] - train_accuracy_list[-1])\n",
    "        print(\"Epoch %d, training accuracy %g, improvement %.5f (%.0f sec)\"%(\n",
    "                epoch, train_accuracy_list[-1], improvement, time.time()-t0))\n",
    "        t0 = time.time()\n",
    "        # Check if converged\n",
    "#        if train_accuracy_list[-1] == 1 or improvement <= converg_thresh:\n",
    "#            print(\"Converged!\")\n",
    "#            break\n",
    "\n",
    "print(\"Test accuracy %g\"%accuracy.eval(\n",
    "        feed_dict={x: X_test, y: Y_test, keep_prob: 1.0}))\n"
   ]
  },
  {
   "cell_type": "code",
   "execution_count": 100,
   "metadata": {
    "collapsed": false
   },
   "outputs": [
    {
     "name": "stdout",
     "output_type": "stream",
     "text": [
      "Test: n_mclf = 2 / 12 (mclf_rate=0.167), mse = 0.149\n"
     ]
    }
   ],
   "source": [
    "# Test net\n",
    "y_tf = sess.run(y_pred, feed_dict={x: X_test})\n",
    "\n",
    "# Misclassification\n",
    "n_mclf = len(np.nonzero(np.round(y_tf) - Y_test)[0])\n",
    "mclf_rate = n_mclf / len(Y_test)\n",
    "\n",
    "# MSE\n",
    "mse = ((y_tf - Y_test) ** 2).mean()\n",
    "\n",
    "print('Test: n_mclf = {} / {} (mclf_rate={:.3f}), mse = {:.3f}'.format(n_mclf, len(Y_test), mclf_rate, mse))"
   ]
  },
  {
   "cell_type": "code",
   "execution_count": 98,
   "metadata": {
    "collapsed": false
   },
   "outputs": [
    {
     "data": {
      "text/plain": [
       "array([[ 0.22644906,  0.        ],\n",
       "       [ 0.22644906,  0.        ],\n",
       "       [ 0.22644906,  1.        ],\n",
       "       [ 0.22644906,  0.        ],\n",
       "       [ 0.761621  ,  1.        ],\n",
       "       [ 0.22644906,  0.        ],\n",
       "       [ 0.67082191,  1.        ],\n",
       "       [ 0.22644906,  0.        ],\n",
       "       [ 0.761621  ,  1.        ],\n",
       "       [ 0.22644906,  0.        ],\n",
       "       [ 0.22644952,  1.        ],\n",
       "       [ 0.761621  ,  1.        ]])"
      ]
     },
     "execution_count": 98,
     "metadata": {},
     "output_type": "execute_result"
    }
   ],
   "source": [
    "np.hstack((y_tf, Y_test))"
   ]
  },
  {
   "cell_type": "code",
   "execution_count": null,
   "metadata": {
    "collapsed": false
   },
   "outputs": [],
   "source": []
  },
  {
   "cell_type": "markdown",
   "metadata": {},
   "source": [
    "# NumPy MLP"
   ]
  },
  {
   "cell_type": "code",
   "execution_count": 72,
   "metadata": {
    "collapsed": false
   },
   "outputs": [],
   "source": [
    "class Neural_Network:\n",
    "    def __init__(self, n_inpt, n_hidden, n_output, hid_transfer='tanh', out_transfer='sigmoid'):\n",
    "        self.w0 = 2 * np.random.random((n_inpt, n_hidden))\n",
    "        self.w1 = 2 * np.random.random((n_hidden, n_output))\n",
    "        self.hid_transfer = hid_transfer\n",
    "        self.out_transfer = out_transfer\n",
    "        self.loss = []\n",
    "\n",
    "\n",
    "    def transfer_function(self, fct_type, x, deriv=False):\n",
    "        if fct_type == 'sigmoid':\n",
    "            if deriv == True:\n",
    "                return x * (1 - x)\n",
    "            return 1 / (1 + np.exp(-x))\n",
    "        elif fct_type == 'tanh':\n",
    "            if deriv == True:\n",
    "                return 1-x*x\n",
    "            return np.tanh(x)\n",
    "        elif fct_type == 'linear':\n",
    "            if deriv == True:\n",
    "                return 1\n",
    "            return x\n",
    "        elif fct_type == 'rectifier':\n",
    "            if deriv == True:\n",
    "                return (x > 0.)\n",
    "            return x * (x > 0.)\n",
    "\n",
    "\n",
    "    def forward_pass(self, X):\n",
    "        l0 = X\n",
    "        l1 = self.transfer_function(fct_type=self.hid_transfer, x=np.dot(l0, self.w0))\n",
    "        l2 = self.transfer_function(fct_type=self.out_transfer, x=np.dot(l1, self.w1))\n",
    "        return (l0,l1,l2)\n",
    "\n",
    "\n",
    "    def train(self, X, y, learn_rate=0.1, momentum=0.9, epochs=10000):\n",
    "        # initialize momentum\n",
    "        m1 = 0\n",
    "        m0 = 0\n",
    "\n",
    "        for epoch in range(epochs):\n",
    "            (l0,l1,l2) = self.forward_pass(X)\n",
    "\n",
    "            # error at the output (signed) \n",
    "            residual = y - l2\n",
    "            # sum of squared errors\n",
    "            self.loss.append(sum(i**2 for i in residual))\n",
    "\n",
    "            # compute output delta\n",
    "            l2_delta = residual * self.transfer_function(fct_type=self.out_transfer, \n",
    "                                                         x=l2, deriv=True)\n",
    "            # back-propagate the output delta to the hidden units\n",
    "            l1_error = l2_delta.dot(self.w1.T)\n",
    "            # compute the delta at the hidden units\n",
    "            l1_delta = l1_error * self.transfer_function(fct_type=self.hid_transfer, \n",
    "                                                         x=l1, deriv=True)\n",
    "            # comnpute momentum\n",
    "            m1 = l1.T.dot(l2_delta) + momentum*m1\n",
    "            m0 = l0.T.dot(l1_delta) + momentum*m0\n",
    "            # update weights\n",
    "            self.w1 += learn_rate * m1\n",
    "            self.w0 += learn_rate * m0\n",
    "\n",
    "            # evaluate progress\n",
    "            if epoch > 1 and epoch % 100000 == 0:\n",
    "                print(\"iteration {}\".format(epoch))"
   ]
  },
  {
   "cell_type": "code",
   "execution_count": 103,
   "metadata": {
    "collapsed": false
   },
   "outputs": [],
   "source": [
    "# network parameter\n",
    "epochs = 100\n",
    "learning_rate = 0.01\n",
    "momentum = 0.9\n",
    "n_hidden_neurons = 10\n",
    "\n",
    "# init network\n",
    "net = Neural_Network(X_train.shape[1], n_hidden_neurons, Y_train.shape[1], \n",
    "                     hid_transfer='tanh', out_transfer='sigmoid')\n",
    "# train network\n",
    "net.train(X_train, Y_train, learning_rate, momentum, epochs)"
   ]
  },
  {
   "cell_type": "code",
   "execution_count": 104,
   "metadata": {
    "collapsed": false
   },
   "outputs": [
    {
     "name": "stdout",
     "output_type": "stream",
     "text": [
      "Test: n_mclf = 3 / 12 (mclf_rate=0.250), mse = 0.113\n"
     ]
    }
   ],
   "source": [
    "# test network\n",
    "l0,l1,l2 = net.forward_pass(X_test)\n",
    "# evaluate results\n",
    "mse =  ((l2 - Y_test) ** 2).mean()\n",
    "n_mclf = len(np.nonzero(Y_test - np.round(l2))[0])\n",
    "mclf_rate = n_mclf / len(Y_test)\n",
    "print('Test: n_mclf = {} / {} (mclf_rate={:.3f}), mse = {:.3f}'.format(n_mclf, len(Y_test), mclf_rate, mse))"
   ]
  },
  {
   "cell_type": "code",
   "execution_count": null,
   "metadata": {
    "collapsed": false
   },
   "outputs": [],
   "source": []
  },
  {
   "cell_type": "markdown",
   "metadata": {
    "collapsed": true
   },
   "source": [
    "# - SVM (SciKit Learn)"
   ]
  },
  {
   "cell_type": "code",
   "execution_count": 75,
   "metadata": {
    "collapsed": false
   },
   "outputs": [],
   "source": [
    "from sklearn import svm"
   ]
  },
  {
   "cell_type": "code",
   "execution_count": 76,
   "metadata": {
    "collapsed": false
   },
   "outputs": [
    {
     "name": "stdout",
     "output_type": "stream",
     "text": [
      "Misclassifications = 3 from 12 total samples. MCLF Rate = 0.25\n"
     ]
    }
   ],
   "source": [
    "clf_svm = svm.SVC()\n",
    "clf_svm.fit(X_train, y_train)  \n",
    "y_svm = clf_svm.predict(X_test)\n",
    "\n",
    "results(y_test, y_svm)"
   ]
  },
  {
   "cell_type": "code",
   "execution_count": null,
   "metadata": {
    "collapsed": false
   },
   "outputs": [],
   "source": []
  },
  {
   "cell_type": "code",
   "execution_count": null,
   "metadata": {
    "collapsed": false
   },
   "outputs": [],
   "source": []
  },
  {
   "cell_type": "code",
   "execution_count": null,
   "metadata": {
    "collapsed": false
   },
   "outputs": [],
   "source": []
  },
  {
   "cell_type": "code",
   "execution_count": null,
   "metadata": {
    "collapsed": false
   },
   "outputs": [],
   "source": []
  },
  {
   "cell_type": "code",
   "execution_count": null,
   "metadata": {
    "collapsed": true
   },
   "outputs": [],
   "source": []
  }
 ],
 "metadata": {
  "anaconda-cloud": {},
  "kernelspec": {
   "display_name": "Python 3",
   "language": "python",
   "name": "python3"
  },
  "language_info": {
   "codemirror_mode": {
    "name": "ipython",
    "version": 3
   },
   "file_extension": ".py",
   "mimetype": "text/x-python",
   "name": "python",
   "nbconvert_exporter": "python",
   "pygments_lexer": "ipython3",
   "version": "3.5.2"
  }
 },
 "nbformat": 4,
 "nbformat_minor": 1
}
