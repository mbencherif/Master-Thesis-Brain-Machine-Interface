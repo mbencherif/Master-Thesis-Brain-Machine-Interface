{
 "cells": [
  {
   "cell_type": "code",
   "execution_count": 421,
   "metadata": {
    "collapsed": true
   },
   "outputs": [],
   "source": [
    "import numpy as np\n",
    "import time\n",
    "from sklearn.decomposition import PCA\n",
    "from sklearn.preprocessing import normalize"
   ]
  },
  {
   "cell_type": "markdown",
   "metadata": {},
   "source": [
    "# Load Data"
   ]
  },
  {
   "cell_type": "code",
   "execution_count": 326,
   "metadata": {
    "collapsed": false
   },
   "outputs": [],
   "source": [
    "X = np.load(\"X_feat_mat.npy\")\n",
    "y = np.load(\"y_label_vect.npy\")"
   ]
  },
  {
   "cell_type": "code",
   "execution_count": 328,
   "metadata": {
    "collapsed": false
   },
   "outputs": [
    {
     "name": "stdout",
     "output_type": "stream",
     "text": [
      "X.shape=(102, 12), y.shape=(102,)\n"
     ]
    }
   ],
   "source": [
    "print('X.shape={}, y.shape={}'.format(X.shape, y.shape))"
   ]
  },
  {
   "cell_type": "markdown",
   "metadata": {},
   "source": [
    "### Normalize Data"
   ]
  },
  {
   "cell_type": "code",
   "execution_count": 329,
   "metadata": {
    "collapsed": false
   },
   "outputs": [
    {
     "data": {
      "text/plain": [
       "array([ 0.,  1.,  0.,  1.,  1.,  1.,  1.,  0.,  1.,  1.,  0.,  1.,  1.,\n",
       "        0.,  0.,  0.,  0.,  0.,  0.,  0.,  1.,  0.,  0.,  0.,  1.,  0.,\n",
       "        0.,  1.,  1.,  1.,  0.,  1.,  1.,  0.,  1.,  0.,  0.,  0.,  0.,\n",
       "        1.,  1.,  1.,  1.,  0.,  0.,  1.,  1.,  0.,  1.,  1.,  0.,  0.,\n",
       "        1.,  1.,  1.,  0.,  1.,  1.,  0.,  0.,  1.,  1.,  1.,  1.,  0.,\n",
       "        0.,  0.,  0.,  0.,  0.,  1.,  0.,  1.,  0.,  0.,  1.,  1.,  1.,\n",
       "        1.,  0.,  0.,  0.,  1.,  0.,  1.,  1.,  1.,  0.,  0.,  1.,  0.,\n",
       "        0.,  1.,  0.,  1.,  0.,  1.,  0.,  1.,  0.,  1.,  1.])"
      ]
     },
     "execution_count": 329,
     "metadata": {},
     "output_type": "execute_result"
    }
   ],
   "source": [
    "# Shift to zero mean and normalize y\n",
    "y = y-1\n",
    "y"
   ]
  },
  {
   "cell_type": "code",
   "execution_count": 335,
   "metadata": {
    "collapsed": false
   },
   "outputs": [
    {
     "data": {
      "text/plain": [
       "(102, 12)"
      ]
     },
     "execution_count": 335,
     "metadata": {},
     "output_type": "execute_result"
    }
   ],
   "source": [
    "# Normalize X\n",
    "X = normalize(X)\n",
    "X.shape"
   ]
  },
  {
   "cell_type": "markdown",
   "metadata": {},
   "source": [
    "### Dimensionality Reduction"
   ]
  },
  {
   "cell_type": "code",
   "execution_count": 366,
   "metadata": {
    "collapsed": false
   },
   "outputs": [
    {
     "name": "stdout",
     "output_type": "stream",
     "text": [
      "pca.explained_variance_ratio_ [  4.87063266e-01   2.31327059e-01   1.58861805e-01   6.81664398e-02\n",
      "   2.19083684e-02   2.05409751e-02   6.63973057e-03   3.09107346e-03\n",
      "   1.85995029e-03   3.13683105e-04   1.30012900e-04]\n",
      "0.994604753461\n"
     ]
    },
    {
     "data": {
      "text/plain": [
       "(102, 7)"
      ]
     },
     "execution_count": 366,
     "metadata": {},
     "output_type": "execute_result"
    }
   ],
   "source": [
    "# Parameter\n",
    "var_desired = 0.99\n",
    "# PCA\n",
    "pca = PCA(n_components=X.shape[1]-1)\n",
    "pca.fit(X)\n",
    " \n",
    "var_sum = pca.explained_variance_ratio_.sum()\n",
    "print('pca.explained_variance_ratio_',pca.explained_variance_ratio_)\n",
    "var = 0\n",
    "for n, v in enumerate(pca.explained_variance_ratio_):\n",
    "    var += v\n",
    "    if var / var_sum >= var_desired:\n",
    "        print(var/var_sum)\n",
    "        pca_trans = PCA(n_components=n+1)\n",
    "        X_pca = pca_trans.fit_transform(X)\n",
    "        break\n",
    "        \n",
    "X_pca.shape"
   ]
  },
  {
   "cell_type": "markdown",
   "metadata": {},
   "source": [
    "### Split Data"
   ]
  },
  {
   "cell_type": "code",
   "execution_count": 425,
   "metadata": {
    "collapsed": false
   },
   "outputs": [],
   "source": [
    "split_n = 90\n",
    "X_train, X_test = X_pca[:split_n], X_pca[split_n:]\n",
    "y_train, y_test = y[:split_n], y[split_n:]"
   ]
  },
  {
   "cell_type": "markdown",
   "metadata": {},
   "source": [
    "### Plot data"
   ]
  },
  {
   "cell_type": "code",
   "execution_count": 379,
   "metadata": {
    "collapsed": false
   },
   "outputs": [
    {
     "data": {
      "text/plain": [
       "<matplotlib.text.Text at 0x114b950f0>"
      ]
     },
     "execution_count": 379,
     "metadata": {},
     "output_type": "execute_result"
    },
    {
     "data": {
      "image/png": "[encoded data removed]",
      "text/plain": [
       "<matplotlib.figure.Figure at 0x114b03a20>"
      ]
     },
     "metadata": {},
     "output_type": "display_data"
    }
   ],
   "source": [
    "import matplotlib.pyplot as plt\n",
    "import matplotlib as mpl\n",
    "from mpl_toolkits.mplot3d import Axes3D\n",
    "%matplotlib inline\n",
    "\n",
    "if X_train.shape[1] != 3:\n",
    "    # PCA \n",
    "    pca_3comp = PCA(n_components=3)\n",
    "    X_3comp = pca_3comp.fit_transform(X)\n",
    "    \n",
    "# Plot\n",
    "colors_data = ['red','cyan']\n",
    "fig = plt.figure()\n",
    "fig.suptitle('Data')\n",
    "ax = fig.add_subplot(1,1,1, projection='3d')\n",
    "ax.scatter(X_train.T[0], X_train.T[1], X_train.T[2], alpha=0.2,\n",
    "           c=y_train, cmap=mpl.colors.ListedColormap(colors_data))\n",
    "ax.set_xlabel('x1')\n",
    "ax.set_ylabel('x2')\n",
    "ax.set_zlabel('x3')"
   ]
  },
  {
   "cell_type": "markdown",
   "metadata": {},
   "source": [
    "# Classifier"
   ]
  },
  {
   "cell_type": "code",
   "execution_count": 380,
   "metadata": {
    "collapsed": true
   },
   "outputs": [],
   "source": [
    "# Print results of classifier\n",
    "def results(y, y_):\n",
    "    # Results\n",
    "    n_mclf = len(np.nonzero(y-y_)[0])\n",
    "    rate_mclf = n_mclf / len(y)\n",
    "    print('Misclassifications = {} from {} total samples. MCLF Rate = {}'.format(\n",
    "        n_mclf, len(y), rate_mclf))"
   ]
  },
  {
   "cell_type": "markdown",
   "metadata": {},
   "source": [
    "## - SciKit Random Forest"
   ]
  },
  {
   "cell_type": "code",
   "execution_count": 386,
   "metadata": {
    "collapsed": false
   },
   "outputs": [],
   "source": [
    "from sklearn.ensemble import RandomForestClassifier"
   ]
  },
  {
   "cell_type": "code",
   "execution_count": 405,
   "metadata": {
    "collapsed": false
   },
   "outputs": [
    {
     "name": "stdout",
     "output_type": "stream",
     "text": [
      "Misclassifications = 7 from 12 total samples. MCLF Rate = 0.5833333333333334\n"
     ]
    }
   ],
   "source": [
    "clf_rf = RandomForestClassifier(n_estimators=100000)\n",
    "clf_rf.fit(X_train, y_train)\n",
    "\n",
    "# Prediction\n",
    "y_ = clf_rf.predict(X_test)\n",
    "results(y_test, y_)"
   ]
  },
  {
   "cell_type": "code",
   "execution_count": null,
   "metadata": {
    "collapsed": false
   },
   "outputs": [],
   "source": []
  },
  {
   "cell_type": "markdown",
   "metadata": {},
   "source": [
    "## - SciKit Logistic Regression"
   ]
  },
  {
   "cell_type": "code",
   "execution_count": 392,
   "metadata": {
    "collapsed": false
   },
   "outputs": [],
   "source": [
    "from sklearn.linear_model import LogisticRegression"
   ]
  },
  {
   "cell_type": "code",
   "execution_count": 420,
   "metadata": {
    "collapsed": false
   },
   "outputs": [
    {
     "name": "stdout",
     "output_type": "stream",
     "text": [
      "Misclassifications = 8 from 12 total samples. MCLF Rate = 0.6666666666666666\n"
     ]
    }
   ],
   "source": [
    "# Train\n",
    "clf_lr = LogisticRegression(C=100)\n",
    "clf_lr.fit(X_train, y_train)\n",
    "# Predict\n",
    "y_ = clf_lr.predict(X_test)\n",
    "results(y_test, y_)"
   ]
  },
  {
   "cell_type": "code",
   "execution_count": null,
   "metadata": {
    "collapsed": false
   },
   "outputs": [],
   "source": []
  },
  {
   "cell_type": "markdown",
   "metadata": {
    "collapsed": false
   },
   "source": [
    "# - MLP Tensorflow"
   ]
  },
  {
   "cell_type": "code",
   "execution_count": 422,
   "metadata": {
    "collapsed": true
   },
   "outputs": [],
   "source": [
    "import tensorflow as tf"
   ]
  },
  {
   "cell_type": "code",
   "execution_count": 470,
   "metadata": {
    "collapsed": false
   },
   "outputs": [],
   "source": [
    "def MLP(X_train, X_test, Y_train, Y_test):\n",
    "    # Computing Parameter\n",
    "    NUM_THREADS = 10\n",
    "    # Visualization Parameter\n",
    "    display_step = 1\n",
    "    # Learning Parameters\n",
    "    learning_rate = 0.1\n",
    "    training_epochs = 100\n",
    "    dropout_rate = 0.5\n",
    "    converg_thresh = 0.001     # threshold of improvement between accuracy of last 2 epochs\n",
    "    total_len = X_train.shape[0]\n",
    "    # Network Parameters\n",
    "    n_input = X_train.shape[1]\n",
    "    n_hidden_1 = 10    # 1st layer number of features\n",
    "    n_hidden_2 = 1     # 2nd layer number of features\n",
    "    n_output = Y_train.shape[1]\n",
    "    \n",
    "\n",
    "    # Create nodes for the input data and target output classes\n",
    "    x = tf.placeholder(tf.float32, shape=[None, X_train.shape[1]]) # first dimension not fixed (depends on batch size)\n",
    "    y = tf.placeholder(tf.float32, shape=[None, Y_train.shape[1]])    \n",
    "    # Dropout\n",
    "    keep_prob = tf.placeholder(tf.float32)\n",
    "\n",
    "    # Create model\n",
    "    def multilayer_perceptron(x, weights, biases):\n",
    "        # 1. Hidden layer\n",
    "        layer_1 = tf.add(tf.matmul(x, weights['w1']), biases['b1'])\n",
    "        layer_1 = tf.tanh(layer_1) \n",
    "        # 2. Hidden layer\n",
    "        layer_2 = tf.add(tf.matmul(layer_1, weights['w2']), biases['b2'])\n",
    "        layer_2 = tf.tanh(layer_2)\n",
    "        # Output layer with linear activation\n",
    "        layer_out = tf.add(tf.matmul(layer_2, weights['w_out']), biases['b_out'])\n",
    "        layer_out = tf.sigmoid(layer_out)\n",
    "        return layer_out\n",
    "\n",
    "    # Store layers weight & bias\n",
    "    weights = { \n",
    "        'w1': tf.Variable(tf.random_normal([n_input, n_hidden_1], 0, 0.1)),\n",
    "        'w2': tf.Variable(tf.random_normal([n_hidden_1, n_hidden_2], 0, 0.1)),\n",
    "        'w_out': tf.Variable(tf.random_normal([n_hidden_2, n_output], 0, 0.1))\n",
    "    }\n",
    "    biases = {\n",
    "        'b1': tf.Variable(tf.random_normal([n_hidden_1], 0, 0.1)),\n",
    "        'b2': tf.Variable(tf.random_normal([n_hidden_2], 0, 0.1)),\n",
    "        'b_out': tf.Variable(tf.random_normal([n_output], 0, 0.1))\n",
    "    }\n",
    "\n",
    "    # Construct model\n",
    "    y_pred = multilayer_perceptron(x, weights, biases)\n",
    "    # Define loss and optimizer\n",
    "    #cost = tf.reduce_mean(tf.square(tf.transpose(y_pred)-y))\n",
    "    cost = tf.reduce_mean(tf.square(y_pred-y))\n",
    "    optimizer = tf.train.AdamOptimizer(learning_rate=learning_rate).minimize(cost)\n",
    "\n",
    "    #\n",
    "    # Train and Evaluate the Model\n",
    "    #\n",
    "    \n",
    "    # Start interactive session\n",
    "    sess = tf.InteractiveSession(config=tf.ConfigProto(intra_op_parallelism_threads=NUM_THREADS))\n",
    "\n",
    "    # loss function\n",
    "    correct_prediction = tf.equal(tf.argmax(y_pred,1), tf.argmax(y,1))\n",
    "    # result\n",
    "    accuracy = tf.reduce_mean(tf.cast(correct_prediction, tf.float32))\n",
    "    \n",
    "    # start sesseion\n",
    "    sess.run(tf.global_variables_initializer())\n",
    "    # training\n",
    "    train_accuracy_list = [0]\n",
    "    t0 = time.time()\n",
    "    \n",
    "    for epoch in range(training_epochs):\n",
    "        # Train\n",
    "        optimizer.run(feed_dict={x:X_train, y:Y_train, keep_prob:dropout_rate})\n",
    "        # Show update \n",
    "        if epoch % display_step == 0:\n",
    "            train_accuracy_list.append(accuracy.eval(feed_dict={x:X_train, y:Y_train, keep_prob:1.0}))\n",
    "            improvement = abs(train_accuracy_list[-2] - train_accuracy_list[-1])\n",
    "            print(\"Epoch %d, training accuracy %g, improvement %.5f (%.0f sec)\"%(\n",
    "                    epoch, train_accuracy_list[-1], improvement, time.time()-t0))\n",
    "            t0 = time.time()\n",
    "            # Check if converged\n",
    "            if train_accuracy_list[-1] == 1 or improvement <= converg_thresh:\n",
    "                print(\"Converged!\")\n",
    "                break\n",
    "\n",
    "    print(\"Test accuracy %g\"%accuracy.eval(\n",
    "            feed_dict={x: X_test, y: Y_test, keep_prob: 1.0}))"
   ]
  },
  {
   "cell_type": "code",
   "execution_count": 471,
   "metadata": {
    "collapsed": false
   },
   "outputs": [
    {
     "name": "stdout",
     "output_type": "stream",
     "text": [
      "Epoch 0, training accuracy 1, improvement 1.00000 (0 sec)\n",
      "Converged!\n",
      "Test accuracy 1\n"
     ]
    }
   ],
   "source": [
    "# Train MLP\n",
    "MLP(X_train, X_test, y_train.reshape(-1,1), y_test.reshape(-1,1))"
   ]
  },
  {
   "cell_type": "code",
   "execution_count": 469,
   "metadata": {
    "collapsed": false
   },
   "outputs": [
    {
     "data": {
      "text/plain": [
       "True"
      ]
     },
     "execution_count": 469,
     "metadata": {},
     "output_type": "execute_result"
    }
   ],
   "source": []
  },
  {
   "cell_type": "code",
   "execution_count": null,
   "metadata": {
    "collapsed": true
   },
   "outputs": [],
   "source": []
  }
 ],
 "metadata": {
  "anaconda-cloud": {},
  "kernelspec": {
   "display_name": "Python 3",
   "language": "python",
   "name": "python3"
  },
  "language_info": {
   "codemirror_mode": {
    "name": "ipython",
    "version": 3
   },
   "file_extension": ".py",
   "mimetype": "text/x-python",
   "name": "python",
   "nbconvert_exporter": "python",
   "pygments_lexer": "ipython3",
   "version": "3.5.2"
  }
 },
 "nbformat": 4,
 "nbformat_minor": 1
}
