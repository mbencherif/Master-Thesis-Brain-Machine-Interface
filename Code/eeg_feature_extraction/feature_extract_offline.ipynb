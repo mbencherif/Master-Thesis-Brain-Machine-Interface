{
 "cells": [
  {
   "cell_type": "markdown",
   "metadata": {},
   "source": [
    "# Offline Feature Extraction"
   ]
  },
  {
   "cell_type": "code",
   "execution_count": 110,
   "metadata": {
    "collapsed": true
   },
   "outputs": [],
   "source": [
    "import numpy as np\n",
    "import scipy.io\n",
    "import scipy.integrate\n",
    "import pylab\n",
    "import matplotlib.pyplot as plt\n",
    "import mne\n",
    "from mne.time_frequency import psd_multitaper\n",
    "import time\n",
    " \n",
    "%matplotlib inline\n",
    "\n",
    "mne.set_log_level('WARNING')"
   ]
  },
  {
   "cell_type": "markdown",
   "metadata": {},
   "source": [
    "## Set Parameters"
   ]
  },
  {
   "cell_type": "code",
   "execution_count": 111,
   "metadata": {
    "collapsed": false
   },
   "outputs": [
    {
     "name": "stdout",
     "output_type": "stream",
     "text": [
      "Alpha frequency range: [8, 14]\n",
      "Alpha sub bands:\n",
      "[[  8.  10.]\n",
      " [  9.  11.]\n",
      " [ 10.  12.]\n",
      " [ 11.  13.]]\n"
     ]
    }
   ],
   "source": [
    "freq_s = 250    # [Hz] Sampling Frequency\n",
    "trial_len = 1.    # [sec] Length of a single trial\n",
    "rest_len = 0.5    # [sec] Length of rest before the trial\n",
    "n_channels = 3    # set numpy of channels to use from raw eeg matrix\n",
    "alpha_range = [8, 14]    # [Hz] range of alpha frequency\n",
    "alpha_subbands_frq = np.array([np.arange(8,12),np.arange(10,14)]).T.astype(float)    # Sub bands of alpha\n",
    "print('Alpha frequency range: {}\\nAlpha sub bands:\\n{}'.format(alpha_range, alpha_subbands_frq))"
   ]
  },
  {
   "cell_type": "markdown",
   "metadata": {},
   "source": [
    "## Read Raw Data"
   ]
  },
  {
   "cell_type": "code",
   "execution_count": 112,
   "metadata": {
    "collapsed": false
   },
   "outputs": [
    {
     "data": {
      "text/plain": [
       "<Raw  |  exp_1-raw.fif, n_channels x n_times : 3 x 552452 (2209.8 sec), ~12.7 MB, data loaded>"
      ]
     },
     "execution_count": 112,
     "metadata": {},
     "output_type": "execute_result"
    }
   ],
   "source": [
    "# Load Raw EEG\n",
    "raw_fname = '/Users/leonardrychly/Dropbox/[TUM]/4. WiSe 1617/Masterarbeit/Code/eeg_feature_extraction/exp_1-raw.fif'\n",
    "raw = mne.io.read_raw_fif(raw_fname, add_eeg_ref=False).load_data()\n",
    "\n",
    "# Remove EOG channels (channels 4-6)\n",
    "raw.drop_channels(['eog_4','eog_5', 'eog_6'])"
   ]
  },
  {
   "cell_type": "markdown",
   "metadata": {},
   "source": [
    "#### Remove Artifacts"
   ]
  },
  {
   "cell_type": "code",
   "execution_count": 113,
   "metadata": {
    "collapsed": true
   },
   "outputs": [],
   "source": [
    "# Load data containing artifacts\n",
    "data_path = \"/Users/leonardrychly/Dropbox/[TUM]/4. WiSe 1617/Masterarbeit/Code/eeg_feature_extraction/B01T.mat\"\n",
    "mat = scipy.io.loadmat(data_path)['data']\n",
    "\n",
    "# Get artifacts\n",
    "exp_arr = mat[0,0]\n",
    "# explanation:   exp_arr[0][0][data]\n",
    "exp_dict = {'X': exp_arr[0][0][0].T,\n",
    "            'trial': exp_arr[0][0][1],\n",
    "            'y': exp_arr[0][0][2],\n",
    "            'fs': exp_arr[0][0][3].flatten(),\n",
    "             'classes': exp_arr[0][0][4].flatten(),\n",
    "             'artifacts': exp_arr[0][0][5],\n",
    "             'gender': exp_arr[0][0][6],\n",
    "             'age': exp_arr[0][0][7].flatten()\n",
    "             }\n",
    "\n",
    "# Remove from 'trials' and 'y'\n",
    "artifact_idx = exp_dict['artifacts'].nonzero()[0]\n",
    "exp_dict['trial'] = np.delete(exp_dict['trial'], artifact_idx)\n",
    "exp_dict['y'] = np.delete(exp_dict['y'], artifact_idx)"
   ]
  },
  {
   "cell_type": "markdown",
   "metadata": {},
   "source": [
    "# Functions"
   ]
  },
  {
   "cell_type": "markdown",
   "metadata": {},
   "source": [
    "## Function: power_difference( raw,  dt_rest,  dt_trial )\n",
    "Calculate the power difference of the rest and trial phase of an eeg signal :\n",
    "- Calculate PSD for rest and trial\n",
    "- Integrate over PSD of rest and trial\n",
    "- Calculate difference between power rest and trial\n",
    "\n",
    "\n",
    "#### Inpunt\n",
    "* raw: band filtered mne raw object\n",
    "* rest_len: [sec] length of rest interval\n",
    "* trial_len: [sec] length of trial interval\n",
    "\n",
    "\n",
    "#### Outpunt\n",
    "* delta_power: np.array of delta of power values of each channel between rest and trial phase in raw object\n",
    "\n",
    "\n"
   ]
  },
  {
   "cell_type": "code",
   "execution_count": 114,
   "metadata": {
    "collapsed": true
   },
   "outputs": [],
   "source": [
    "def power_difference(raw, rest_len, trial_len):\n",
    "    # Parameters\n",
    "    f_min, f_max = 5, 14\n",
    "    # PSD\n",
    "    psds_rest, freqs_test = psd_multitaper(raw, low_bias=True, tmin=0.0, tmax=rest_len,\n",
    "                                           fmin=f_min, fmax=f_max, proj=True)\n",
    "    psds_trial, freqs_trial = psd_multitaper(raw, low_bias=True, tmin=rest_len, tmax=rest_len+trial_len,\n",
    "                                             fmin=f_min, fmax=f_max, proj=True)\n",
    "    # Power\n",
    "    power_arr_rest = np.zeros(len(psds_rest))    \n",
    "    power_arr_trial = np.zeros(len(psds_trial))\n",
    "    for i in range(len(psds_trial)):    # iterate through channels\n",
    "        power_arr_rest[i] = scipy.integrate.simps(psds_rest[i])\n",
    "        power_arr_trial[i] = scipy.integrate.simps(psds_trial[i])\n",
    "    \n",
    "    # Power difference\n",
    "    delta_powers = power_arr_rest - power_arr_trial\n",
    "    \n",
    "    return delta_powers"
   ]
  },
  {
   "cell_type": "markdown",
   "metadata": {},
   "source": [
    "# Create Feature Matrix"
   ]
  },
  {
   "cell_type": "markdown",
   "metadata": {},
   "source": [
    "#### X.shape = (n_samples, n_subbands*n_channels)"
   ]
  },
  {
   "cell_type": "code",
   "execution_count": 115,
   "metadata": {
    "collapsed": false
   },
   "outputs": [
    {
     "name": "stdout",
     "output_type": "stream",
     "text": [
      "X.shape:  (102, 12)\n",
      "y.shape:  (102,)\n"
     ]
    }
   ],
   "source": [
    "# Init X\n",
    "n_trials   = len(exp_dict['trial'])\n",
    "n_subbands = len(alpha_subbands_frq)\n",
    "n_channels = len(raw.ch_names)\n",
    "X = np.zeros((n_trials, n_subbands * n_channels))\n",
    "# Init y\n",
    "y = np.zeros(len(exp_dict['y']))\n",
    "\n",
    "print(\"X.shape: \", X.shape)\n",
    "print(\"y.shape: \", y.shape)"
   ]
  },
  {
   "cell_type": "markdown",
   "metadata": {},
   "source": [
    "#### Feature Matrix X"
   ]
  },
  {
   "cell_type": "code",
   "execution_count": 116,
   "metadata": {
    "collapsed": false
   },
   "outputs": [
    {
     "name": "stdout",
     "output_type": "stream",
     "text": [
      "Did not add to X: trial_idx=553654, trial_t=2214.616, tmin=2214.116, tmax=2215.616\n",
      "Did not add to X: trial_idx=560414, trial_t=2241.656, tmin=2241.156, tmax=2242.656\n",
      "Did not add to X: trial_idx=567567, trial_t=2270.268, tmin=2269.768, tmax=2271.268\n",
      "Did not add to X: trial_idx=572489, trial_t=2289.956, tmin=2289.456, tmax=2290.956\n",
      "Did not add to X: trial_idx=574536, trial_t=2298.144, tmin=2297.644, tmax=2299.144\n",
      "Did not add to X: trial_idx=579284, trial_t=2317.136, tmin=2316.636, tmax=2318.136\n",
      "Did not add to X: trial_idx=581622, trial_t=2326.488, tmin=2325.988, tmax=2327.488\n",
      "Did not add to X: trial_idx=584072, trial_t=2336.288, tmin=2335.788, tmax=2337.288\n",
      "Did not add to X: trial_idx=588636, trial_t=2354.544, tmin=2354.044, tmax=2355.544\n",
      "Did not add to X: trial_idx=590826, trial_t=2363.304, tmin=2362.804, tmax=2364.304\n",
      "Did not add to X: trial_idx=593107, trial_t=2372.428, tmin=2371.928, tmax=2373.428\n",
      "Did not add to X: trial_idx=601938, trial_t=2407.752, tmin=2407.252, tmax=2408.752\n",
      "Creating Feature Matrix takes 91.44 seconds\n"
     ]
    }
   ],
   "source": [
    "# Calculate Features\n",
    "filter_len = int((trial_len + rest_len) * freq_s)\n",
    "\n",
    "t0 = time.time()\n",
    "\n",
    "for t, trial_idx in enumerate(exp_dict['trial']):    # t: iterate over trials\n",
    "    # crop relevant interval  \n",
    "    raw_temp = raw.copy()\n",
    "    trial_t = trial_idx/freq_s\n",
    "    try:\n",
    "        raw_trial_crop = raw_temp.crop(tmin=trial_t-rest_len, tmax=trial_t+trial_len)\n",
    "        \n",
    "        raw_trial_sub_list = [[] for _ in range(len(alpha_subbands_frq))]\n",
    "        for s, subband in enumerate(alpha_subbands_frq):    # s: iterate over subbands\n",
    "            raw_temp = raw_trial_crop.copy()\n",
    "            # filter subbands\n",
    "            raw_alpha_sub = raw_temp.filter(l_freq=subband[0], h_freq=subband[1], \n",
    "                                            filter_length=filter_len, l_trans_bandwidth='auto', # filter_length='auto'\n",
    "                                            h_trans_bandwidth='auto', n_jobs=1, method='fir', \n",
    "                                            iir_params=None, phase='zero', fir_window='hamming')\n",
    "            # calc power\n",
    "            # delta_powers: for each channel one power difference\n",
    "            delta_powers = power_difference(raw, rest_len, trial_len)\n",
    "\n",
    "            # add to feature matrix\n",
    "            for c, d_power in enumerate(delta_powers):    # c: iterate over channels\n",
    "                X[t, s + (c*n_subbands)] = d_power\n",
    "                \n",
    "            # add label to y\n",
    "            y[t] = exp_dict['y'][t]\n",
    "            \n",
    "    except:\n",
    "        print(\"Did not add to X: trial_idx={}, trial_t={}, tmin={}, tmax={}\".format(\n",
    "                    trial_idx, trial_t, trial_t-rest_len, trial_t+trial_len))\n",
    "    \n",
    "    \n",
    "    \n",
    "print(\"Creating Feature Matrix takes {:0.2f} seconds\".format(time.time()-t0))"
   ]
  },
  {
   "cell_type": "code",
   "execution_count": 139,
   "metadata": {
    "collapsed": false
   },
   "outputs": [],
   "source": [
    "# Delete samples with 0 in lebel vect\n",
    "zero_idx_list = np.where(y == 0)[0]\n",
    "X = np.delete(X, zero_idx_list, axis=0)\n",
    "y = np.delete(y, zero_idx_list)"
   ]
  },
  {
   "cell_type": "code",
   "execution_count": 141,
   "metadata": {
    "collapsed": false
   },
   "outputs": [
    {
     "data": {
      "text/plain": [
       "(90, 12)"
      ]
     },
     "execution_count": 141,
     "metadata": {},
     "output_type": "execute_result"
    }
   ],
   "source": [
    "X.shape"
   ]
  },
  {
   "cell_type": "code",
   "execution_count": 142,
   "metadata": {
    "collapsed": false
   },
   "outputs": [
    {
     "data": {
      "text/plain": [
       "(90,)"
      ]
     },
     "execution_count": 142,
     "metadata": {},
     "output_type": "execute_result"
    }
   ],
   "source": [
    "y.shape"
   ]
  },
  {
   "cell_type": "code",
   "execution_count": 145,
   "metadata": {
    "collapsed": false
   },
   "outputs": [],
   "source": [
    "np.save('X_feat_mat.npy', X)"
   ]
  },
  {
   "cell_type": "code",
   "execution_count": 146,
   "metadata": {
    "collapsed": true
   },
   "outputs": [],
   "source": [
    "np.save('y_label_vect.npy', y)"
   ]
  },
  {
   "cell_type": "code",
   "execution_count": null,
   "metadata": {
    "collapsed": false
   },
   "outputs": [],
   "source": []
  },
  {
   "cell_type": "code",
   "execution_count": null,
   "metadata": {
    "collapsed": true
   },
   "outputs": [],
   "source": []
  },
  {
   "cell_type": "code",
   "execution_count": null,
   "metadata": {
    "collapsed": true
   },
   "outputs": [],
   "source": []
  },
  {
   "cell_type": "code",
   "execution_count": null,
   "metadata": {
    "collapsed": true
   },
   "outputs": [],
   "source": []
  },
  {
   "cell_type": "code",
   "execution_count": null,
   "metadata": {
    "collapsed": true
   },
   "outputs": [],
   "source": []
  }
 ],
 "metadata": {
  "anaconda-cloud": {},
  "kernelspec": {
   "display_name": "Python 3",
   "language": "python",
   "name": "python3"
  },
  "language_info": {
   "codemirror_mode": {
    "name": "ipython",
    "version": 3
   },
   "file_extension": ".py",
   "mimetype": "text/x-python",
   "name": "python",
   "nbconvert_exporter": "python",
   "pygments_lexer": "ipython3",
   "version": "3.5.2"
  }
 },
 "nbformat": 4,
 "nbformat_minor": 1
}
