{
 "cells": [
  {
   "cell_type": "markdown",
   "metadata": {},
   "source": [
    "# Offline Feature Extraction using ERD / ERS\n",
    "\n",
    "- ## ERS - Event Related Synchonization: \n",
    "$$ERS[\\%] = \\big( P_{ERS} - P_{rest} \\big) / P_{rest} * 100\\% $$\n",
    "\n",
    "\n",
    "- ## ERD - Event Related Desynchonization:\n",
    "$$ERD[\\%] = \\big( P_{ERD} - P_{rest} \\big) / P_{rest} * 100\\% $$"
   ]
  },
  {
   "cell_type": "code",
   "execution_count": 32,
   "metadata": {
    "collapsed": true
   },
   "outputs": [],
   "source": [
    "import numpy as np\n",
    "import scipy.io\n",
    "import scipy.integrate\n",
    "import pylab\n",
    "import matplotlib.pyplot as plt \n",
    "import mne\n",
    "from mne.time_frequency import psd_multitaper\n",
    "import time\n",
    " \n",
    "%matplotlib inline\n",
    "\n",
    "mne.set_log_level('WARNING')"
   ]
  },
  {
   "cell_type": "markdown",
   "metadata": {},
   "source": [
    "## Set Parameters"
   ]
  },
  {
   "cell_type": "code",
   "execution_count": 33,
   "metadata": {
    "collapsed": false
   },
   "outputs": [],
   "source": [
    "freq_s = 250    # [Hz] Sampling Frequency\n",
    "\n",
    "trial_len = 4    # [sec] length of a trial \n",
    "rest_len = 1    # [sec] time before trial start\n",
    "erd_start = 1    # [sec] after trial time start\n",
    "erd_len = 4    # [sec] length of erd window\n",
    "ers_start = trial_len    # [sec] after trial time start\n",
    "ers_len = rest_len    # [sec] length of ers window\n",
    "\n",
    "a_band = [8, 12]    # [Hz] alpha band\n",
    "b_band = [13, 26]    # # [Hz] beta band"
   ]
  },
  {
   "cell_type": "markdown",
   "metadata": {},
   "source": [
    "## Read Raw Data"
   ]
  },
  {
   "cell_type": "code",
   "execution_count": 34,
   "metadata": {
    "collapsed": false
   },
   "outputs": [
    {
     "data": {
      "text/plain": [
       "<Raw  |  exp_0-raw.fif, n_channels x n_times : 3 x 604803 (2419.2 sec), ~13.9 MB, data loaded>"
      ]
     },
     "execution_count": 34,
     "metadata": {},
     "output_type": "execute_result"
    }
   ],
   "source": [
    "# Load Raw EEG\n",
    "raw_fname = '/Users/leonardrychly/Dropbox/[TUM]/4. WiSe 1617/Masterarbeit/Code/eeg_feature_extraction/exp_0-raw.fif'\n",
    "raw = mne.io.read_raw_fif(raw_fname, add_eeg_ref=False).load_data()\n",
    "\n",
    "# Remove EOG channels (channels 4-6)\n",
    "raw.drop_channels(['eog_4','eog_5', 'eog_6'])"
   ]
  },
  {
   "cell_type": "markdown",
   "metadata": {},
   "source": [
    "#### Remove Artifacts"
   ]
  },
  {
   "cell_type": "code",
   "execution_count": 35,
   "metadata": {
    "collapsed": true
   },
   "outputs": [],
   "source": [
    "# Load data containing artifacts\n",
    "data_path = \"/Users/leonardrychly/Dropbox/[TUM]/4. WiSe 1617/Masterarbeit/Code/eeg_feature_extraction/B01T.mat\"\n",
    "mat = scipy.io.loadmat(data_path)['data']\n",
    "\n",
    "# Get artifacts\n",
    "exp_arr = mat[0,0]\n",
    "# explanation:   exp_arr[0][0][data]\n",
    "exp_dict = {'X': exp_arr[0][0][0].T,\n",
    "            'trial': exp_arr[0][0][1],\n",
    "            'y': exp_arr[0][0][2],\n",
    "            'fs': exp_arr[0][0][3].flatten(),\n",
    "             'classes': exp_arr[0][0][4].flatten(),\n",
    "             'artifacts': exp_arr[0][0][5],\n",
    "             'gender': exp_arr[0][0][6],\n",
    "             'age': exp_arr[0][0][7].flatten()\n",
    "             }\n",
    "\n",
    "# Remove from 'trials' and 'y'\n",
    "artifact_idx = exp_dict['artifacts'].nonzero()[0]\n",
    "exp_dict['trial'] = np.delete(exp_dict['trial'], artifact_idx)\n",
    "exp_dict['y'] = np.delete(exp_dict['y'], artifact_idx)"
   ]
  },
  {
   "cell_type": "markdown",
   "metadata": {},
   "source": [
    "# Functions"
   ]
  },
  {
   "cell_type": "code",
   "execution_count": null,
   "metadata": {
    "collapsed": false
   },
   "outputs": [],
   "source": []
  },
  {
   "cell_type": "markdown",
   "metadata": {},
   "source": [
    "# Create Feature Matrix"
   ]
  },
  {
   "cell_type": "markdown",
   "metadata": {},
   "source": [
    "#### X.shape = (n_samples, n_subbands*n_channels)"
   ]
  },
  {
   "cell_type": "code",
   "execution_count": 36,
   "metadata": {
    "collapsed": false
   },
   "outputs": [
    {
     "name": "stdout",
     "output_type": "stream",
     "text": [
      "X.shape:  (102, 6)\n",
      "y.shape:  (102,)\n"
     ]
    }
   ],
   "source": [
    "# Init X\n",
    "n_trials   = len(exp_dict['trial'])\n",
    "n_erp = 2\n",
    "n_channels = len(raw.ch_names)\n",
    "X = np.zeros((n_trials, n_erp * n_channels))\n",
    "# Init y\n",
    "y = np.zeros(len(exp_dict['y']))\n",
    "\n",
    "print(\"X.shape: \", X.shape)\n",
    "print(\"y.shape: \", y.shape)"
   ]
  },
  {
   "cell_type": "code",
   "execution_count": 37,
   "metadata": {
    "collapsed": false
   },
   "outputs": [
    {
     "name": "stdout",
     "output_type": "stream",
     "text": [
      "Attenuation at stop frequency 6.0Hz is only 17.0dB. Increase filter_length for higher attenuation.\n"
     ]
    },
    {
     "name": "stderr",
     "output_type": "stream",
     "text": [
      "<ipython-input-37-e77a7ff5d348>:39: RuntimeWarning: Attenuation at stop frequency 6.0Hz is only 17.0dB. Increase filter_length for higher attenuation.\n",
      "  iir_params=None, phase='zero', fir_window='hamming')\n"
     ]
    },
    {
     "name": "stdout",
     "output_type": "stream",
     "text": [
      "Attenuation at stop frequency 6.0Hz is only 17.0dB. Increase filter_length for higher attenuation.\n"
     ]
    },
    {
     "name": "stderr",
     "output_type": "stream",
     "text": [
      "<ipython-input-37-e77a7ff5d348>:39: RuntimeWarning: Attenuation at stop frequency 6.0Hz is only 17.0dB. Increase filter_length for higher attenuation.\n",
      "  iir_params=None, phase='zero', fir_window='hamming')\n"
     ]
    },
    {
     "name": "stdout",
     "output_type": "stream",
     "text": [
      "Attenuation at stop frequency 6.0Hz is only 17.0dB. Increase filter_length for higher attenuation.\n"
     ]
    },
    {
     "name": "stderr",
     "output_type": "stream",
     "text": [
      "<ipython-input-37-e77a7ff5d348>:39: RuntimeWarning: Attenuation at stop frequency 6.0Hz is only 17.0dB. Increase filter_length for higher attenuation.\n",
      "  iir_params=None, phase='zero', fir_window='hamming')\n"
     ]
    },
    {
     "name": "stdout",
     "output_type": "stream",
     "text": [
      "Attenuation at stop frequency 6.0Hz is only 17.0dB. Increase filter_length for higher attenuation.\n"
     ]
    },
    {
     "name": "stderr",
     "output_type": "stream",
     "text": [
      "<ipython-input-37-e77a7ff5d348>:39: RuntimeWarning: Attenuation at stop frequency 6.0Hz is only 17.0dB. Increase filter_length for higher attenuation.\n",
      "  iir_params=None, phase='zero', fir_window='hamming')\n"
     ]
    },
    {
     "name": "stdout",
     "output_type": "stream",
     "text": [
      "Attenuation at stop frequency 6.0Hz is only 17.0dB. Increase filter_length for higher attenuation.\n"
     ]
    },
    {
     "name": "stderr",
     "output_type": "stream",
     "text": [
      "<ipython-input-37-e77a7ff5d348>:39: RuntimeWarning: Attenuation at stop frequency 6.0Hz is only 17.0dB. Increase filter_length for higher attenuation.\n",
      "  iir_params=None, phase='zero', fir_window='hamming')\n"
     ]
    },
    {
     "name": "stdout",
     "output_type": "stream",
     "text": [
      "Attenuation at stop frequency 6.0Hz is only 17.0dB. Increase filter_length for higher attenuation.\n"
     ]
    },
    {
     "name": "stderr",
     "output_type": "stream",
     "text": [
      "<ipython-input-37-e77a7ff5d348>:39: RuntimeWarning: Attenuation at stop frequency 6.0Hz is only 17.0dB. Increase filter_length for higher attenuation.\n",
      "  iir_params=None, phase='zero', fir_window='hamming')\n"
     ]
    },
    {
     "name": "stdout",
     "output_type": "stream",
     "text": [
      "Attenuation at stop frequency 6.0Hz is only 17.0dB. Increase filter_length for higher attenuation.\n"
     ]
    },
    {
     "name": "stderr",
     "output_type": "stream",
     "text": [
      "<ipython-input-37-e77a7ff5d348>:39: RuntimeWarning: Attenuation at stop frequency 6.0Hz is only 17.0dB. Increase filter_length for higher attenuation.\n",
      "  iir_params=None, phase='zero', fir_window='hamming')\n"
     ]
    },
    {
     "name": "stdout",
     "output_type": "stream",
     "text": [
      "Attenuation at stop frequency 6.0Hz is only 17.0dB. Increase filter_length for higher attenuation.\n"
     ]
    },
    {
     "name": "stderr",
     "output_type": "stream",
     "text": [
      "<ipython-input-37-e77a7ff5d348>:39: RuntimeWarning: Attenuation at stop frequency 6.0Hz is only 17.0dB. Increase filter_length for higher attenuation.\n",
      "  iir_params=None, phase='zero', fir_window='hamming')\n"
     ]
    },
    {
     "name": "stdout",
     "output_type": "stream",
     "text": [
      "Attenuation at stop frequency 6.0Hz is only 17.0dB. Increase filter_length for higher attenuation.\n"
     ]
    },
    {
     "name": "stderr",
     "output_type": "stream",
     "text": [
      "<ipython-input-37-e77a7ff5d348>:39: RuntimeWarning: Attenuation at stop frequency 6.0Hz is only 17.0dB. Increase filter_length for higher attenuation.\n",
      "  iir_params=None, phase='zero', fir_window='hamming')\n"
     ]
    },
    {
     "name": "stdout",
     "output_type": "stream",
     "text": [
      "Attenuation at stop frequency 6.0Hz is only 17.0dB. Increase filter_length for higher attenuation.\n"
     ]
    },
    {
     "name": "stderr",
     "output_type": "stream",
     "text": [
      "<ipython-input-37-e77a7ff5d348>:39: RuntimeWarning: Attenuation at stop frequency 6.0Hz is only 17.0dB. Increase filter_length for higher attenuation.\n",
      "  iir_params=None, phase='zero', fir_window='hamming')\n"
     ]
    },
    {
     "name": "stdout",
     "output_type": "stream",
     "text": [
      "Attenuation at stop frequency 6.0Hz is only 17.0dB. Increase filter_length for higher attenuation.\n"
     ]
    },
    {
     "name": "stderr",
     "output_type": "stream",
     "text": [
      "<ipython-input-37-e77a7ff5d348>:39: RuntimeWarning: Attenuation at stop frequency 6.0Hz is only 17.0dB. Increase filter_length for higher attenuation.\n",
      "  iir_params=None, phase='zero', fir_window='hamming')\n"
     ]
    },
    {
     "name": "stdout",
     "output_type": "stream",
     "text": [
      "Attenuation at stop frequency 6.0Hz is only 17.0dB. Increase filter_length for higher attenuation.\n"
     ]
    },
    {
     "name": "stderr",
     "output_type": "stream",
     "text": [
      "<ipython-input-37-e77a7ff5d348>:39: RuntimeWarning: Attenuation at stop frequency 6.0Hz is only 17.0dB. Increase filter_length for higher attenuation.\n",
      "  iir_params=None, phase='zero', fir_window='hamming')\n"
     ]
    },
    {
     "name": "stdout",
     "output_type": "stream",
     "text": [
      "Attenuation at stop frequency 6.0Hz is only 17.0dB. Increase filter_length for higher attenuation.\n"
     ]
    },
    {
     "name": "stderr",
     "output_type": "stream",
     "text": [
      "<ipython-input-37-e77a7ff5d348>:39: RuntimeWarning: Attenuation at stop frequency 6.0Hz is only 17.0dB. Increase filter_length for higher attenuation.\n",
      "  iir_params=None, phase='zero', fir_window='hamming')\n"
     ]
    },
    {
     "name": "stdout",
     "output_type": "stream",
     "text": [
      "Attenuation at stop frequency 6.0Hz is only 17.0dB. Increase filter_length for higher attenuation.\n"
     ]
    },
    {
     "name": "stderr",
     "output_type": "stream",
     "text": [
      "<ipython-input-37-e77a7ff5d348>:39: RuntimeWarning: Attenuation at stop frequency 6.0Hz is only 17.0dB. Increase filter_length for higher attenuation.\n",
      "  iir_params=None, phase='zero', fir_window='hamming')\n"
     ]
    },
    {
     "name": "stdout",
     "output_type": "stream",
     "text": [
      "Attenuation at stop frequency 6.0Hz is only 17.0dB. Increase filter_length for higher attenuation.\n"
     ]
    },
    {
     "name": "stderr",
     "output_type": "stream",
     "text": [
      "<ipython-input-37-e77a7ff5d348>:39: RuntimeWarning: Attenuation at stop frequency 6.0Hz is only 17.0dB. Increase filter_length for higher attenuation.\n",
      "  iir_params=None, phase='zero', fir_window='hamming')\n"
     ]
    },
    {
     "name": "stdout",
     "output_type": "stream",
     "text": [
      "Attenuation at stop frequency 6.0Hz is only 17.0dB. Increase filter_length for higher attenuation.\n"
     ]
    },
    {
     "name": "stderr",
     "output_type": "stream",
     "text": [
      "<ipython-input-37-e77a7ff5d348>:39: RuntimeWarning: Attenuation at stop frequency 6.0Hz is only 17.0dB. Increase filter_length for higher attenuation.\n",
      "  iir_params=None, phase='zero', fir_window='hamming')\n"
     ]
    },
    {
     "name": "stdout",
     "output_type": "stream",
     "text": [
      "Attenuation at stop frequency 6.0Hz is only 17.0dB. Increase filter_length for higher attenuation.\n"
     ]
    },
    {
     "name": "stderr",
     "output_type": "stream",
     "text": [
      "<ipython-input-37-e77a7ff5d348>:39: RuntimeWarning: Attenuation at stop frequency 6.0Hz is only 17.0dB. Increase filter_length for higher attenuation.\n",
      "  iir_params=None, phase='zero', fir_window='hamming')\n"
     ]
    },
    {
     "name": "stdout",
     "output_type": "stream",
     "text": [
      "Attenuation at stop frequency 6.0Hz is only 17.0dB. Increase filter_length for higher attenuation.\n"
     ]
    },
    {
     "name": "stderr",
     "output_type": "stream",
     "text": [
      "<ipython-input-37-e77a7ff5d348>:39: RuntimeWarning: Attenuation at stop frequency 6.0Hz is only 17.0dB. Increase filter_length for higher attenuation.\n",
      "  iir_params=None, phase='zero', fir_window='hamming')\n"
     ]
    },
    {
     "name": "stdout",
     "output_type": "stream",
     "text": [
      "Attenuation at stop frequency 6.0Hz is only 17.0dB. Increase filter_length for higher attenuation.\n"
     ]
    },
    {
     "name": "stderr",
     "output_type": "stream",
     "text": [
      "<ipython-input-37-e77a7ff5d348>:39: RuntimeWarning: Attenuation at stop frequency 6.0Hz is only 17.0dB. Increase filter_length for higher attenuation.\n",
      "  iir_params=None, phase='zero', fir_window='hamming')\n"
     ]
    },
    {
     "name": "stdout",
     "output_type": "stream",
     "text": [
      "Attenuation at stop frequency 6.0Hz is only 17.0dB. Increase filter_length for higher attenuation.\n"
     ]
    },
    {
     "name": "stderr",
     "output_type": "stream",
     "text": [
      "<ipython-input-37-e77a7ff5d348>:39: RuntimeWarning: Attenuation at stop frequency 6.0Hz is only 17.0dB. Increase filter_length for higher attenuation.\n",
      "  iir_params=None, phase='zero', fir_window='hamming')\n"
     ]
    },
    {
     "name": "stdout",
     "output_type": "stream",
     "text": [
      "Attenuation at stop frequency 6.0Hz is only 17.0dB. Increase filter_length for higher attenuation.\n"
     ]
    },
    {
     "name": "stderr",
     "output_type": "stream",
     "text": [
      "<ipython-input-37-e77a7ff5d348>:39: RuntimeWarning: Attenuation at stop frequency 6.0Hz is only 17.0dB. Increase filter_length for higher attenuation.\n",
      "  iir_params=None, phase='zero', fir_window='hamming')\n"
     ]
    },
    {
     "name": "stdout",
     "output_type": "stream",
     "text": [
      "Attenuation at stop frequency 6.0Hz is only 17.0dB. Increase filter_length for higher attenuation.\n"
     ]
    },
    {
     "name": "stderr",
     "output_type": "stream",
     "text": [
      "<ipython-input-37-e77a7ff5d348>:39: RuntimeWarning: Attenuation at stop frequency 6.0Hz is only 17.0dB. Increase filter_length for higher attenuation.\n",
      "  iir_params=None, phase='zero', fir_window='hamming')\n"
     ]
    },
    {
     "name": "stdout",
     "output_type": "stream",
     "text": [
      "Attenuation at stop frequency 6.0Hz is only 17.0dB. Increase filter_length for higher attenuation.\n"
     ]
    },
    {
     "name": "stderr",
     "output_type": "stream",
     "text": [
      "<ipython-input-37-e77a7ff5d348>:39: RuntimeWarning: Attenuation at stop frequency 6.0Hz is only 17.0dB. Increase filter_length for higher attenuation.\n",
      "  iir_params=None, phase='zero', fir_window='hamming')\n"
     ]
    },
    {
     "name": "stdout",
     "output_type": "stream",
     "text": [
      "Attenuation at stop frequency 6.0Hz is only 17.0dB. Increase filter_length for higher attenuation.\n"
     ]
    },
    {
     "name": "stderr",
     "output_type": "stream",
     "text": [
      "<ipython-input-37-e77a7ff5d348>:39: RuntimeWarning: Attenuation at stop frequency 6.0Hz is only 17.0dB. Increase filter_length for higher attenuation.\n",
      "  iir_params=None, phase='zero', fir_window='hamming')\n"
     ]
    },
    {
     "name": "stdout",
     "output_type": "stream",
     "text": [
      "Attenuation at stop frequency 6.0Hz is only 17.0dB. Increase filter_length for higher attenuation.\n"
     ]
    },
    {
     "name": "stderr",
     "output_type": "stream",
     "text": [
      "<ipython-input-37-e77a7ff5d348>:39: RuntimeWarning: Attenuation at stop frequency 6.0Hz is only 17.0dB. Increase filter_length for higher attenuation.\n",
      "  iir_params=None, phase='zero', fir_window='hamming')\n"
     ]
    },
    {
     "name": "stdout",
     "output_type": "stream",
     "text": [
      "Attenuation at stop frequency 6.0Hz is only 17.0dB. Increase filter_length for higher attenuation.\n"
     ]
    },
    {
     "name": "stderr",
     "output_type": "stream",
     "text": [
      "<ipython-input-37-e77a7ff5d348>:39: RuntimeWarning: Attenuation at stop frequency 6.0Hz is only 17.0dB. Increase filter_length for higher attenuation.\n",
      "  iir_params=None, phase='zero', fir_window='hamming')\n"
     ]
    },
    {
     "name": "stdout",
     "output_type": "stream",
     "text": [
      "Attenuation at stop frequency 6.0Hz is only 17.0dB. Increase filter_length for higher attenuation.\n"
     ]
    },
    {
     "name": "stderr",
     "output_type": "stream",
     "text": [
      "<ipython-input-37-e77a7ff5d348>:39: RuntimeWarning: Attenuation at stop frequency 6.0Hz is only 17.0dB. Increase filter_length for higher attenuation.\n",
      "  iir_params=None, phase='zero', fir_window='hamming')\n"
     ]
    },
    {
     "name": "stdout",
     "output_type": "stream",
     "text": [
      "Attenuation at stop frequency 6.0Hz is only 17.0dB. Increase filter_length for higher attenuation.\n"
     ]
    },
    {
     "name": "stderr",
     "output_type": "stream",
     "text": [
      "<ipython-input-37-e77a7ff5d348>:39: RuntimeWarning: Attenuation at stop frequency 6.0Hz is only 17.0dB. Increase filter_length for higher attenuation.\n",
      "  iir_params=None, phase='zero', fir_window='hamming')\n"
     ]
    },
    {
     "name": "stdout",
     "output_type": "stream",
     "text": [
      "Attenuation at stop frequency 6.0Hz is only 17.0dB. Increase filter_length for higher attenuation.\n"
     ]
    },
    {
     "name": "stderr",
     "output_type": "stream",
     "text": [
      "<ipython-input-37-e77a7ff5d348>:39: RuntimeWarning: Attenuation at stop frequency 6.0Hz is only 17.0dB. Increase filter_length for higher attenuation.\n",
      "  iir_params=None, phase='zero', fir_window='hamming')\n"
     ]
    },
    {
     "name": "stdout",
     "output_type": "stream",
     "text": [
      "Attenuation at stop frequency 6.0Hz is only 17.0dB. Increase filter_length for higher attenuation.\n"
     ]
    },
    {
     "name": "stderr",
     "output_type": "stream",
     "text": [
      "<ipython-input-37-e77a7ff5d348>:39: RuntimeWarning: Attenuation at stop frequency 6.0Hz is only 17.0dB. Increase filter_length for higher attenuation.\n",
      "  iir_params=None, phase='zero', fir_window='hamming')\n"
     ]
    },
    {
     "name": "stdout",
     "output_type": "stream",
     "text": [
      "Attenuation at stop frequency 6.0Hz is only 17.0dB. Increase filter_length for higher attenuation.\n"
     ]
    },
    {
     "name": "stderr",
     "output_type": "stream",
     "text": [
      "<ipython-input-37-e77a7ff5d348>:39: RuntimeWarning: Attenuation at stop frequency 6.0Hz is only 17.0dB. Increase filter_length for higher attenuation.\n",
      "  iir_params=None, phase='zero', fir_window='hamming')\n"
     ]
    },
    {
     "name": "stdout",
     "output_type": "stream",
     "text": [
      "Attenuation at stop frequency 6.0Hz is only 17.0dB. Increase filter_length for higher attenuation.\n"
     ]
    },
    {
     "name": "stderr",
     "output_type": "stream",
     "text": [
      "<ipython-input-37-e77a7ff5d348>:39: RuntimeWarning: Attenuation at stop frequency 6.0Hz is only 17.0dB. Increase filter_length for higher attenuation.\n",
      "  iir_params=None, phase='zero', fir_window='hamming')\n"
     ]
    },
    {
     "name": "stdout",
     "output_type": "stream",
     "text": [
      "Attenuation at stop frequency 6.0Hz is only 17.0dB. Increase filter_length for higher attenuation.\n"
     ]
    },
    {
     "name": "stderr",
     "output_type": "stream",
     "text": [
      "<ipython-input-37-e77a7ff5d348>:39: RuntimeWarning: Attenuation at stop frequency 6.0Hz is only 17.0dB. Increase filter_length for higher attenuation.\n",
      "  iir_params=None, phase='zero', fir_window='hamming')\n"
     ]
    },
    {
     "name": "stdout",
     "output_type": "stream",
     "text": [
      "Attenuation at stop frequency 6.0Hz is only 17.0dB. Increase filter_length for higher attenuation.\n"
     ]
    },
    {
     "name": "stderr",
     "output_type": "stream",
     "text": [
      "<ipython-input-37-e77a7ff5d348>:39: RuntimeWarning: Attenuation at stop frequency 6.0Hz is only 17.0dB. Increase filter_length for higher attenuation.\n",
      "  iir_params=None, phase='zero', fir_window='hamming')\n"
     ]
    },
    {
     "name": "stdout",
     "output_type": "stream",
     "text": [
      "Attenuation at stop frequency 6.0Hz is only 17.0dB. Increase filter_length for higher attenuation.\n"
     ]
    },
    {
     "name": "stderr",
     "output_type": "stream",
     "text": [
      "<ipython-input-37-e77a7ff5d348>:39: RuntimeWarning: Attenuation at stop frequency 6.0Hz is only 17.0dB. Increase filter_length for higher attenuation.\n",
      "  iir_params=None, phase='zero', fir_window='hamming')\n"
     ]
    },
    {
     "name": "stdout",
     "output_type": "stream",
     "text": [
      "Attenuation at stop frequency 6.0Hz is only 17.0dB. Increase filter_length for higher attenuation.\n"
     ]
    },
    {
     "name": "stderr",
     "output_type": "stream",
     "text": [
      "<ipython-input-37-e77a7ff5d348>:39: RuntimeWarning: Attenuation at stop frequency 6.0Hz is only 17.0dB. Increase filter_length for higher attenuation.\n",
      "  iir_params=None, phase='zero', fir_window='hamming')\n"
     ]
    },
    {
     "name": "stdout",
     "output_type": "stream",
     "text": [
      "Attenuation at stop frequency 6.0Hz is only 17.0dB. Increase filter_length for higher attenuation.\n"
     ]
    },
    {
     "name": "stderr",
     "output_type": "stream",
     "text": [
      "<ipython-input-37-e77a7ff5d348>:39: RuntimeWarning: Attenuation at stop frequency 6.0Hz is only 17.0dB. Increase filter_length for higher attenuation.\n",
      "  iir_params=None, phase='zero', fir_window='hamming')\n"
     ]
    },
    {
     "name": "stdout",
     "output_type": "stream",
     "text": [
      "Attenuation at stop frequency 6.0Hz is only 17.0dB. Increase filter_length for higher attenuation.\n"
     ]
    },
    {
     "name": "stderr",
     "output_type": "stream",
     "text": [
      "<ipython-input-37-e77a7ff5d348>:39: RuntimeWarning: Attenuation at stop frequency 6.0Hz is only 17.0dB. Increase filter_length for higher attenuation.\n",
      "  iir_params=None, phase='zero', fir_window='hamming')\n"
     ]
    },
    {
     "name": "stdout",
     "output_type": "stream",
     "text": [
      "Attenuation at stop frequency 6.0Hz is only 17.0dB. Increase filter_length for higher attenuation.\n"
     ]
    },
    {
     "name": "stderr",
     "output_type": "stream",
     "text": [
      "<ipython-input-37-e77a7ff5d348>:39: RuntimeWarning: Attenuation at stop frequency 6.0Hz is only 17.0dB. Increase filter_length for higher attenuation.\n",
      "  iir_params=None, phase='zero', fir_window='hamming')\n"
     ]
    },
    {
     "name": "stdout",
     "output_type": "stream",
     "text": [
      "Attenuation at stop frequency 6.0Hz is only 17.0dB. Increase filter_length for higher attenuation.\n"
     ]
    },
    {
     "name": "stderr",
     "output_type": "stream",
     "text": [
      "<ipython-input-37-e77a7ff5d348>:39: RuntimeWarning: Attenuation at stop frequency 6.0Hz is only 17.0dB. Increase filter_length for higher attenuation.\n",
      "  iir_params=None, phase='zero', fir_window='hamming')\n"
     ]
    },
    {
     "name": "stdout",
     "output_type": "stream",
     "text": [
      "Attenuation at stop frequency 6.0Hz is only 17.0dB. Increase filter_length for higher attenuation.\n"
     ]
    },
    {
     "name": "stderr",
     "output_type": "stream",
     "text": [
      "<ipython-input-37-e77a7ff5d348>:39: RuntimeWarning: Attenuation at stop frequency 6.0Hz is only 17.0dB. Increase filter_length for higher attenuation.\n",
      "  iir_params=None, phase='zero', fir_window='hamming')\n"
     ]
    },
    {
     "name": "stdout",
     "output_type": "stream",
     "text": [
      "Attenuation at stop frequency 6.0Hz is only 17.0dB. Increase filter_length for higher attenuation.\n"
     ]
    },
    {
     "name": "stderr",
     "output_type": "stream",
     "text": [
      "<ipython-input-37-e77a7ff5d348>:39: RuntimeWarning: Attenuation at stop frequency 6.0Hz is only 17.0dB. Increase filter_length for higher attenuation.\n",
      "  iir_params=None, phase='zero', fir_window='hamming')\n"
     ]
    },
    {
     "name": "stdout",
     "output_type": "stream",
     "text": [
      "Attenuation at stop frequency 6.0Hz is only 17.0dB. Increase filter_length for higher attenuation.\n"
     ]
    },
    {
     "name": "stderr",
     "output_type": "stream",
     "text": [
      "<ipython-input-37-e77a7ff5d348>:39: RuntimeWarning: Attenuation at stop frequency 6.0Hz is only 17.0dB. Increase filter_length for higher attenuation.\n",
      "  iir_params=None, phase='zero', fir_window='hamming')\n"
     ]
    },
    {
     "name": "stdout",
     "output_type": "stream",
     "text": [
      "Attenuation at stop frequency 6.0Hz is only 17.0dB. Increase filter_length for higher attenuation.\n"
     ]
    },
    {
     "name": "stderr",
     "output_type": "stream",
     "text": [
      "<ipython-input-37-e77a7ff5d348>:39: RuntimeWarning: Attenuation at stop frequency 6.0Hz is only 17.0dB. Increase filter_length for higher attenuation.\n",
      "  iir_params=None, phase='zero', fir_window='hamming')\n"
     ]
    },
    {
     "name": "stdout",
     "output_type": "stream",
     "text": [
      "Attenuation at stop frequency 6.0Hz is only 17.0dB. Increase filter_length for higher attenuation.\n"
     ]
    },
    {
     "name": "stderr",
     "output_type": "stream",
     "text": [
      "<ipython-input-37-e77a7ff5d348>:39: RuntimeWarning: Attenuation at stop frequency 6.0Hz is only 17.0dB. Increase filter_length for higher attenuation.\n",
      "  iir_params=None, phase='zero', fir_window='hamming')\n"
     ]
    },
    {
     "name": "stdout",
     "output_type": "stream",
     "text": [
      "Attenuation at stop frequency 6.0Hz is only 17.0dB. Increase filter_length for higher attenuation.\n"
     ]
    },
    {
     "name": "stderr",
     "output_type": "stream",
     "text": [
      "<ipython-input-37-e77a7ff5d348>:39: RuntimeWarning: Attenuation at stop frequency 6.0Hz is only 17.0dB. Increase filter_length for higher attenuation.\n",
      "  iir_params=None, phase='zero', fir_window='hamming')\n"
     ]
    },
    {
     "name": "stdout",
     "output_type": "stream",
     "text": [
      "Attenuation at stop frequency 6.0Hz is only 17.0dB. Increase filter_length for higher attenuation.\n"
     ]
    },
    {
     "name": "stderr",
     "output_type": "stream",
     "text": [
      "<ipython-input-37-e77a7ff5d348>:39: RuntimeWarning: Attenuation at stop frequency 6.0Hz is only 17.0dB. Increase filter_length for higher attenuation.\n",
      "  iir_params=None, phase='zero', fir_window='hamming')\n"
     ]
    },
    {
     "name": "stdout",
     "output_type": "stream",
     "text": [
      "Attenuation at stop frequency 6.0Hz is only 17.0dB. Increase filter_length for higher attenuation.\n"
     ]
    },
    {
     "name": "stderr",
     "output_type": "stream",
     "text": [
      "<ipython-input-37-e77a7ff5d348>:39: RuntimeWarning: Attenuation at stop frequency 6.0Hz is only 17.0dB. Increase filter_length for higher attenuation.\n",
      "  iir_params=None, phase='zero', fir_window='hamming')\n"
     ]
    },
    {
     "name": "stdout",
     "output_type": "stream",
     "text": [
      "Attenuation at stop frequency 6.0Hz is only 17.0dB. Increase filter_length for higher attenuation.\n"
     ]
    },
    {
     "name": "stderr",
     "output_type": "stream",
     "text": [
      "<ipython-input-37-e77a7ff5d348>:39: RuntimeWarning: Attenuation at stop frequency 6.0Hz is only 17.0dB. Increase filter_length for higher attenuation.\n",
      "  iir_params=None, phase='zero', fir_window='hamming')\n"
     ]
    },
    {
     "name": "stdout",
     "output_type": "stream",
     "text": [
      "Attenuation at stop frequency 6.0Hz is only 17.0dB. Increase filter_length for higher attenuation.\n"
     ]
    },
    {
     "name": "stderr",
     "output_type": "stream",
     "text": [
      "<ipython-input-37-e77a7ff5d348>:39: RuntimeWarning: Attenuation at stop frequency 6.0Hz is only 17.0dB. Increase filter_length for higher attenuation.\n",
      "  iir_params=None, phase='zero', fir_window='hamming')\n"
     ]
    },
    {
     "name": "stdout",
     "output_type": "stream",
     "text": [
      "Attenuation at stop frequency 6.0Hz is only 17.0dB. Increase filter_length for higher attenuation.\n"
     ]
    },
    {
     "name": "stderr",
     "output_type": "stream",
     "text": [
      "<ipython-input-37-e77a7ff5d348>:39: RuntimeWarning: Attenuation at stop frequency 6.0Hz is only 17.0dB. Increase filter_length for higher attenuation.\n",
      "  iir_params=None, phase='zero', fir_window='hamming')\n"
     ]
    },
    {
     "name": "stdout",
     "output_type": "stream",
     "text": [
      "Attenuation at stop frequency 6.0Hz is only 17.0dB. Increase filter_length for higher attenuation.\n"
     ]
    },
    {
     "name": "stderr",
     "output_type": "stream",
     "text": [
      "<ipython-input-37-e77a7ff5d348>:39: RuntimeWarning: Attenuation at stop frequency 6.0Hz is only 17.0dB. Increase filter_length for higher attenuation.\n",
      "  iir_params=None, phase='zero', fir_window='hamming')\n"
     ]
    },
    {
     "name": "stdout",
     "output_type": "stream",
     "text": [
      "Attenuation at stop frequency 6.0Hz is only 17.0dB. Increase filter_length for higher attenuation.\n"
     ]
    },
    {
     "name": "stderr",
     "output_type": "stream",
     "text": [
      "<ipython-input-37-e77a7ff5d348>:39: RuntimeWarning: Attenuation at stop frequency 6.0Hz is only 17.0dB. Increase filter_length for higher attenuation.\n",
      "  iir_params=None, phase='zero', fir_window='hamming')\n"
     ]
    },
    {
     "name": "stdout",
     "output_type": "stream",
     "text": [
      "Attenuation at stop frequency 6.0Hz is only 17.0dB. Increase filter_length for higher attenuation.\n"
     ]
    },
    {
     "name": "stderr",
     "output_type": "stream",
     "text": [
      "<ipython-input-37-e77a7ff5d348>:39: RuntimeWarning: Attenuation at stop frequency 6.0Hz is only 17.0dB. Increase filter_length for higher attenuation.\n",
      "  iir_params=None, phase='zero', fir_window='hamming')\n"
     ]
    },
    {
     "name": "stdout",
     "output_type": "stream",
     "text": [
      "Attenuation at stop frequency 6.0Hz is only 17.0dB. Increase filter_length for higher attenuation.\n"
     ]
    },
    {
     "name": "stderr",
     "output_type": "stream",
     "text": [
      "<ipython-input-37-e77a7ff5d348>:39: RuntimeWarning: Attenuation at stop frequency 6.0Hz is only 17.0dB. Increase filter_length for higher attenuation.\n",
      "  iir_params=None, phase='zero', fir_window='hamming')\n"
     ]
    },
    {
     "name": "stdout",
     "output_type": "stream",
     "text": [
      "Attenuation at stop frequency 6.0Hz is only 17.0dB. Increase filter_length for higher attenuation.\n"
     ]
    },
    {
     "name": "stderr",
     "output_type": "stream",
     "text": [
      "<ipython-input-37-e77a7ff5d348>:39: RuntimeWarning: Attenuation at stop frequency 6.0Hz is only 17.0dB. Increase filter_length for higher attenuation.\n",
      "  iir_params=None, phase='zero', fir_window='hamming')\n"
     ]
    },
    {
     "name": "stdout",
     "output_type": "stream",
     "text": [
      "Attenuation at stop frequency 6.0Hz is only 17.0dB. Increase filter_length for higher attenuation.\n"
     ]
    },
    {
     "name": "stderr",
     "output_type": "stream",
     "text": [
      "<ipython-input-37-e77a7ff5d348>:39: RuntimeWarning: Attenuation at stop frequency 6.0Hz is only 17.0dB. Increase filter_length for higher attenuation.\n",
      "  iir_params=None, phase='zero', fir_window='hamming')\n"
     ]
    },
    {
     "name": "stdout",
     "output_type": "stream",
     "text": [
      "Attenuation at stop frequency 6.0Hz is only 17.0dB. Increase filter_length for higher attenuation.\n"
     ]
    },
    {
     "name": "stderr",
     "output_type": "stream",
     "text": [
      "<ipython-input-37-e77a7ff5d348>:39: RuntimeWarning: Attenuation at stop frequency 6.0Hz is only 17.0dB. Increase filter_length for higher attenuation.\n",
      "  iir_params=None, phase='zero', fir_window='hamming')\n"
     ]
    },
    {
     "name": "stdout",
     "output_type": "stream",
     "text": [
      "Attenuation at stop frequency 6.0Hz is only 17.0dB. Increase filter_length for higher attenuation.\n"
     ]
    },
    {
     "name": "stderr",
     "output_type": "stream",
     "text": [
      "<ipython-input-37-e77a7ff5d348>:39: RuntimeWarning: Attenuation at stop frequency 6.0Hz is only 17.0dB. Increase filter_length for higher attenuation.\n",
      "  iir_params=None, phase='zero', fir_window='hamming')\n"
     ]
    },
    {
     "name": "stdout",
     "output_type": "stream",
     "text": [
      "Attenuation at stop frequency 6.0Hz is only 17.0dB. Increase filter_length for higher attenuation.\n"
     ]
    },
    {
     "name": "stderr",
     "output_type": "stream",
     "text": [
      "<ipython-input-37-e77a7ff5d348>:39: RuntimeWarning: Attenuation at stop frequency 6.0Hz is only 17.0dB. Increase filter_length for higher attenuation.\n",
      "  iir_params=None, phase='zero', fir_window='hamming')\n"
     ]
    },
    {
     "name": "stdout",
     "output_type": "stream",
     "text": [
      "Attenuation at stop frequency 6.0Hz is only 17.0dB. Increase filter_length for higher attenuation.\n"
     ]
    },
    {
     "name": "stderr",
     "output_type": "stream",
     "text": [
      "<ipython-input-37-e77a7ff5d348>:39: RuntimeWarning: Attenuation at stop frequency 6.0Hz is only 17.0dB. Increase filter_length for higher attenuation.\n",
      "  iir_params=None, phase='zero', fir_window='hamming')\n"
     ]
    },
    {
     "name": "stdout",
     "output_type": "stream",
     "text": [
      "Attenuation at stop frequency 6.0Hz is only 17.0dB. Increase filter_length for higher attenuation.\n"
     ]
    },
    {
     "name": "stderr",
     "output_type": "stream",
     "text": [
      "<ipython-input-37-e77a7ff5d348>:39: RuntimeWarning: Attenuation at stop frequency 6.0Hz is only 17.0dB. Increase filter_length for higher attenuation.\n",
      "  iir_params=None, phase='zero', fir_window='hamming')\n"
     ]
    },
    {
     "name": "stdout",
     "output_type": "stream",
     "text": [
      "Attenuation at stop frequency 6.0Hz is only 17.0dB. Increase filter_length for higher attenuation.\n"
     ]
    },
    {
     "name": "stderr",
     "output_type": "stream",
     "text": [
      "<ipython-input-37-e77a7ff5d348>:39: RuntimeWarning: Attenuation at stop frequency 6.0Hz is only 17.0dB. Increase filter_length for higher attenuation.\n",
      "  iir_params=None, phase='zero', fir_window='hamming')\n"
     ]
    },
    {
     "name": "stdout",
     "output_type": "stream",
     "text": [
      "Attenuation at stop frequency 6.0Hz is only 17.0dB. Increase filter_length for higher attenuation.\n"
     ]
    },
    {
     "name": "stderr",
     "output_type": "stream",
     "text": [
      "<ipython-input-37-e77a7ff5d348>:39: RuntimeWarning: Attenuation at stop frequency 6.0Hz is only 17.0dB. Increase filter_length for higher attenuation.\n",
      "  iir_params=None, phase='zero', fir_window='hamming')\n"
     ]
    },
    {
     "name": "stdout",
     "output_type": "stream",
     "text": [
      "Attenuation at stop frequency 6.0Hz is only 17.0dB. Increase filter_length for higher attenuation.\n"
     ]
    },
    {
     "name": "stderr",
     "output_type": "stream",
     "text": [
      "<ipython-input-37-e77a7ff5d348>:39: RuntimeWarning: Attenuation at stop frequency 6.0Hz is only 17.0dB. Increase filter_length for higher attenuation.\n",
      "  iir_params=None, phase='zero', fir_window='hamming')\n"
     ]
    },
    {
     "name": "stdout",
     "output_type": "stream",
     "text": [
      "Attenuation at stop frequency 6.0Hz is only 17.0dB. Increase filter_length for higher attenuation.\n"
     ]
    },
    {
     "name": "stderr",
     "output_type": "stream",
     "text": [
      "<ipython-input-37-e77a7ff5d348>:39: RuntimeWarning: Attenuation at stop frequency 6.0Hz is only 17.0dB. Increase filter_length for higher attenuation.\n",
      "  iir_params=None, phase='zero', fir_window='hamming')\n"
     ]
    },
    {
     "name": "stdout",
     "output_type": "stream",
     "text": [
      "Attenuation at stop frequency 6.0Hz is only 17.0dB. Increase filter_length for higher attenuation.\n"
     ]
    },
    {
     "name": "stderr",
     "output_type": "stream",
     "text": [
      "<ipython-input-37-e77a7ff5d348>:39: RuntimeWarning: Attenuation at stop frequency 6.0Hz is only 17.0dB. Increase filter_length for higher attenuation.\n",
      "  iir_params=None, phase='zero', fir_window='hamming')\n"
     ]
    },
    {
     "name": "stdout",
     "output_type": "stream",
     "text": [
      "Attenuation at stop frequency 6.0Hz is only 17.0dB. Increase filter_length for higher attenuation.\n"
     ]
    },
    {
     "name": "stderr",
     "output_type": "stream",
     "text": [
      "<ipython-input-37-e77a7ff5d348>:39: RuntimeWarning: Attenuation at stop frequency 6.0Hz is only 17.0dB. Increase filter_length for higher attenuation.\n",
      "  iir_params=None, phase='zero', fir_window='hamming')\n"
     ]
    },
    {
     "name": "stdout",
     "output_type": "stream",
     "text": [
      "Attenuation at stop frequency 6.0Hz is only 17.0dB. Increase filter_length for higher attenuation.\n"
     ]
    },
    {
     "name": "stderr",
     "output_type": "stream",
     "text": [
      "<ipython-input-37-e77a7ff5d348>:39: RuntimeWarning: Attenuation at stop frequency 6.0Hz is only 17.0dB. Increase filter_length for higher attenuation.\n",
      "  iir_params=None, phase='zero', fir_window='hamming')\n"
     ]
    },
    {
     "name": "stdout",
     "output_type": "stream",
     "text": [
      "Attenuation at stop frequency 6.0Hz is only 17.0dB. Increase filter_length for higher attenuation.\n"
     ]
    },
    {
     "name": "stderr",
     "output_type": "stream",
     "text": [
      "<ipython-input-37-e77a7ff5d348>:39: RuntimeWarning: Attenuation at stop frequency 6.0Hz is only 17.0dB. Increase filter_length for higher attenuation.\n",
      "  iir_params=None, phase='zero', fir_window='hamming')\n"
     ]
    },
    {
     "name": "stdout",
     "output_type": "stream",
     "text": [
      "Attenuation at stop frequency 6.0Hz is only 17.0dB. Increase filter_length for higher attenuation.\n"
     ]
    },
    {
     "name": "stderr",
     "output_type": "stream",
     "text": [
      "<ipython-input-37-e77a7ff5d348>:39: RuntimeWarning: Attenuation at stop frequency 6.0Hz is only 17.0dB. Increase filter_length for higher attenuation.\n",
      "  iir_params=None, phase='zero', fir_window='hamming')\n"
     ]
    },
    {
     "name": "stdout",
     "output_type": "stream",
     "text": [
      "Attenuation at stop frequency 6.0Hz is only 17.0dB. Increase filter_length for higher attenuation.\n"
     ]
    },
    {
     "name": "stderr",
     "output_type": "stream",
     "text": [
      "<ipython-input-37-e77a7ff5d348>:39: RuntimeWarning: Attenuation at stop frequency 6.0Hz is only 17.0dB. Increase filter_length for higher attenuation.\n",
      "  iir_params=None, phase='zero', fir_window='hamming')\n"
     ]
    },
    {
     "name": "stdout",
     "output_type": "stream",
     "text": [
      "Attenuation at stop frequency 6.0Hz is only 17.0dB. Increase filter_length for higher attenuation.\n"
     ]
    },
    {
     "name": "stderr",
     "output_type": "stream",
     "text": [
      "<ipython-input-37-e77a7ff5d348>:39: RuntimeWarning: Attenuation at stop frequency 6.0Hz is only 17.0dB. Increase filter_length for higher attenuation.\n",
      "  iir_params=None, phase='zero', fir_window='hamming')\n"
     ]
    },
    {
     "name": "stdout",
     "output_type": "stream",
     "text": [
      "Attenuation at stop frequency 6.0Hz is only 17.0dB. Increase filter_length for higher attenuation.\n"
     ]
    },
    {
     "name": "stderr",
     "output_type": "stream",
     "text": [
      "<ipython-input-37-e77a7ff5d348>:39: RuntimeWarning: Attenuation at stop frequency 6.0Hz is only 17.0dB. Increase filter_length for higher attenuation.\n",
      "  iir_params=None, phase='zero', fir_window='hamming')\n"
     ]
    },
    {
     "name": "stdout",
     "output_type": "stream",
     "text": [
      "Attenuation at stop frequency 6.0Hz is only 17.0dB. Increase filter_length for higher attenuation.\n"
     ]
    },
    {
     "name": "stderr",
     "output_type": "stream",
     "text": [
      "<ipython-input-37-e77a7ff5d348>:39: RuntimeWarning: Attenuation at stop frequency 6.0Hz is only 17.0dB. Increase filter_length for higher attenuation.\n",
      "  iir_params=None, phase='zero', fir_window='hamming')\n"
     ]
    },
    {
     "name": "stdout",
     "output_type": "stream",
     "text": [
      "Attenuation at stop frequency 6.0Hz is only 17.0dB. Increase filter_length for higher attenuation.\n"
     ]
    },
    {
     "name": "stderr",
     "output_type": "stream",
     "text": [
      "<ipython-input-37-e77a7ff5d348>:39: RuntimeWarning: Attenuation at stop frequency 6.0Hz is only 17.0dB. Increase filter_length for higher attenuation.\n",
      "  iir_params=None, phase='zero', fir_window='hamming')\n"
     ]
    },
    {
     "name": "stdout",
     "output_type": "stream",
     "text": [
      "Attenuation at stop frequency 6.0Hz is only 17.0dB. Increase filter_length for higher attenuation.\n"
     ]
    },
    {
     "name": "stderr",
     "output_type": "stream",
     "text": [
      "<ipython-input-37-e77a7ff5d348>:39: RuntimeWarning: Attenuation at stop frequency 6.0Hz is only 17.0dB. Increase filter_length for higher attenuation.\n",
      "  iir_params=None, phase='zero', fir_window='hamming')\n"
     ]
    },
    {
     "name": "stdout",
     "output_type": "stream",
     "text": [
      "Attenuation at stop frequency 6.0Hz is only 17.0dB. Increase filter_length for higher attenuation.\n"
     ]
    },
    {
     "name": "stderr",
     "output_type": "stream",
     "text": [
      "<ipython-input-37-e77a7ff5d348>:39: RuntimeWarning: Attenuation at stop frequency 6.0Hz is only 17.0dB. Increase filter_length for higher attenuation.\n",
      "  iir_params=None, phase='zero', fir_window='hamming')\n"
     ]
    },
    {
     "name": "stdout",
     "output_type": "stream",
     "text": [
      "Attenuation at stop frequency 6.0Hz is only 17.0dB. Increase filter_length for higher attenuation.\n"
     ]
    },
    {
     "name": "stderr",
     "output_type": "stream",
     "text": [
      "<ipython-input-37-e77a7ff5d348>:39: RuntimeWarning: Attenuation at stop frequency 6.0Hz is only 17.0dB. Increase filter_length for higher attenuation.\n",
      "  iir_params=None, phase='zero', fir_window='hamming')\n"
     ]
    },
    {
     "name": "stdout",
     "output_type": "stream",
     "text": [
      "Attenuation at stop frequency 6.0Hz is only 17.0dB. Increase filter_length for higher attenuation.\n"
     ]
    },
    {
     "name": "stderr",
     "output_type": "stream",
     "text": [
      "<ipython-input-37-e77a7ff5d348>:39: RuntimeWarning: Attenuation at stop frequency 6.0Hz is only 17.0dB. Increase filter_length for higher attenuation.\n",
      "  iir_params=None, phase='zero', fir_window='hamming')\n"
     ]
    },
    {
     "name": "stdout",
     "output_type": "stream",
     "text": [
      "Attenuation at stop frequency 6.0Hz is only 17.0dB. Increase filter_length for higher attenuation.\n"
     ]
    },
    {
     "name": "stderr",
     "output_type": "stream",
     "text": [
      "<ipython-input-37-e77a7ff5d348>:39: RuntimeWarning: Attenuation at stop frequency 6.0Hz is only 17.0dB. Increase filter_length for higher attenuation.\n",
      "  iir_params=None, phase='zero', fir_window='hamming')\n"
     ]
    },
    {
     "name": "stdout",
     "output_type": "stream",
     "text": [
      "Attenuation at stop frequency 6.0Hz is only 17.0dB. Increase filter_length for higher attenuation.\n"
     ]
    },
    {
     "name": "stderr",
     "output_type": "stream",
     "text": [
      "<ipython-input-37-e77a7ff5d348>:39: RuntimeWarning: Attenuation at stop frequency 6.0Hz is only 17.0dB. Increase filter_length for higher attenuation.\n",
      "  iir_params=None, phase='zero', fir_window='hamming')\n"
     ]
    },
    {
     "name": "stdout",
     "output_type": "stream",
     "text": [
      "Attenuation at stop frequency 6.0Hz is only 17.0dB. Increase filter_length for higher attenuation.\n"
     ]
    },
    {
     "name": "stderr",
     "output_type": "stream",
     "text": [
      "<ipython-input-37-e77a7ff5d348>:39: RuntimeWarning: Attenuation at stop frequency 6.0Hz is only 17.0dB. Increase filter_length for higher attenuation.\n",
      "  iir_params=None, phase='zero', fir_window='hamming')\n"
     ]
    },
    {
     "name": "stdout",
     "output_type": "stream",
     "text": [
      "Attenuation at stop frequency 6.0Hz is only 17.0dB. Increase filter_length for higher attenuation.\n"
     ]
    },
    {
     "name": "stderr",
     "output_type": "stream",
     "text": [
      "<ipython-input-37-e77a7ff5d348>:39: RuntimeWarning: Attenuation at stop frequency 6.0Hz is only 17.0dB. Increase filter_length for higher attenuation.\n",
      "  iir_params=None, phase='zero', fir_window='hamming')\n"
     ]
    },
    {
     "name": "stdout",
     "output_type": "stream",
     "text": [
      "Attenuation at stop frequency 6.0Hz is only 17.0dB. Increase filter_length for higher attenuation.\n"
     ]
    },
    {
     "name": "stderr",
     "output_type": "stream",
     "text": [
      "<ipython-input-37-e77a7ff5d348>:39: RuntimeWarning: Attenuation at stop frequency 6.0Hz is only 17.0dB. Increase filter_length for higher attenuation.\n",
      "  iir_params=None, phase='zero', fir_window='hamming')\n"
     ]
    },
    {
     "name": "stdout",
     "output_type": "stream",
     "text": [
      "Attenuation at stop frequency 6.0Hz is only 17.0dB. Increase filter_length for higher attenuation.\n"
     ]
    },
    {
     "name": "stderr",
     "output_type": "stream",
     "text": [
      "<ipython-input-37-e77a7ff5d348>:39: RuntimeWarning: Attenuation at stop frequency 6.0Hz is only 17.0dB. Increase filter_length for higher attenuation.\n",
      "  iir_params=None, phase='zero', fir_window='hamming')\n"
     ]
    },
    {
     "name": "stdout",
     "output_type": "stream",
     "text": [
      "Attenuation at stop frequency 6.0Hz is only 17.0dB. Increase filter_length for higher attenuation.\n"
     ]
    },
    {
     "name": "stderr",
     "output_type": "stream",
     "text": [
      "<ipython-input-37-e77a7ff5d348>:39: RuntimeWarning: Attenuation at stop frequency 6.0Hz is only 17.0dB. Increase filter_length for higher attenuation.\n",
      "  iir_params=None, phase='zero', fir_window='hamming')\n"
     ]
    },
    {
     "name": "stdout",
     "output_type": "stream",
     "text": [
      "Attenuation at stop frequency 6.0Hz is only 17.0dB. Increase filter_length for higher attenuation.\n"
     ]
    },
    {
     "name": "stderr",
     "output_type": "stream",
     "text": [
      "<ipython-input-37-e77a7ff5d348>:39: RuntimeWarning: Attenuation at stop frequency 6.0Hz is only 17.0dB. Increase filter_length for higher attenuation.\n",
      "  iir_params=None, phase='zero', fir_window='hamming')\n"
     ]
    },
    {
     "name": "stdout",
     "output_type": "stream",
     "text": [
      "Attenuation at stop frequency 6.0Hz is only 17.0dB. Increase filter_length for higher attenuation.\n"
     ]
    },
    {
     "name": "stderr",
     "output_type": "stream",
     "text": [
      "<ipython-input-37-e77a7ff5d348>:39: RuntimeWarning: Attenuation at stop frequency 6.0Hz is only 17.0dB. Increase filter_length for higher attenuation.\n",
      "  iir_params=None, phase='zero', fir_window='hamming')\n"
     ]
    },
    {
     "name": "stdout",
     "output_type": "stream",
     "text": [
      "Attenuation at stop frequency 6.0Hz is only 17.0dB. Increase filter_length for higher attenuation.\n"
     ]
    },
    {
     "name": "stderr",
     "output_type": "stream",
     "text": [
      "<ipython-input-37-e77a7ff5d348>:39: RuntimeWarning: Attenuation at stop frequency 6.0Hz is only 17.0dB. Increase filter_length for higher attenuation.\n",
      "  iir_params=None, phase='zero', fir_window='hamming')\n"
     ]
    },
    {
     "name": "stdout",
     "output_type": "stream",
     "text": [
      "Attenuation at stop frequency 6.0Hz is only 17.0dB. Increase filter_length for higher attenuation.\n"
     ]
    },
    {
     "name": "stderr",
     "output_type": "stream",
     "text": [
      "<ipython-input-37-e77a7ff5d348>:39: RuntimeWarning: Attenuation at stop frequency 6.0Hz is only 17.0dB. Increase filter_length for higher attenuation.\n",
      "  iir_params=None, phase='zero', fir_window='hamming')\n"
     ]
    },
    {
     "name": "stdout",
     "output_type": "stream",
     "text": [
      "Attenuation at stop frequency 6.0Hz is only 17.0dB. Increase filter_length for higher attenuation.\n"
     ]
    },
    {
     "name": "stderr",
     "output_type": "stream",
     "text": [
      "<ipython-input-37-e77a7ff5d348>:39: RuntimeWarning: Attenuation at stop frequency 6.0Hz is only 17.0dB. Increase filter_length for higher attenuation.\n",
      "  iir_params=None, phase='zero', fir_window='hamming')\n"
     ]
    },
    {
     "name": "stdout",
     "output_type": "stream",
     "text": [
      "Attenuation at stop frequency 6.0Hz is only 17.0dB. Increase filter_length for higher attenuation.\n"
     ]
    },
    {
     "name": "stderr",
     "output_type": "stream",
     "text": [
      "<ipython-input-37-e77a7ff5d348>:39: RuntimeWarning: Attenuation at stop frequency 6.0Hz is only 17.0dB. Increase filter_length for higher attenuation.\n",
      "  iir_params=None, phase='zero', fir_window='hamming')\n"
     ]
    },
    {
     "name": "stdout",
     "output_type": "stream",
     "text": [
      "Attenuation at stop frequency 6.0Hz is only 17.0dB. Increase filter_length for higher attenuation.\n"
     ]
    },
    {
     "name": "stderr",
     "output_type": "stream",
     "text": [
      "<ipython-input-37-e77a7ff5d348>:39: RuntimeWarning: Attenuation at stop frequency 6.0Hz is only 17.0dB. Increase filter_length for higher attenuation.\n",
      "  iir_params=None, phase='zero', fir_window='hamming')\n"
     ]
    },
    {
     "name": "stdout",
     "output_type": "stream",
     "text": [
      "Attenuation at stop frequency 6.0Hz is only 17.0dB. Increase filter_length for higher attenuation.\n"
     ]
    },
    {
     "name": "stderr",
     "output_type": "stream",
     "text": [
      "<ipython-input-37-e77a7ff5d348>:39: RuntimeWarning: Attenuation at stop frequency 6.0Hz is only 17.0dB. Increase filter_length for higher attenuation.\n",
      "  iir_params=None, phase='zero', fir_window='hamming')\n"
     ]
    },
    {
     "name": "stdout",
     "output_type": "stream",
     "text": [
      "Attenuation at stop frequency 6.0Hz is only 17.0dB. Increase filter_length for higher attenuation.\n"
     ]
    },
    {
     "name": "stderr",
     "output_type": "stream",
     "text": [
      "<ipython-input-37-e77a7ff5d348>:39: RuntimeWarning: Attenuation at stop frequency 6.0Hz is only 17.0dB. Increase filter_length for higher attenuation.\n",
      "  iir_params=None, phase='zero', fir_window='hamming')\n"
     ]
    },
    {
     "name": "stdout",
     "output_type": "stream",
     "text": [
      "Attenuation at stop frequency 6.0Hz is only 17.0dB. Increase filter_length for higher attenuation.\n"
     ]
    },
    {
     "name": "stderr",
     "output_type": "stream",
     "text": [
      "<ipython-input-37-e77a7ff5d348>:39: RuntimeWarning: Attenuation at stop frequency 6.0Hz is only 17.0dB. Increase filter_length for higher attenuation.\n",
      "  iir_params=None, phase='zero', fir_window='hamming')\n"
     ]
    },
    {
     "name": "stdout",
     "output_type": "stream",
     "text": [
      "Attenuation at stop frequency 6.0Hz is only 17.0dB. Increase filter_length for higher attenuation.\n"
     ]
    },
    {
     "name": "stderr",
     "output_type": "stream",
     "text": [
      "<ipython-input-37-e77a7ff5d348>:39: RuntimeWarning: Attenuation at stop frequency 6.0Hz is only 17.0dB. Increase filter_length for higher attenuation.\n",
      "  iir_params=None, phase='zero', fir_window='hamming')\n"
     ]
    },
    {
     "name": "stdout",
     "output_type": "stream",
     "text": [
      "Attenuation at stop frequency 6.0Hz is only 17.0dB. Increase filter_length for higher attenuation.\n"
     ]
    },
    {
     "name": "stderr",
     "output_type": "stream",
     "text": [
      "<ipython-input-37-e77a7ff5d348>:39: RuntimeWarning: Attenuation at stop frequency 6.0Hz is only 17.0dB. Increase filter_length for higher attenuation.\n",
      "  iir_params=None, phase='zero', fir_window='hamming')\n"
     ]
    },
    {
     "name": "stdout",
     "output_type": "stream",
     "text": [
      "Attenuation at stop frequency 6.0Hz is only 17.0dB. Increase filter_length for higher attenuation.\n"
     ]
    },
    {
     "name": "stderr",
     "output_type": "stream",
     "text": [
      "<ipython-input-37-e77a7ff5d348>:39: RuntimeWarning: Attenuation at stop frequency 6.0Hz is only 17.0dB. Increase filter_length for higher attenuation.\n",
      "  iir_params=None, phase='zero', fir_window='hamming')\n"
     ]
    },
    {
     "name": "stdout",
     "output_type": "stream",
     "text": [
      "Attenuation at stop frequency 6.0Hz is only 17.0dB. Increase filter_length for higher attenuation.\n"
     ]
    },
    {
     "name": "stderr",
     "output_type": "stream",
     "text": [
      "<ipython-input-37-e77a7ff5d348>:39: RuntimeWarning: Attenuation at stop frequency 6.0Hz is only 17.0dB. Increase filter_length for higher attenuation.\n",
      "  iir_params=None, phase='zero', fir_window='hamming')\n"
     ]
    },
    {
     "name": "stdout",
     "output_type": "stream",
     "text": [
      "Attenuation at stop frequency 6.0Hz is only 17.0dB. Increase filter_length for higher attenuation.\n"
     ]
    },
    {
     "name": "stderr",
     "output_type": "stream",
     "text": [
      "<ipython-input-37-e77a7ff5d348>:39: RuntimeWarning: Attenuation at stop frequency 6.0Hz is only 17.0dB. Increase filter_length for higher attenuation.\n",
      "  iir_params=None, phase='zero', fir_window='hamming')\n"
     ]
    },
    {
     "name": "stdout",
     "output_type": "stream",
     "text": [
      "Creating Feature Matrix takes 139.28 seconds\n",
      "X.shape:  (102, 6)\n",
      "y.shape:  (102,)\n"
     ]
    }
   ],
   "source": [
    "filter_len = int((trial_len + rest_len) * freq_s)\n",
    "\n",
    "t0 = time.time()\n",
    "\n",
    "for t, trial_start in enumerate(exp_dict['trial']):    # t: iterate over trials\n",
    "\n",
    "    ### CROP ##########################################################################\n",
    "    # trial idx to time point\n",
    "    trial_stop = trial_start + (trial_len * freq_s)\n",
    "    trial_start_t = trial_start / freq_s\n",
    "    trial_stop_t = (trial_start / freq_s + trial_len) \n",
    "    \n",
    "    # Crop Rest window\n",
    "    tmin_rest = trial_start_t - rest_len\n",
    "    tmax_rest = trial_start_t\n",
    "    raw_temp = raw.copy()\n",
    "    raw_rest = raw_temp.crop(tmin=tmin_rest, tmax=tmax_rest)\n",
    "    # Crop ERD (alpha) window\n",
    "    tmin_erd = trial_start_t + erd_start\n",
    "    tmax_erd = trial_start_t + erd_start + erd_len\n",
    "    raw_temp = raw.copy()\n",
    "    raw_erd = raw_temp.crop(tmin=tmin_erd, tmax=tmax_erd)\n",
    "    # Crop ERS (beta) window\n",
    "    tmin_ers = trial_start_t + ers_start\n",
    "    tmax_ers = trial_start_t + ers_start + ers_len\n",
    "    raw_temp = raw.copy()\n",
    "    raw_ers = raw_temp.crop(tmin=tmin_ers, tmax=tmax_ers)\n",
    "    \n",
    "    \n",
    "    ### FILTER croped windows ##########################################################\n",
    "    \n",
    "    # Filter Rest\n",
    "    filter_len_rest = int((tmax_rest - tmin_rest) * freq_s)\n",
    "    # alpha\n",
    "    raw_temp = raw_rest.copy()\n",
    "    raw_rest_a = raw_temp.filter(l_freq=a_band[0], h_freq=a_band[1], \n",
    "                                 filter_length=filter_len_rest, l_trans_bandwidth='auto',\n",
    "                                 h_trans_bandwidth='auto', n_jobs=1, method='fir', \n",
    "                                 iir_params=None, phase='zero', fir_window='hamming')\n",
    "    # beta\n",
    "    raw_temp = raw_rest.copy()\n",
    "    raw_rest_b = raw_temp.filter(l_freq=b_band[0], h_freq=b_band[1], \n",
    "                                 filter_length=filter_len_rest, l_trans_bandwidth='auto',\n",
    "                                 h_trans_bandwidth='auto', n_jobs=1, method='fir', \n",
    "                                 iir_params=None, phase='zero', fir_window='hamming')\n",
    "\n",
    "    # Filter ERD\n",
    "    filter_len_erd = int((tmax_erd - tmin_erd) * freq_s)\n",
    "    raw_temp = raw_erd.copy()\n",
    "    raw_erd_a = raw_temp.filter(l_freq=a_band[0], h_freq=a_band[1], \n",
    "                                filter_length=filter_len_erd, l_trans_bandwidth='auto',\n",
    "                                h_trans_bandwidth='auto', n_jobs=1, method='fir', \n",
    "                                iir_params=None, phase='zero', fir_window='hamming')\n",
    "\n",
    "    # Filter ERS\n",
    "    filter_len_ers = int((tmax_ers - tmin_ers) * freq_s)\n",
    "\n",
    "    raw_temp = raw_ers.copy()\n",
    "    raw_ers_b = raw_temp.filter(l_freq=b_band[0], h_freq=b_band[1], \n",
    "                                filter_length=filter_len_rest, l_trans_bandwidth='auto',\n",
    "                                h_trans_bandwidth='auto', n_jobs=1, method='fir', \n",
    "                                iir_params=None, phase='zero', fir_window='hamming')\n",
    "    \n",
    "    \n",
    "    ### Power ############################################################################\n",
    "    \n",
    "    # Paramters\n",
    "    f_min_rest_a, f_max_rest_a = 0,  20\n",
    "    f_min_rest_a, f_max_rest_a = 10, 30\n",
    "    f_min_erd,    f_max_erd    = 0,  20\n",
    "    f_min_ers,    f_max_ers    = 10, 30\n",
    "\n",
    "\n",
    "\n",
    "    \n",
    "    # PSD for Rest (alpha)\n",
    "    raw_temp = raw_rest_a.copy()\n",
    "    psds_rest_a, freqs_rest_a = psd_multitaper(raw_temp, low_bias=True, \n",
    "                                               tmin=0, tmax=rest_len, \n",
    "                                               fmin=f_min_erd, fmax=f_max_erd, proj=True)\n",
    "\n",
    "    # PSD for Rest (beta)\n",
    "    raw_temp = raw_rest_b.copy()\n",
    "    psds_rest_b, freqs_rest_b = psd_multitaper(raw_temp, low_bias=True, \n",
    "                                               tmin=0, tmax=rest_len, \n",
    "                                               fmin=f_min_erd, fmax=f_max_erd, proj=True)\n",
    "    \n",
    "    # PSD for ERD\n",
    "    raw_temp = raw_erd_a.copy()\n",
    "    psds_erd, freqs_erd = psd_multitaper(raw_temp, low_bias=True, \n",
    "                                         tmin=0, tmax=erd_len, \n",
    "                                         fmin=f_min_erd, fmax=f_max_erd, proj=True)\n",
    "    \n",
    "    # PSD for ERS\n",
    "    raw_temp = raw_ers_b.copy()\n",
    "    psds_ers, freqs_ers = psd_multitaper(raw_temp, low_bias=True, \n",
    "                                         tmin=0, tmax=ers_len, \n",
    "                                         fmin=f_min_ers, fmax=f_max_ers, proj=True)\n",
    "\n",
    "    # Power for Rest (alpha)\n",
    "    powers_rest_a = np.zeros(len(psds_rest_a))\n",
    "    for i, psd in enumerate(psds_rest_a):\n",
    "        powers_rest_a[i] = scipy.integrate.simps(psd)\n",
    "\n",
    "    # Power for Rest (beta)\n",
    "    powers_rest_b = np.zeros(len(psds_rest_b))\n",
    "    for i, psd in enumerate(psds_rest_b):\n",
    "        powers_rest_b[i] = scipy.integrate.simps(psd)\n",
    "        \n",
    "    # Power for each channel in ERD \n",
    "    powers_erd = np.zeros(len(psds_erd))\n",
    "    for i, psd in enumerate(psds_erd):\n",
    "        powers_erd[i] = scipy.integrate.simps(psd)\n",
    "        \n",
    "    # Power for each channel in ERS\n",
    "    powers_ers = np.zeros(len(psds_ers))\n",
    "    for i, psd in enumerate(psds_ers):\n",
    "        powers_ers[i] = scipy.integrate.simps(psd)\n",
    "\n",
    "    # ERD\n",
    "    erd = (powers_erd - powers_rest_a) / powers_rest_a * 100\n",
    "    \n",
    "    # ERS\n",
    "    ers = (powers_ers - powers_rest_b) / powers_rest_b * 100\n",
    "\n",
    "            \n",
    "    ### Add to Feature Matrix #############################################################\n",
    "        \n",
    "    # init row\n",
    "    erd_len = len(erd) + len(ers)\n",
    "    row = np.zeros(erd_len)\n",
    "\n",
    "    # add erps new row\n",
    "    for c in range(len(erd)):    # c: iterate over channels\n",
    "        row[c] = erd[c]\n",
    "        row[c + len(ers)] = ers[c]\n",
    "        \n",
    "    # add row to feat mat\n",
    "    X[t, :] = row\n",
    "            \n",
    "    # add label to y\n",
    "    y[t] = exp_dict['y'][t]\n",
    "               \n",
    "    \n",
    "print(\"Creating Feature Matrix takes {:0.2f} seconds\".format(time.time()-t0))\n",
    "print(\"X.shape: \", X.shape)\n",
    "print(\"y.shape: \", y.shape)"
   ]
  },
  {
   "cell_type": "code",
   "execution_count": null,
   "metadata": {
    "collapsed": false
   },
   "outputs": [],
   "source": []
  },
  {
   "cell_type": "code",
   "execution_count": null,
   "metadata": {
    "collapsed": false
   },
   "outputs": [],
   "source": []
  },
  {
   "cell_type": "code",
   "execution_count": null,
   "metadata": {
    "collapsed": false
   },
   "outputs": [],
   "source": []
  },
  {
   "cell_type": "code",
   "execution_count": null,
   "metadata": {
    "collapsed": false
   },
   "outputs": [],
   "source": []
  },
  {
   "cell_type": "code",
   "execution_count": 30,
   "metadata": {
    "collapsed": true
   },
   "outputs": [],
   "source": [
    "np.save('X_feat_mat_erp.npy', X)"
   ]
  },
  {
   "cell_type": "code",
   "execution_count": 31,
   "metadata": {
    "collapsed": true
   },
   "outputs": [],
   "source": [
    "np.save('y_label_vect_erp.npy', y)"
   ]
  },
  {
   "cell_type": "code",
   "execution_count": null,
   "metadata": {
    "collapsed": true
   },
   "outputs": [],
   "source": []
  }
 ],
 "metadata": {
  "kernelspec": {
   "display_name": "Python 3",
   "language": "python",
   "name": "python3"
  },
  "language_info": {
   "codemirror_mode": {
    "name": "ipython",
    "version": 3
   },
   "file_extension": ".py",
   "mimetype": "text/x-python",
   "name": "python",
   "nbconvert_exporter": "python",
   "pygments_lexer": "ipython3",
   "version": "3.5.2"
  }
 },
 "nbformat": 4,
 "nbformat_minor": 2
}
